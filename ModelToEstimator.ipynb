{
 "cells": [
  {
   "cell_type": "code",
   "execution_count": 2,
   "id": "5663369d",
   "metadata": {},
   "outputs": [],
   "source": [
    "import tensorflow as tf\n",
    "import numpy as np\n",
    "import pandas as pd\n",
    "from sklearn.model_selection import train_test_split\n",
    "from sklearn.preprocessing import StandardScaler"
   ]
  },
  {
   "cell_type": "markdown",
   "id": "c8559d56",
   "metadata": {},
   "source": [
    "### Loading Data\n",
    "We will use the white wine quality that you have used previously. The data is downloaded to your project from the UCI Machine Learning Repository using the following code:"
   ]
  },
  {
   "cell_type": "code",
   "execution_count": 4,
   "id": "415d13d5",
   "metadata": {},
   "outputs": [
    {
     "data": {
      "text/html": [
       "<div>\n",
       "<style scoped>\n",
       "    .dataframe tbody tr th:only-of-type {\n",
       "        vertical-align: middle;\n",
       "    }\n",
       "\n",
       "    .dataframe tbody tr th {\n",
       "        vertical-align: top;\n",
       "    }\n",
       "\n",
       "    .dataframe thead th {\n",
       "        text-align: right;\n",
       "    }\n",
       "</style>\n",
       "<table border=\"1\" class=\"dataframe\">\n",
       "  <thead>\n",
       "    <tr style=\"text-align: right;\">\n",
       "      <th></th>\n",
       "      <th>fixed acidity</th>\n",
       "      <th>volatile acidity</th>\n",
       "      <th>citric acid</th>\n",
       "      <th>residual sugar</th>\n",
       "      <th>chlorides</th>\n",
       "      <th>free sulfur dioxide</th>\n",
       "      <th>total sulfur dioxide</th>\n",
       "      <th>density</th>\n",
       "      <th>pH</th>\n",
       "      <th>sulphates</th>\n",
       "      <th>alcohol</th>\n",
       "      <th>quality</th>\n",
       "    </tr>\n",
       "  </thead>\n",
       "  <tbody>\n",
       "    <tr>\n",
       "      <th>0</th>\n",
       "      <td>7.0</td>\n",
       "      <td>0.27</td>\n",
       "      <td>0.36</td>\n",
       "      <td>20.7</td>\n",
       "      <td>0.045</td>\n",
       "      <td>45.0</td>\n",
       "      <td>170.0</td>\n",
       "      <td>1.0010</td>\n",
       "      <td>3.00</td>\n",
       "      <td>0.45</td>\n",
       "      <td>8.8</td>\n",
       "      <td>6</td>\n",
       "    </tr>\n",
       "    <tr>\n",
       "      <th>1</th>\n",
       "      <td>6.3</td>\n",
       "      <td>0.30</td>\n",
       "      <td>0.34</td>\n",
       "      <td>1.6</td>\n",
       "      <td>0.049</td>\n",
       "      <td>14.0</td>\n",
       "      <td>132.0</td>\n",
       "      <td>0.9940</td>\n",
       "      <td>3.30</td>\n",
       "      <td>0.49</td>\n",
       "      <td>9.5</td>\n",
       "      <td>6</td>\n",
       "    </tr>\n",
       "    <tr>\n",
       "      <th>2</th>\n",
       "      <td>8.1</td>\n",
       "      <td>0.28</td>\n",
       "      <td>0.40</td>\n",
       "      <td>6.9</td>\n",
       "      <td>0.050</td>\n",
       "      <td>30.0</td>\n",
       "      <td>97.0</td>\n",
       "      <td>0.9951</td>\n",
       "      <td>3.26</td>\n",
       "      <td>0.44</td>\n",
       "      <td>10.1</td>\n",
       "      <td>6</td>\n",
       "    </tr>\n",
       "    <tr>\n",
       "      <th>3</th>\n",
       "      <td>7.2</td>\n",
       "      <td>0.23</td>\n",
       "      <td>0.32</td>\n",
       "      <td>8.5</td>\n",
       "      <td>0.058</td>\n",
       "      <td>47.0</td>\n",
       "      <td>186.0</td>\n",
       "      <td>0.9956</td>\n",
       "      <td>3.19</td>\n",
       "      <td>0.40</td>\n",
       "      <td>9.9</td>\n",
       "      <td>6</td>\n",
       "    </tr>\n",
       "    <tr>\n",
       "      <th>4</th>\n",
       "      <td>7.2</td>\n",
       "      <td>0.23</td>\n",
       "      <td>0.32</td>\n",
       "      <td>8.5</td>\n",
       "      <td>0.058</td>\n",
       "      <td>47.0</td>\n",
       "      <td>186.0</td>\n",
       "      <td>0.9956</td>\n",
       "      <td>3.19</td>\n",
       "      <td>0.40</td>\n",
       "      <td>9.9</td>\n",
       "      <td>6</td>\n",
       "    </tr>\n",
       "  </tbody>\n",
       "</table>\n",
       "</div>"
      ],
      "text/plain": [
       "   fixed acidity  volatile acidity  citric acid  residual sugar  chlorides  \\\n",
       "0            7.0              0.27         0.36            20.7      0.045   \n",
       "1            6.3              0.30         0.34             1.6      0.049   \n",
       "2            8.1              0.28         0.40             6.9      0.050   \n",
       "3            7.2              0.23         0.32             8.5      0.058   \n",
       "4            7.2              0.23         0.32             8.5      0.058   \n",
       "\n",
       "   free sulfur dioxide  total sulfur dioxide  density    pH  sulphates  \\\n",
       "0                 45.0                 170.0   1.0010  3.00       0.45   \n",
       "1                 14.0                 132.0   0.9940  3.30       0.49   \n",
       "2                 30.0                  97.0   0.9951  3.26       0.44   \n",
       "3                 47.0                 186.0   0.9956  3.19       0.40   \n",
       "4                 47.0                 186.0   0.9956  3.19       0.40   \n",
       "\n",
       "   alcohol  quality  \n",
       "0      8.8        6  \n",
       "1      9.5        6  \n",
       "2     10.1        6  \n",
       "3      9.9        6  \n",
       "4      9.9        6  "
      ]
     },
     "execution_count": 4,
     "metadata": {},
     "output_type": "execute_result"
    }
   ],
   "source": [
    "data = pd.read_csv('wine_data.csv',sep=';')\n",
    "data.head()"
   ]
  },
  {
   "cell_type": "code",
   "execution_count": 74,
   "id": "d7a00862",
   "metadata": {},
   "outputs": [],
   "source": [
    "x = data.iloc[:,:-1]\n",
    "y= data.iloc[:,-1]"
   ]
  },
  {
   "cell_type": "code",
   "execution_count": 75,
   "id": "e3d16d77",
   "metadata": {},
   "outputs": [],
   "source": [
    "scaler = StandardScaler()\n",
    "x = scaler.fit_transform(x)\n"
   ]
  },
  {
   "cell_type": "code",
   "execution_count": 76,
   "id": "89b346dd",
   "metadata": {},
   "outputs": [],
   "source": [
    "x_train,x_test,y_train,y_test= train_test_split(x,y,test_size=0.3,random_state=20)"
   ]
  },
  {
   "cell_type": "code",
   "execution_count": 77,
   "id": "d8821a9e",
   "metadata": {},
   "outputs": [
    {
     "data": {
      "text/plain": [
       "11"
      ]
     },
     "execution_count": 77,
     "metadata": {},
     "output_type": "execute_result"
    }
   ],
   "source": [
    "input_shape = x_train.shape[1]\n",
    "input_shape"
   ]
  },
  {
   "cell_type": "code",
   "execution_count": 120,
   "id": "b1388b5c",
   "metadata": {},
   "outputs": [],
   "source": [
    "small_model = tf.keras.Sequential([\n",
    "    tf.keras.layers.Dense(units=64,activation='relu',input_shape=(input_shape,)),\n",
    "    tf.keras.layers.Dense(1)\n",
    "])\n",
    "small_model.compile(loss='mse',optimizer='adam')"
   ]
  },
  {
   "cell_type": "code",
   "execution_count": 121,
   "id": "7876c8d2",
   "metadata": {},
   "outputs": [],
   "source": [
    "def input_fn(features,label,training=True,batch_size=32):\n",
    "    dataset = tf.data.Dataset.from_tensor_slices((features,label))\n",
    "    if training:\n",
    "        dataset = dataset.shuffle(1000).repeat()\n",
    "    return dataset.batch(batch_size)"
   ]
  },
  {
   "cell_type": "markdown",
   "id": "83800e68",
   "metadata": {},
   "source": [
    "## Model to Estimator"
   ]
  },
  {
   "cell_type": "code",
   "execution_count": 122,
   "id": "7ade2f20",
   "metadata": {},
   "outputs": [
    {
     "name": "stdout",
     "output_type": "stream",
     "text": [
      "INFO:tensorflow:Using default config.\n",
      "INFO:tensorflow:Using the Keras model provided.\n",
      "INFO:tensorflow:Using config: {'_model_dir': 'keras_small_classifier', '_tf_random_seed': None, '_save_summary_steps': 100, '_save_checkpoints_steps': None, '_save_checkpoints_secs': 600, '_session_config': allow_soft_placement: true\n",
      "graph_options {\n",
      "  rewrite_options {\n",
      "    meta_optimizer_iterations: ONE\n",
      "  }\n",
      "}\n",
      ", '_keep_checkpoint_max': 5, '_keep_checkpoint_every_n_hours': 10000, '_log_step_count_steps': 100, '_train_distribute': None, '_device_fn': None, '_protocol': None, '_eval_distribute': None, '_experimental_distribute': None, '_experimental_max_worker_delay_secs': None, '_session_creation_timeout_secs': 7200, '_checkpoint_save_graph_def': True, '_service': None, '_cluster_spec': ClusterSpec({}), '_task_type': 'worker', '_task_id': 0, '_global_id_in_cluster': 0, '_master': '', '_evaluation_master': '', '_is_chief': True, '_num_ps_replicas': 0, '_num_worker_replicas': 1}\n"
     ]
    }
   ],
   "source": [
    "keras_small_estimator = tf.keras.estimator.model_to_estimator(keras_model=small_model,model_dir='keras_small_classifier')"
   ]
  },
  {
   "cell_type": "code",
   "execution_count": 123,
   "id": "02ba80ca",
   "metadata": {},
   "outputs": [
    {
     "name": "stdout",
     "output_type": "stream",
     "text": [
      "INFO:tensorflow:Calling model_fn.\n",
      "INFO:tensorflow:Done calling model_fn.\n",
      "INFO:tensorflow:Warm-starting with WarmStartSettings: WarmStartSettings(ckpt_to_initialize_from='keras_small_classifier/keras/keras_model.ckpt', vars_to_warm_start='.*', var_name_to_vocab_info={}, var_name_to_prev_var_name={})\n",
      "INFO:tensorflow:Warm-starting from: keras_small_classifier/keras/keras_model.ckpt\n",
      "INFO:tensorflow:Warm-starting variables only in TRAINABLE_VARIABLES.\n",
      "INFO:tensorflow:Warm-started 4 variables.\n",
      "INFO:tensorflow:Create CheckpointSaverHook.\n",
      "INFO:tensorflow:Graph was finalized.\n",
      "INFO:tensorflow:Running local_init_op.\n",
      "INFO:tensorflow:Done running local_init_op.\n",
      "INFO:tensorflow:Calling checkpoint listeners before saving checkpoint 0...\n",
      "INFO:tensorflow:Saving checkpoints for 0 into keras_small_classifier/model.ckpt.\n",
      "INFO:tensorflow:Calling checkpoint listeners after saving checkpoint 0...\n",
      "INFO:tensorflow:loss = 31.929977, step = 0\n",
      "INFO:tensorflow:global_step/sec: 831.614\n",
      "INFO:tensorflow:loss = 11.903282, step = 100 (0.121 sec)\n",
      "INFO:tensorflow:global_step/sec: 1327.93\n",
      "INFO:tensorflow:loss = 2.289457, step = 200 (0.075 sec)\n",
      "INFO:tensorflow:global_step/sec: 1290.56\n",
      "INFO:tensorflow:loss = 1.9839911, step = 300 (0.077 sec)\n",
      "INFO:tensorflow:global_step/sec: 1270.91\n",
      "INFO:tensorflow:loss = 7.492331, step = 400 (0.079 sec)\n",
      "INFO:tensorflow:global_step/sec: 1263.68\n",
      "INFO:tensorflow:loss = 1.59378, step = 500 (0.079 sec)\n",
      "INFO:tensorflow:global_step/sec: 1266.43\n",
      "INFO:tensorflow:loss = 1.3259008, step = 600 (0.079 sec)\n",
      "INFO:tensorflow:global_step/sec: 1219.53\n",
      "INFO:tensorflow:loss = 1.1547505, step = 700 (0.082 sec)\n",
      "INFO:tensorflow:global_step/sec: 1344.63\n",
      "INFO:tensorflow:loss = 1.091357, step = 800 (0.074 sec)\n",
      "INFO:tensorflow:global_step/sec: 1299.68\n",
      "INFO:tensorflow:loss = 1.0794576, step = 900 (0.077 sec)\n",
      "INFO:tensorflow:global_step/sec: 1043.56\n",
      "INFO:tensorflow:loss = 0.7716952, step = 1000 (0.096 sec)\n",
      "INFO:tensorflow:global_step/sec: 999.01\n",
      "INFO:tensorflow:loss = 0.74928594, step = 1100 (0.102 sec)\n",
      "INFO:tensorflow:global_step/sec: 532.34\n",
      "INFO:tensorflow:loss = 0.6149063, step = 1200 (0.186 sec)\n",
      "INFO:tensorflow:global_step/sec: 1242.25\n",
      "INFO:tensorflow:loss = 0.7685391, step = 1300 (0.081 sec)\n",
      "INFO:tensorflow:global_step/sec: 1176\n",
      "INFO:tensorflow:loss = 0.72896373, step = 1400 (0.085 sec)\n",
      "INFO:tensorflow:global_step/sec: 832.216\n",
      "INFO:tensorflow:loss = 0.45269284, step = 1500 (0.120 sec)\n",
      "INFO:tensorflow:global_step/sec: 558.497\n",
      "INFO:tensorflow:loss = 0.3269211, step = 1600 (0.179 sec)\n",
      "INFO:tensorflow:global_step/sec: 790.969\n",
      "INFO:tensorflow:loss = 0.88063395, step = 1700 (0.126 sec)\n",
      "INFO:tensorflow:global_step/sec: 1295.62\n",
      "INFO:tensorflow:loss = 0.7975131, step = 1800 (0.077 sec)\n",
      "INFO:tensorflow:global_step/sec: 1106.29\n",
      "INFO:tensorflow:loss = 0.6456598, step = 1900 (0.090 sec)\n",
      "INFO:tensorflow:global_step/sec: 1235\n",
      "INFO:tensorflow:loss = 0.48924267, step = 2000 (0.081 sec)\n",
      "INFO:tensorflow:global_step/sec: 1260.98\n",
      "INFO:tensorflow:loss = 0.39749175, step = 2100 (0.079 sec)\n",
      "INFO:tensorflow:global_step/sec: 1245.35\n",
      "INFO:tensorflow:loss = 0.20034973, step = 2200 (0.080 sec)\n",
      "INFO:tensorflow:global_step/sec: 1266.96\n",
      "INFO:tensorflow:loss = 0.44610247, step = 2300 (0.079 sec)\n",
      "INFO:tensorflow:global_step/sec: 1235.9\n",
      "INFO:tensorflow:loss = 0.54398626, step = 2400 (0.081 sec)\n",
      "INFO:tensorflow:global_step/sec: 1118.44\n",
      "INFO:tensorflow:loss = 0.3491702, step = 2500 (0.089 sec)\n",
      "INFO:tensorflow:global_step/sec: 1228.65\n",
      "INFO:tensorflow:loss = 0.36726674, step = 2600 (0.081 sec)\n",
      "INFO:tensorflow:global_step/sec: 1216.4\n",
      "INFO:tensorflow:loss = 0.4720699, step = 2700 (0.082 sec)\n",
      "INFO:tensorflow:global_step/sec: 1201.95\n",
      "INFO:tensorflow:loss = 0.87576085, step = 2800 (0.083 sec)\n",
      "INFO:tensorflow:global_step/sec: 1220.62\n",
      "INFO:tensorflow:loss = 0.3469515, step = 2900 (0.082 sec)\n",
      "INFO:tensorflow:global_step/sec: 1250.87\n",
      "INFO:tensorflow:loss = 0.48708847, step = 3000 (0.080 sec)\n",
      "INFO:tensorflow:global_step/sec: 1222.57\n",
      "INFO:tensorflow:loss = 0.450764, step = 3100 (0.082 sec)\n",
      "INFO:tensorflow:global_step/sec: 1217.2\n",
      "INFO:tensorflow:loss = 0.73147774, step = 3200 (0.082 sec)\n",
      "INFO:tensorflow:global_step/sec: 1084.63\n",
      "INFO:tensorflow:loss = 0.6361642, step = 3300 (0.092 sec)\n",
      "INFO:tensorflow:global_step/sec: 990.599\n",
      "INFO:tensorflow:loss = 0.47789398, step = 3400 (0.101 sec)\n",
      "INFO:tensorflow:global_step/sec: 913.927\n",
      "INFO:tensorflow:loss = 0.5439554, step = 3500 (0.110 sec)\n",
      "INFO:tensorflow:global_step/sec: 633.83\n",
      "INFO:tensorflow:loss = 0.42135748, step = 3600 (0.158 sec)\n",
      "INFO:tensorflow:global_step/sec: 809.705\n",
      "INFO:tensorflow:loss = 0.25196648, step = 3700 (0.123 sec)\n",
      "INFO:tensorflow:global_step/sec: 672.654\n",
      "INFO:tensorflow:loss = 0.3315464, step = 3800 (0.149 sec)\n",
      "INFO:tensorflow:global_step/sec: 1116.52\n",
      "INFO:tensorflow:loss = 0.6599248, step = 3900 (0.090 sec)\n",
      "INFO:tensorflow:global_step/sec: 1223.54\n",
      "INFO:tensorflow:loss = 0.4790411, step = 4000 (0.082 sec)\n",
      "INFO:tensorflow:global_step/sec: 1231.57\n",
      "INFO:tensorflow:loss = 0.6217649, step = 4100 (0.081 sec)\n",
      "INFO:tensorflow:global_step/sec: 1228.14\n",
      "INFO:tensorflow:loss = 0.58790404, step = 4200 (0.081 sec)\n",
      "INFO:tensorflow:global_step/sec: 1065.93\n",
      "INFO:tensorflow:loss = 0.3432595, step = 4300 (0.094 sec)\n",
      "INFO:tensorflow:global_step/sec: 802.22\n",
      "INFO:tensorflow:loss = 0.49880743, step = 4400 (0.125 sec)\n",
      "INFO:tensorflow:global_step/sec: 598.162\n",
      "INFO:tensorflow:loss = 0.39257705, step = 4500 (0.167 sec)\n",
      "INFO:tensorflow:global_step/sec: 1212.81\n",
      "INFO:tensorflow:loss = 0.3840323, step = 4600 (0.082 sec)\n",
      "INFO:tensorflow:global_step/sec: 1285.35\n",
      "INFO:tensorflow:loss = 0.35613418, step = 4700 (0.078 sec)\n",
      "INFO:tensorflow:global_step/sec: 1126.33\n",
      "INFO:tensorflow:loss = 0.3346392, step = 4800 (0.089 sec)\n",
      "INFO:tensorflow:global_step/sec: 1107.49\n",
      "INFO:tensorflow:loss = 0.47143292, step = 4900 (0.090 sec)\n",
      "INFO:tensorflow:Calling checkpoint listeners before saving checkpoint 5000...\n",
      "INFO:tensorflow:Saving checkpoints for 5000 into keras_small_classifier/model.ckpt.\n",
      "INFO:tensorflow:Calling checkpoint listeners after saving checkpoint 5000...\n",
      "INFO:tensorflow:Loss for final step: 0.20841007.\n"
     ]
    },
    {
     "data": {
      "text/plain": [
       "<tensorflow_estimator.python.estimator.estimator.EstimatorV2 at 0x7fb0229ce810>"
      ]
     },
     "execution_count": 123,
     "metadata": {},
     "output_type": "execute_result"
    }
   ],
   "source": [
    "keras_small_estimator.train(input_fn=lambda:input_fn(x_train,y_train,training=True),steps=5000)"
   ]
  },
  {
   "cell_type": "code",
   "execution_count": 124,
   "id": "66356ed3",
   "metadata": {},
   "outputs": [
    {
     "name": "stdout",
     "output_type": "stream",
     "text": [
      "INFO:tensorflow:Calling model_fn.\n",
      "INFO:tensorflow:Done calling model_fn.\n",
      "INFO:tensorflow:Starting evaluation at 2023-04-18T08:44:02\n",
      "INFO:tensorflow:Graph was finalized.\n",
      "INFO:tensorflow:Restoring parameters from keras_small_classifier/model.ckpt-5000\n",
      "INFO:tensorflow:Running local_init_op.\n",
      "INFO:tensorflow:Done running local_init_op.\n",
      "INFO:tensorflow:Inference Time : 0.17704s\n",
      "INFO:tensorflow:Finished evaluation at 2023-04-18-08:44:02\n",
      "INFO:tensorflow:Saving dict for global step 5000: global_step = 5000, loss = 0.5144854\n",
      "INFO:tensorflow:Saving 'checkpoint_path' summary for global step 5000: keras_small_classifier/model.ckpt-5000\n"
     ]
    }
   ],
   "source": [
    "result = keras_small_estimator.evaluate(input_fn=lambda:input_fn(x_test,y_test,training=False))"
   ]
  },
  {
   "cell_type": "code",
   "execution_count": 125,
   "id": "75b6c65a",
   "metadata": {},
   "outputs": [
    {
     "name": "stdout",
     "output_type": "stream",
     "text": [
      "Eval Result {'loss': 0.5144854, 'global_step': 5000}\n"
     ]
    }
   ],
   "source": [
    "print(f'Eval Result {result}')"
   ]
  },
  {
   "cell_type": "code",
   "execution_count": 128,
   "id": "e9db2188",
   "metadata": {},
   "outputs": [
    {
     "name": "stdout",
     "output_type": "stream",
     "text": [
      "The tensorboard extension is already loaded. To reload it, use:\n",
      "  %reload_ext tensorboard\n"
     ]
    },
    {
     "data": {
      "text/html": [
       "\n",
       "      <iframe id=\"tensorboard-frame-6a95c52c55b00227\" width=\"100%\" height=\"800\" frameborder=\"0\">\n",
       "      </iframe>\n",
       "      <script>\n",
       "        (function() {\n",
       "          const frame = document.getElementById(\"tensorboard-frame-6a95c52c55b00227\");\n",
       "          const url = new URL(\"/\", window.location);\n",
       "          const port = 6011;\n",
       "          if (port) {\n",
       "            url.port = port;\n",
       "          }\n",
       "          frame.src = url;\n",
       "        })();\n",
       "      </script>\n",
       "    "
      ],
      "text/plain": [
       "<IPython.core.display.HTML object>"
      ]
     },
     "metadata": {},
     "output_type": "display_data"
    }
   ],
   "source": [
    "%load_ext tensorboard\n",
    "%tensorboard --logdir ./keras_small_classifier"
   ]
  },
  {
   "cell_type": "code",
   "execution_count": 127,
   "id": "c2d9fe5a",
   "metadata": {},
   "outputs": [],
   "source": [
    "!kill 59449"
   ]
  },
  {
   "cell_type": "code",
   "execution_count": null,
   "id": "2c157c2e",
   "metadata": {},
   "outputs": [],
   "source": []
  }
 ],
 "metadata": {
  "kernelspec": {
   "display_name": "Python 3 (ipykernel)",
   "language": "python",
   "name": "python3"
  },
  "language_info": {
   "codemirror_mode": {
    "name": "ipython",
    "version": 3
   },
   "file_extension": ".py",
   "mimetype": "text/x-python",
   "name": "python",
   "nbconvert_exporter": "python",
   "pygments_lexer": "ipython3",
   "version": "3.7.16"
  }
 },
 "nbformat": 4,
 "nbformat_minor": 5
}
