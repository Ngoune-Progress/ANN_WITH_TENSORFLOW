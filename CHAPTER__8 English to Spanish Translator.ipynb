{
 "cells": [
  {
   "cell_type": "code",
   "execution_count": 425,
   "id": "9c804d7b",
   "metadata": {},
   "outputs": [],
   "source": [
    "import tensorflow as tf\n",
    "import numpy as np\n",
    "import matplotlib.pyplot as plt"
   ]
  },
  {
   "cell_type": "code",
   "execution_count": 426,
   "id": "4d22282f",
   "metadata": {},
   "outputs": [],
   "source": [
    "with open('fra.txt',encoding='utf-8',errors='ignore')as file:\n",
    "    text=file.read().split('\\n')"
   ]
  },
  {
   "cell_type": "code",
   "execution_count": 427,
   "id": "5ef5d7c0",
   "metadata": {},
   "outputs": [
    {
     "data": {
      "text/plain": [
       "(['go.', 'go.', 'go.', 'go.', 'hi.'],\n",
       " ['va !', 'marche.', 'en route !', 'bouge !', 'salut !'])"
      ]
     },
     "execution_count": 427,
     "metadata": {},
     "output_type": "execute_result"
    }
   ],
   "source": [
    "## Creating and input and target list and using only 10,000\n",
    "\n",
    "input_texts = []\n",
    "target_texts =[]\n",
    "\n",
    "Num_samples = 10000\n",
    "for line in text[:Num_samples]:\n",
    "    english,french = line.split(\"\\t\")[:2]\n",
    "    input_texts.append(english.lower())\n",
    "    target_texts.append(french.lower())\n",
    "input_texts[:5],target_texts[:5]\n",
    "    "
   ]
  },
  {
   "cell_type": "markdown",
   "id": "4cc5bf24",
   "metadata": {},
   "source": [
    "## Data Preprocessing"
   ]
  },
  {
   "cell_type": "code",
   "execution_count": 428,
   "id": "c5456d72",
   "metadata": {},
   "outputs": [],
   "source": [
    "import re\n",
    "for ix,i in enumerate(input_texts):\n",
    "    input_texts[ix]= re.sub(\"[!#$%&'()*+,-./:;<=>?@[\\]^_`{|}~]\",\"\",i)  \n",
    "for ix,i in enumerate(target_texts):\n",
    "    target_texts[ix]= re.sub(\"[!#$%&'()*+,-./:;<=>?@[\\]^_`{|}~]\",\"\",i) "
   ]
  },
  {
   "cell_type": "code",
   "execution_count": 429,
   "id": "4e675b9e",
   "metadata": {},
   "outputs": [
    {
     "data": {
      "text/plain": [
       "(['go', 'go', 'go', 'go', 'hi'],\n",
       " ['va ', 'marche', 'en route ', 'bouge ', 'salut '])"
      ]
     },
     "execution_count": 429,
     "metadata": {},
     "output_type": "execute_result"
    }
   ],
   "source": [
    "input_texts[:5],target_texts[:5]"
   ]
  },
  {
   "cell_type": "markdown",
   "id": "df49572e",
   "metadata": {},
   "source": [
    "### Adding Start/End Tags"
   ]
  },
  {
   "cell_type": "code",
   "execution_count": 430,
   "id": "b190e290",
   "metadata": {},
   "outputs": [],
   "source": [
    "target_texts = ['<start> '+s+' <end>' for s in target_texts]"
   ]
  },
  {
   "cell_type": "code",
   "execution_count": 431,
   "id": "e4b31b15",
   "metadata": {},
   "outputs": [
    {
     "data": {
      "text/plain": [
       "'<start> va  <end>'"
      ]
     },
     "execution_count": 431,
     "metadata": {},
     "output_type": "execute_result"
    }
   ],
   "source": [
    "target_texts[0]"
   ]
  },
  {
   "cell_type": "code",
   "execution_count": 432,
   "id": "147d07e0",
   "metadata": {},
   "outputs": [
    {
     "name": "stdout",
     "output_type": "stream",
     "text": [
      "2006\n"
     ]
    }
   ],
   "source": [
    "from tensorflow.keras.preprocessing.text import Tokenizer\n",
    "\n",
    "## Converting inputs words to index\n",
    "\n",
    "tokenizer_in = Tokenizer()\n",
    "tokenizer_in.fit_on_texts(input_texts)\n",
    "input_token = tokenizer_in.word_index\n",
    "input_vocab_size = len(tokenizer_in.word_index)+1\n",
    "print(input_vocab_size)"
   ]
  },
  {
   "cell_type": "code",
   "execution_count": 433,
   "id": "363c2516",
   "metadata": {},
   "outputs": [
    {
     "data": {
      "text/plain": [
       "4711"
      ]
     },
     "execution_count": 433,
     "metadata": {},
     "output_type": "execute_result"
    }
   ],
   "source": [
    "## Converting output words to index\n",
    "\n",
    "tokenizer_out =Tokenizer(filters='')\n",
    "tokenizer_out.fit_on_texts(target_texts)\n",
    "output_token=tokenizer_out.word_index\n",
    "output_vocab_size=len(tokenizer_out.word_index)+1\n",
    "output_vocab_size"
   ]
  },
  {
   "cell_type": "code",
   "execution_count": 434,
   "id": "0120e992",
   "metadata": {},
   "outputs": [],
   "source": [
    "tokenized_input=tokenizer_in.texts_to_sequences(input_texts)\n",
    "#max length of the input\n",
    "maxlen_input = max( [ len(x) for x in tokenized_input ] )\n",
    "padded_input = pad_sequences( tokenized_input , maxlen=maxlen_input ,padding='post' )\n",
    "encoder_input_data = np.array( padded_input )"
   ]
  },
  {
   "cell_type": "code",
   "execution_count": 435,
   "id": "d973c237",
   "metadata": {},
   "outputs": [],
   "source": [
    "#converting tokenized output sentence into sequences\n",
    "tokenized_output = tokenizer_out.texts_to_sequences(target_texts)\n",
    "\n",
    "\n",
    "# teacher forcing\n",
    "for i in range(len(tokenized_output)):\n",
    "    tokenized_output[i] = tokenized_output[i][1:]\n",
    "maxlen_output = max([len(x) for x in tokenized_output])\n",
    "padding_output= pad_sequences(tokenized_output,maxlen=maxlen_output,padding='post')\n",
    "decoder_input_data = np.array(padding_output)"
   ]
  },
  {
   "cell_type": "code",
   "execution_count": 436,
   "id": "384bf986",
   "metadata": {},
   "outputs": [
    {
     "data": {
      "text/plain": [
       "((10000, 11), (10000, 4))"
      ]
     },
     "execution_count": 436,
     "metadata": {},
     "output_type": "execute_result"
    }
   ],
   "source": [
    "decoder_input_data.shape,encoder_input_data.shape"
   ]
  },
  {
   "cell_type": "code",
   "execution_count": 437,
   "id": "19d89c99",
   "metadata": {},
   "outputs": [],
   "source": [
    "# decode target output\n",
    "decoder_target_one_hot = tf.keras.utils.to_categorical(padding_output,num_classes=output_vocab_size)"
   ]
  },
  {
   "cell_type": "code",
   "execution_count": 438,
   "id": "ac08227e",
   "metadata": {},
   "outputs": [
    {
     "name": "stdout",
     "output_type": "stream",
     "text": [
      "Indexing word vectors.\n",
      "Found 400000 word vectors.\n"
     ]
    }
   ],
   "source": [
    "#creating dictionary of words corresponding to vectors\n",
    "print('Indexing word vectors.')\n",
    "embeddings_index = {}\n",
    "f = open('glove.6B.200d.txt', encoding='utf-8')\n",
    "for line in f:\n",
    "    values = line.split()\n",
    "    word = values[0]\n",
    "    coefs = np.asarray(values[1:],dtype='float32')\n",
    "    embeddings_index[word]=coefs\n",
    "f.close()\n",
    "print('Found %s word vectors.' %len(embeddings_index))"
   ]
  },
  {
   "cell_type": "code",
   "execution_count": 439,
   "id": "fff219cd",
   "metadata": {},
   "outputs": [
    {
     "data": {
      "text/plain": [
       "(2006, 200)"
      ]
     },
     "execution_count": 439,
     "metadata": {},
     "output_type": "execute_result"
    }
   ],
   "source": [
    "#embedding matrix\n",
    "num_words = len(tokenizer_in.word_index)+1\n",
    "word2idx_input = tokenizer_in.word_index\n",
    "embedding_matrix = np.zeros((num_words, 200))\n",
    "for word,i in word2idx_input.items():\n",
    "    if i<num_words:\n",
    "        embedding_vector = embeddings_index.get(word)\n",
    "    if embedding_vector is not None:\n",
    "        embedding_matrix[i] = embedding_vector\n",
    "embedding_matrix.shape"
   ]
  },
  {
   "cell_type": "markdown",
   "id": "ea767b39",
   "metadata": {},
   "source": [
    "## Defining Embedding Layer AND ENCODERS"
   ]
  },
  {
   "cell_type": "code",
   "execution_count": 440,
   "id": "3cfc5c99",
   "metadata": {},
   "outputs": [],
   "source": [
    "#lstm hidden dimesions\n",
    "LATENT_DIM = 256\n",
    "#embedding layer dimensions\n",
    "EMBEDDING_DIM = 200\n",
    "embedding_layer = tf.keras.layers.Embedding(input_vocab_size,EMBEDDING_DIM,weights=[embedding_matrix],input_length=maxlen_input)"
   ]
  },
  {
   "cell_type": "code",
   "execution_count": 441,
   "id": "d4753763",
   "metadata": {},
   "outputs": [],
   "source": [
    "# encoder \n",
    "encoderrr_inputs = tf.keras.layers.Input(shape=(maxlen_input),name = 'encoderinputs')"
   ]
  },
  {
   "cell_type": "code",
   "execution_count": 442,
   "id": "74fecb01",
   "metadata": {},
   "outputs": [],
   "source": [
    "encoder_input = embedding_layer(encoderrr_inputs)\n",
    "encoder = tf.keras.layers.Bidirectional(tf.keras.layers.LSTM(LATENT_DIM,return_sequences=True,dropout = 0.3),name = 'encoder_bidirection')\n"
   ]
  },
  {
   "cell_type": "code",
   "execution_count": 443,
   "id": "367cc863",
   "metadata": {},
   "outputs": [],
   "source": [
    "encoder_outputs = encoder(encoder_input)"
   ]
  },
  {
   "cell_type": "code",
   "execution_count": 444,
   "id": "9d34d701",
   "metadata": {},
   "outputs": [
    {
     "data": {
      "text/plain": [
       "<KerasTensor: shape=(None, 4) dtype=float32 (created by layer 'encoderinputs')>"
      ]
     },
     "execution_count": 444,
     "metadata": {},
     "output_type": "execute_result"
    }
   ],
   "source": [
    "encoder_inputs"
   ]
  },
  {
   "cell_type": "markdown",
   "id": "0d431e25",
   "metadata": {},
   "source": [
    "## Defining Decoder"
   ]
  },
  {
   "cell_type": "code",
   "execution_count": 445,
   "id": "eeca01d6",
   "metadata": {},
   "outputs": [],
   "source": [
    "LATENT_DIM =256\n",
    "EMBEDDING_DIM = 200\n",
    "decoderrr_inputs = tf.keras.layers.Input(shape=(maxlen_output),name='decoderinputs')\n",
    "embedding_layer_out = tf.keras.layers.Embedding(output_vocab_size,EMBEDDING_DIM,name=\"decoder_embedding\")\n",
    "decoder_input = embedding_layer_out(decoderrr_inputs)"
   ]
  },
  {
   "cell_type": "code",
   "execution_count": 446,
   "id": "8773a14e",
   "metadata": {},
   "outputs": [
    {
     "data": {
      "text/plain": [
       "TensorShape([None, 11])"
      ]
     },
     "execution_count": 446,
     "metadata": {},
     "output_type": "execute_result"
    }
   ],
   "source": [
    "decoderrr_inputs.shape"
   ]
  },
  {
   "cell_type": "code",
   "execution_count": 447,
   "id": "d3f2e54a",
   "metadata": {},
   "outputs": [
    {
     "data": {
      "text/plain": [
       "4711"
      ]
     },
     "execution_count": 447,
     "metadata": {},
     "output_type": "execute_result"
    }
   ],
   "source": [
    "output_vocab_size"
   ]
  },
  {
   "cell_type": "markdown",
   "id": "bb7d3884",
   "metadata": {},
   "source": [
    "## Defining Decoder Layers"
   ]
  },
  {
   "cell_type": "code",
   "execution_count": 448,
   "id": "9d2c96dd",
   "metadata": {},
   "outputs": [],
   "source": [
    "decoder_lstm = tf.keras.layers.LSTM(LATENT_DIM,return_state=True,name='decoder_lstm')\n",
    "\n",
    "decoder_dense = tf.keras.layers.Dense(output_vocab_size,activation='softmax',name='decoder_dense')"
   ]
  },
  {
   "cell_type": "markdown",
   "id": "d09522f9",
   "metadata": {},
   "source": [
    "## Attention Network"
   ]
  },
  {
   "cell_type": "code",
   "execution_count": 449,
   "id": "ac237673",
   "metadata": {},
   "outputs": [],
   "source": [
    "# Computing alphas\n",
    "import tensorflow.keras.backend as k\n",
    "def softmax_attention(x):\n",
    "    assert(k.ndim(x)>2)\n",
    "    e=k.exp(x-k.max(x,axis=1,keepdims=True))\n",
    "    s=k.sum(e,axis=1,keepdims=True)\n",
    "    return e/s"
   ]
  },
  {
   "cell_type": "code",
   "execution_count": 450,
   "id": "d2157778",
   "metadata": {},
   "outputs": [],
   "source": [
    "attention_repeat = tf.keras.layers.RepeatVector(maxlen_input)\n",
    "attention_concat = tf.keras.layers.Concatenate(axis=-1)\n",
    "dense1_layer = tf.keras.layers.Dense(10,activation='tanh')\n",
    "dense2_layer = tf.keras.layers.Dense(1,activation = softmax_attention)\n",
    "dot_layer = tf.keras.layers.Dot(axes=1)\n",
    "def context_attention(h, st_1):\n",
    "    st_1=attention_repeat(st_1)\n",
    "    x=attention_concat([h,st_1])\n",
    "    x=dense1_layer(x)\n",
    "    alphas=dense2_layer(x)\n",
    "    context = dot_layer([alphas,h])\n",
    "    return context\n",
    "\n",
    "initial_s = tf.keras.layers.Input(shape=(LATENT_DIM,), name='s0')\n",
    "initial_c = tf.keras.layers.Input(shape=(LATENT_DIM,), name='c0')\n",
    "context_last_word_concat_layer = tf.keras.layers.Concatenate(axis=2)\n",
    "\n",
    "\n",
    "s = initial_s\n",
    "c = initial_c\n",
    "outputs = []\n",
    "#collect output in a list at first\n",
    "for t in range(maxlen_output): #ty times\n",
    "    #get the context using attention mechanism\n",
    "    context=context_attention(encoder_outputs,s)\n",
    "     #we need a different layer for each time step\n",
    "    selector=tf.keras.layers.Lambda(lambda x: x[:,t:t+1])\n",
    "    x_t=selector(decoder_input)\n",
    "    #combine\n",
    "    decoder_lstm_input=context_last_word_concat_layer([context,x_t])\n",
    "    #pass the combined [context,last word] into lstm\n",
    "    #along with [s,c]\n",
    "    #get the new[s,c] and output\n",
    "    out,s,c=decoder_lstm(decoder_lstm_input,initial_state=[s,c])\n",
    "    #final dense layer to get next word prediction\n",
    "    decoder_outputs = decoder_dense(out)\n",
    "    outputs.append(decoder_outputs)\n",
    "\n"
   ]
  },
  {
   "cell_type": "code",
   "execution_count": 451,
   "id": "b33d16dd",
   "metadata": {},
   "outputs": [
    {
     "data": {
      "text/plain": [
       "[<KerasTensor: shape=(None, 4711) dtype=float32 (created by layer 'decoder_dense')>,\n",
       " <KerasTensor: shape=(None, 4711) dtype=float32 (created by layer 'decoder_dense')>,\n",
       " <KerasTensor: shape=(None, 4711) dtype=float32 (created by layer 'decoder_dense')>,\n",
       " <KerasTensor: shape=(None, 4711) dtype=float32 (created by layer 'decoder_dense')>,\n",
       " <KerasTensor: shape=(None, 4711) dtype=float32 (created by layer 'decoder_dense')>,\n",
       " <KerasTensor: shape=(None, 4711) dtype=float32 (created by layer 'decoder_dense')>,\n",
       " <KerasTensor: shape=(None, 4711) dtype=float32 (created by layer 'decoder_dense')>,\n",
       " <KerasTensor: shape=(None, 4711) dtype=float32 (created by layer 'decoder_dense')>,\n",
       " <KerasTensor: shape=(None, 4711) dtype=float32 (created by layer 'decoder_dense')>,\n",
       " <KerasTensor: shape=(None, 4711) dtype=float32 (created by layer 'decoder_dense')>,\n",
       " <KerasTensor: shape=(None, 4711) dtype=float32 (created by layer 'decoder_dense')>]"
      ]
     },
     "execution_count": 451,
     "metadata": {},
     "output_type": "execute_result"
    }
   ],
   "source": [
    "outputs"
   ]
  },
  {
   "cell_type": "code",
   "execution_count": 452,
   "id": "77550cf8",
   "metadata": {},
   "outputs": [
    {
     "data": {
      "text/plain": [
       "<KerasTensor: shape=(None, 11, 4711) dtype=float32 (created by layer 'lambda_100')>"
      ]
     },
     "execution_count": 452,
     "metadata": {},
     "output_type": "execute_result"
    }
   ],
   "source": [
    "def stack(x):\n",
    "    x=k.stack(x)\n",
    "    x=k.permute_dimensions(x,pattern=(1,0,2))\n",
    "    return x\n",
    "stacker=tf.keras.layers.Lambda(stack)\n",
    "outputs=stacker(outputs)\n",
    "outputs\n"
   ]
  },
  {
   "cell_type": "markdown",
   "id": "7ea916e1",
   "metadata": {},
   "source": [
    "### Defining Model\n",
    "Our final model will have an encoder, a decoder, and our initial states for the encoder as inputs, and the outputs would be our final outputs as generated earlier. The model is defined using the following statement:"
   ]
  },
  {
   "cell_type": "code",
   "execution_count": 453,
   "id": "6845c18c",
   "metadata": {},
   "outputs": [
    {
     "data": {
      "text/plain": [
       "(<KerasTensor: shape=(None, 4) dtype=float32 (created by layer 'encoderinputs')>,\n",
       " <KerasTensor: shape=(None, 11) dtype=float32 (created by layer 'decoder_input')>)"
      ]
     },
     "execution_count": 453,
     "metadata": {},
     "output_type": "execute_result"
    }
   ],
   "source": [
    "encoder_inputs,decoder_inputs"
   ]
  },
  {
   "cell_type": "code",
   "execution_count": 454,
   "id": "358cbbc6",
   "metadata": {},
   "outputs": [],
   "source": [
    "model1=tf.keras.models.Model(inputs=[encoderrr_inputs,decoderrr_inputs,initial_s,initial_c],outputs=outputs)"
   ]
  },
  {
   "cell_type": "code",
   "execution_count": 455,
   "id": "0107275d",
   "metadata": {},
   "outputs": [
    {
     "name": "stdout",
     "output_type": "stream",
     "text": [
      "Model: \"model_18\"\n",
      "__________________________________________________________________________________________________\n",
      " Layer (type)                   Output Shape         Param #     Connected to                     \n",
      "==================================================================================================\n",
      " encoderinputs (InputLayer)     [(None, 4)]          0           []                               \n",
      "                                                                                                  \n",
      " embedding_7 (Embedding)        (None, 4, 200)       401200      ['encoderinputs[0][0]']          \n",
      "                                                                                                  \n",
      " s0 (InputLayer)                [(None, 256)]        0           []                               \n",
      "                                                                                                  \n",
      " encoder_bidirection (Bidirecti  (None, 4, 512)      935936      ['embedding_7[0][0]']            \n",
      " onal)                                                                                            \n",
      "                                                                                                  \n",
      " repeat_vector_14 (RepeatVector  (None, 4, 256)      0           ['s0[0][0]',                     \n",
      " )                                                                'decoder_lstm[0][1]',           \n",
      "                                                                  'decoder_lstm[1][1]',           \n",
      "                                                                  'decoder_lstm[2][1]',           \n",
      "                                                                  'decoder_lstm[3][1]',           \n",
      "                                                                  'decoder_lstm[4][1]',           \n",
      "                                                                  'decoder_lstm[5][1]',           \n",
      "                                                                  'decoder_lstm[6][1]',           \n",
      "                                                                  'decoder_lstm[7][1]',           \n",
      "                                                                  'decoder_lstm[8][1]',           \n",
      "                                                                  'decoder_lstm[9][1]']           \n",
      "                                                                                                  \n",
      " concatenate_25 (Concatenate)   (None, 4, 768)       0           ['encoder_bidirection[0][0]',    \n",
      "                                                                  'repeat_vector_14[0][0]',       \n",
      "                                                                  'encoder_bidirection[0][0]',    \n",
      "                                                                  'repeat_vector_14[1][0]',       \n",
      "                                                                  'encoder_bidirection[0][0]',    \n",
      "                                                                  'repeat_vector_14[2][0]',       \n",
      "                                                                  'encoder_bidirection[0][0]',    \n",
      "                                                                  'repeat_vector_14[3][0]',       \n",
      "                                                                  'encoder_bidirection[0][0]',    \n",
      "                                                                  'repeat_vector_14[4][0]',       \n",
      "                                                                  'encoder_bidirection[0][0]',    \n",
      "                                                                  'repeat_vector_14[5][0]',       \n",
      "                                                                  'encoder_bidirection[0][0]',    \n",
      "                                                                  'repeat_vector_14[6][0]',       \n",
      "                                                                  'encoder_bidirection[0][0]',    \n",
      "                                                                  'repeat_vector_14[7][0]',       \n",
      "                                                                  'encoder_bidirection[0][0]',    \n",
      "                                                                  'repeat_vector_14[8][0]',       \n",
      "                                                                  'encoder_bidirection[0][0]',    \n",
      "                                                                  'repeat_vector_14[9][0]',       \n",
      "                                                                  'encoder_bidirection[0][0]',    \n",
      "                                                                  'repeat_vector_14[10][0]']      \n",
      "                                                                                                  \n",
      " dense_26 (Dense)               (None, 4, 10)        7690        ['concatenate_25[0][0]',         \n",
      "                                                                  'concatenate_25[1][0]',         \n",
      "                                                                  'concatenate_25[2][0]',         \n",
      "                                                                  'concatenate_25[3][0]',         \n",
      "                                                                  'concatenate_25[4][0]',         \n",
      "                                                                  'concatenate_25[5][0]',         \n",
      "                                                                  'concatenate_25[6][0]',         \n",
      "                                                                  'concatenate_25[7][0]',         \n",
      "                                                                  'concatenate_25[8][0]',         \n",
      "                                                                  'concatenate_25[9][0]',         \n",
      "                                                                  'concatenate_25[10][0]']        \n",
      "                                                                                                  \n",
      " decoderinputs (InputLayer)     [(None, 11)]         0           []                               \n",
      "                                                                                                  \n",
      " dense_27 (Dense)               (None, 4, 1)         11          ['dense_26[0][0]',               \n",
      "                                                                  'dense_26[1][0]',               \n",
      "                                                                  'dense_26[2][0]',               \n",
      "                                                                  'dense_26[3][0]',               \n",
      "                                                                  'dense_26[4][0]',               \n",
      "                                                                  'dense_26[5][0]',               \n",
      "                                                                  'dense_26[6][0]',               \n",
      "                                                                  'dense_26[7][0]',               \n",
      "                                                                  'dense_26[8][0]',               \n",
      "                                                                  'dense_26[9][0]',               \n",
      "                                                                  'dense_26[10][0]']              \n",
      "                                                                                                  \n",
      " decoder_embedding (Embedding)  (None, 11, 200)      942200      ['decoderinputs[0][0]']          \n",
      "                                                                                                  \n",
      " dot_12 (Dot)                   (None, 1, 512)       0           ['dense_27[0][0]',               \n",
      "                                                                  'encoder_bidirection[0][0]',    \n",
      "                                                                  'dense_27[1][0]',               \n",
      "                                                                  'encoder_bidirection[0][0]',    \n",
      "                                                                  'dense_27[2][0]',               \n",
      "                                                                  'encoder_bidirection[0][0]',    \n",
      "                                                                  'dense_27[3][0]',               \n",
      "                                                                  'encoder_bidirection[0][0]',    \n"
     ]
    },
    {
     "name": "stdout",
     "output_type": "stream",
     "text": [
      "                                                                  'dense_27[4][0]',               \n",
      "                                                                  'encoder_bidirection[0][0]',    \n",
      "                                                                  'dense_27[5][0]',               \n",
      "                                                                  'encoder_bidirection[0][0]',    \n",
      "                                                                  'dense_27[6][0]',               \n",
      "                                                                  'encoder_bidirection[0][0]',    \n",
      "                                                                  'dense_27[7][0]',               \n",
      "                                                                  'encoder_bidirection[0][0]',    \n",
      "                                                                  'dense_27[8][0]',               \n",
      "                                                                  'encoder_bidirection[0][0]',    \n",
      "                                                                  'dense_27[9][0]',               \n",
      "                                                                  'encoder_bidirection[0][0]',    \n",
      "                                                                  'dense_27[10][0]',              \n",
      "                                                                  'encoder_bidirection[0][0]']    \n",
      "                                                                                                  \n",
      " lambda_89 (Lambda)             (None, 1, 200)       0           ['decoder_embedding[0][0]']      \n",
      "                                                                                                  \n",
      " concatenate_26 (Concatenate)   (None, 1, 712)       0           ['dot_12[0][0]',                 \n",
      "                                                                  'lambda_89[0][0]',              \n",
      "                                                                  'dot_12[1][0]',                 \n",
      "                                                                  'lambda_90[0][0]',              \n",
      "                                                                  'dot_12[2][0]',                 \n",
      "                                                                  'lambda_91[0][0]',              \n",
      "                                                                  'dot_12[3][0]',                 \n",
      "                                                                  'lambda_92[0][0]',              \n",
      "                                                                  'dot_12[4][0]',                 \n",
      "                                                                  'lambda_93[0][0]',              \n",
      "                                                                  'dot_12[5][0]',                 \n",
      "                                                                  'lambda_94[0][0]',              \n",
      "                                                                  'dot_12[6][0]',                 \n",
      "                                                                  'lambda_95[0][0]',              \n",
      "                                                                  'dot_12[7][0]',                 \n",
      "                                                                  'lambda_96[0][0]',              \n",
      "                                                                  'dot_12[8][0]',                 \n",
      "                                                                  'lambda_97[0][0]',              \n",
      "                                                                  'dot_12[9][0]',                 \n",
      "                                                                  'lambda_98[0][0]',              \n",
      "                                                                  'dot_12[10][0]',                \n",
      "                                                                  'lambda_99[0][0]']              \n",
      "                                                                                                  \n",
      " c0 (InputLayer)                [(None, 256)]        0           []                               \n",
      "                                                                                                  \n",
      " decoder_lstm (LSTM)            [(None, 256),        992256      ['concatenate_26[0][0]',         \n",
      "                                 (None, 256),                     's0[0][0]',                     \n",
      "                                 (None, 256)]                     'c0[0][0]',                     \n",
      "                                                                  'concatenate_26[1][0]',         \n",
      "                                                                  'decoder_lstm[0][1]',           \n",
      "                                                                  'decoder_lstm[0][2]',           \n",
      "                                                                  'concatenate_26[2][0]',         \n",
      "                                                                  'decoder_lstm[1][1]',           \n",
      "                                                                  'decoder_lstm[1][2]',           \n",
      "                                                                  'concatenate_26[3][0]',         \n",
      "                                                                  'decoder_lstm[2][1]',           \n",
      "                                                                  'decoder_lstm[2][2]',           \n",
      "                                                                  'concatenate_26[4][0]',         \n",
      "                                                                  'decoder_lstm[3][1]',           \n",
      "                                                                  'decoder_lstm[3][2]',           \n",
      "                                                                  'concatenate_26[5][0]',         \n",
      "                                                                  'decoder_lstm[4][1]',           \n",
      "                                                                  'decoder_lstm[4][2]',           \n",
      "                                                                  'concatenate_26[6][0]',         \n",
      "                                                                  'decoder_lstm[5][1]',           \n",
      "                                                                  'decoder_lstm[5][2]',           \n",
      "                                                                  'concatenate_26[7][0]',         \n",
      "                                                                  'decoder_lstm[6][1]',           \n",
      "                                                                  'decoder_lstm[6][2]',           \n",
      "                                                                  'concatenate_26[8][0]',         \n",
      "                                                                  'decoder_lstm[7][1]',           \n",
      "                                                                  'decoder_lstm[7][2]',           \n",
      "                                                                  'concatenate_26[9][0]',         \n",
      "                                                                  'decoder_lstm[8][1]',           \n",
      "                                                                  'decoder_lstm[8][2]',           \n",
      "                                                                  'concatenate_26[10][0]',        \n",
      "                                                                  'decoder_lstm[9][1]',           \n",
      "                                                                  'decoder_lstm[9][2]']           \n",
      "                                                                                                  \n",
      " lambda_90 (Lambda)             (None, 1, 200)       0           ['decoder_embedding[0][0]']      \n",
      "                                                                                                  \n",
      " lambda_91 (Lambda)             (None, 1, 200)       0           ['decoder_embedding[0][0]']      \n",
      "                                                                                                  \n",
      " lambda_92 (Lambda)             (None, 1, 200)       0           ['decoder_embedding[0][0]']      \n",
      "                                                                                                  \n",
      " lambda_93 (Lambda)             (None, 1, 200)       0           ['decoder_embedding[0][0]']      \n"
     ]
    },
    {
     "name": "stdout",
     "output_type": "stream",
     "text": [
      "                                                                                                  \n",
      " lambda_94 (Lambda)             (None, 1, 200)       0           ['decoder_embedding[0][0]']      \n",
      "                                                                                                  \n",
      " lambda_95 (Lambda)             (None, 1, 200)       0           ['decoder_embedding[0][0]']      \n",
      "                                                                                                  \n",
      " lambda_96 (Lambda)             (None, 1, 200)       0           ['decoder_embedding[0][0]']      \n",
      "                                                                                                  \n",
      " lambda_97 (Lambda)             (None, 1, 200)       0           ['decoder_embedding[0][0]']      \n",
      "                                                                                                  \n",
      " lambda_98 (Lambda)             (None, 1, 200)       0           ['decoder_embedding[0][0]']      \n",
      "                                                                                                  \n",
      " lambda_99 (Lambda)             (None, 1, 200)       0           ['decoder_embedding[0][0]']      \n",
      "                                                                                                  \n",
      " decoder_dense (Dense)          (None, 4711)         1210727     ['decoder_lstm[0][0]',           \n",
      "                                                                  'decoder_lstm[1][0]',           \n",
      "                                                                  'decoder_lstm[2][0]',           \n",
      "                                                                  'decoder_lstm[3][0]',           \n",
      "                                                                  'decoder_lstm[4][0]',           \n",
      "                                                                  'decoder_lstm[5][0]',           \n",
      "                                                                  'decoder_lstm[6][0]',           \n",
      "                                                                  'decoder_lstm[7][0]',           \n",
      "                                                                  'decoder_lstm[8][0]',           \n",
      "                                                                  'decoder_lstm[9][0]',           \n",
      "                                                                  'decoder_lstm[10][0]']          \n",
      "                                                                                                  \n",
      " lambda_100 (Lambda)            (None, 11, 4711)     0           ['decoder_dense[0][0]',          \n",
      "                                                                  'decoder_dense[1][0]',          \n",
      "                                                                  'decoder_dense[2][0]',          \n",
      "                                                                  'decoder_dense[3][0]',          \n",
      "                                                                  'decoder_dense[4][0]',          \n",
      "                                                                  'decoder_dense[5][0]',          \n",
      "                                                                  'decoder_dense[6][0]',          \n",
      "                                                                  'decoder_dense[7][0]',          \n",
      "                                                                  'decoder_dense[8][0]',          \n",
      "                                                                  'decoder_dense[9][0]',          \n",
      "                                                                  'decoder_dense[10][0]']         \n",
      "                                                                                                  \n",
      "==================================================================================================\n",
      "Total params: 4,490,020\n",
      "Trainable params: 4,490,020\n",
      "Non-trainable params: 0\n",
      "__________________________________________________________________________________________________\n"
     ]
    }
   ],
   "source": [
    "model1.summary()"
   ]
  },
  {
   "cell_type": "code",
   "execution_count": 355,
   "id": "dd10b423",
   "metadata": {},
   "outputs": [
    {
     "data": {
      "image/png": "[encoded data removed]",
      "text/plain": [
       "<IPython.core.display.Image object>"
      ]
     },
     "execution_count": 355,
     "metadata": {},
     "output_type": "execute_result"
    }
   ],
   "source": [
    "tf.keras.utils.plot_model(model1)"
   ]
  },
  {
   "cell_type": "code",
   "execution_count": 356,
   "id": "9a2bb7c8",
   "metadata": {},
   "outputs": [],
   "source": [
    "model1.compile(optimizer='adam',loss='categorical_crossentropy',metrics=['accuracy'])\n"
   ]
  },
  {
   "cell_type": "markdown",
   "id": "b826f508",
   "metadata": {},
   "source": [
    "### Model Training\n",
    "We create the initial states by taking zero as inputs."
   ]
  },
  {
   "cell_type": "code",
   "execution_count": 357,
   "id": "7068fc7d",
   "metadata": {},
   "outputs": [],
   "source": [
    "initial_s_training=np.zeros((Num_samples,LATENT_DIM))\n",
    "initial_c_training =np.zeros(shape=(Num_samples,LATENT_DIM))"
   ]
  },
  {
   "cell_type": "code",
   "execution_count": 360,
   "id": "b5bbf167",
   "metadata": {},
   "outputs": [
    {
     "name": "stdout",
     "output_type": "stream",
     "text": [
      "Epoch 1/100\n",
      "WARNING:tensorflow:Model was constructed with shape (None, 4, 200) for input KerasTensor(type_spec=TensorSpec(shape=(None, 4, 200), dtype=tf.float32, name=None), name='Placeholder:0', description=\"created by layer 'input_9'\"), but it was called on an input with incompatible shape (100, 4, 1).\n",
      "WARNING:tensorflow:Model was constructed with shape (None, 11, 200) for input KerasTensor(type_spec=TensorSpec(shape=(None, 11, 200), dtype=tf.float32, name=None), name='Placeholder:0', description=\"created by layer 'input_10'\"), but it was called on an input with incompatible shape (100, 11, 1).\n"
     ]
    },
    {
     "ename": "ValueError",
     "evalue": "in user code:\n\n    File \"/Users/ngounepeetprogress/opt/anaconda3/envs/deepL/lib/python3.7/site-packages/keras/engine/training.py\", line 1160, in train_function  *\n        return step_function(self, iterator)\n    File \"/Users/ngounepeetprogress/opt/anaconda3/envs/deepL/lib/python3.7/site-packages/keras/engine/training.py\", line 1146, in step_function  **\n        outputs = model.distribute_strategy.run(run_step, args=(data,))\n    File \"/Users/ngounepeetprogress/opt/anaconda3/envs/deepL/lib/python3.7/site-packages/keras/engine/training.py\", line 1135, in run_step  **\n        outputs = model.train_step(data)\n    File \"/Users/ngounepeetprogress/opt/anaconda3/envs/deepL/lib/python3.7/site-packages/keras/engine/training.py\", line 993, in train_step\n        y_pred = self(x, training=True)\n    File \"/Users/ngounepeetprogress/opt/anaconda3/envs/deepL/lib/python3.7/site-packages/keras/utils/traceback_utils.py\", line 70, in error_handler\n        raise e.with_traceback(filtered_tb) from None\n    File \"/Users/ngounepeetprogress/opt/anaconda3/envs/deepL/lib/python3.7/site-packages/keras/engine/input_spec.py\", line 296, in assert_input_compatibility\n        f'Input {input_index} of layer \"{layer_name}\" is '\n\n    ValueError: Exception encountered when calling layer \"encoder_bidirection\" \"                 f\"(type Bidirectional).\n    \n    Input 0 of layer \"forward_lstm_13\" is incompatible with the layer: expected shape=(None, None, 200), found shape=(100, 4, 1)\n    \n    Call arguments received by layer \"encoder_bidirection\" \"                 f\"(type Bidirectional):\n      • inputs=tf.Tensor(shape=(100, 4, 1), dtype=float32)\n      • training=True\n      • mask=None\n      • initial_state=None\n      • constants=None\n",
     "output_type": "error",
     "traceback": [
      "\u001b[0;31m---------------------------------------------------------------------------\u001b[0m",
      "\u001b[0;31mValueError\u001b[0m                                Traceback (most recent call last)",
      "\u001b[0;32m/var/folders/w7/lv7v1z314890hvd4_8nrhqlm0000gn/T/ipykernel_63809/3863599746.py\u001b[0m in \u001b[0;36m<module>\u001b[0;34m\u001b[0m\n\u001b[0;32m----> 1\u001b[0;31m \u001b[0mR\u001b[0m \u001b[0;34m=\u001b[0m \u001b[0mmodel\u001b[0m\u001b[0;34m.\u001b[0m\u001b[0mfit\u001b[0m\u001b[0;34m(\u001b[0m\u001b[0;34m[\u001b[0m\u001b[0mnp\u001b[0m\u001b[0;34m.\u001b[0m\u001b[0mexpand_dims\u001b[0m\u001b[0;34m(\u001b[0m\u001b[0mencoder_input_data\u001b[0m\u001b[0;34m,\u001b[0m\u001b[0maxis\u001b[0m\u001b[0;34m=\u001b[0m\u001b[0;34m-\u001b[0m\u001b[0;36m1\u001b[0m\u001b[0;34m)\u001b[0m\u001b[0;34m,\u001b[0m\u001b[0mnp\u001b[0m\u001b[0;34m.\u001b[0m\u001b[0mexpand_dims\u001b[0m\u001b[0;34m(\u001b[0m\u001b[0mdecoder_input_data\u001b[0m\u001b[0;34m,\u001b[0m\u001b[0maxis\u001b[0m\u001b[0;34m=\u001b[0m\u001b[0;34m-\u001b[0m\u001b[0;36m1\u001b[0m\u001b[0;34m)\u001b[0m\u001b[0;34m,\u001b[0m\u001b[0minitial_s_training\u001b[0m\u001b[0;34m,\u001b[0m\u001b[0minitial_c_training\u001b[0m\u001b[0;34m]\u001b[0m\u001b[0;34m,\u001b[0m\u001b[0mdecoder_target_one_hot\u001b[0m\u001b[0;34m,\u001b[0m\u001b[0mbatch_size\u001b[0m\u001b[0;34m=\u001b[0m\u001b[0;36m100\u001b[0m\u001b[0;34m,\u001b[0m\u001b[0mepochs\u001b[0m\u001b[0;34m=\u001b[0m\u001b[0;36m100\u001b[0m\u001b[0;34m,\u001b[0m\u001b[0mvalidation_split\u001b[0m\u001b[0;34m=\u001b[0m\u001b[0;36m0.3\u001b[0m\u001b[0;34m)\u001b[0m\u001b[0;34m\u001b[0m\u001b[0;34m\u001b[0m\u001b[0m\n\u001b[0m\u001b[1;32m      2\u001b[0m \u001b[0;34m\u001b[0m\u001b[0m\n",
      "\u001b[0;32m~/opt/anaconda3/envs/deepL/lib/python3.7/site-packages/keras/utils/traceback_utils.py\u001b[0m in \u001b[0;36merror_handler\u001b[0;34m(*args, **kwargs)\u001b[0m\n\u001b[1;32m     68\u001b[0m             \u001b[0;31m# To get the full stack trace, call:\u001b[0m\u001b[0;34m\u001b[0m\u001b[0;34m\u001b[0m\u001b[0;34m\u001b[0m\u001b[0m\n\u001b[1;32m     69\u001b[0m             \u001b[0;31m# `tf.debugging.disable_traceback_filtering()`\u001b[0m\u001b[0;34m\u001b[0m\u001b[0;34m\u001b[0m\u001b[0;34m\u001b[0m\u001b[0m\n\u001b[0;32m---> 70\u001b[0;31m             \u001b[0;32mraise\u001b[0m \u001b[0me\u001b[0m\u001b[0;34m.\u001b[0m\u001b[0mwith_traceback\u001b[0m\u001b[0;34m(\u001b[0m\u001b[0mfiltered_tb\u001b[0m\u001b[0;34m)\u001b[0m \u001b[0;32mfrom\u001b[0m \u001b[0;32mNone\u001b[0m\u001b[0;34m\u001b[0m\u001b[0;34m\u001b[0m\u001b[0m\n\u001b[0m\u001b[1;32m     71\u001b[0m         \u001b[0;32mfinally\u001b[0m\u001b[0;34m:\u001b[0m\u001b[0;34m\u001b[0m\u001b[0;34m\u001b[0m\u001b[0m\n\u001b[1;32m     72\u001b[0m             \u001b[0;32mdel\u001b[0m \u001b[0mfiltered_tb\u001b[0m\u001b[0;34m\u001b[0m\u001b[0;34m\u001b[0m\u001b[0m\n",
      "\u001b[0;32m~/opt/anaconda3/envs/deepL/lib/python3.7/site-packages/keras/engine/training.py\u001b[0m in \u001b[0;36mtf__train_function\u001b[0;34m(iterator)\u001b[0m\n\u001b[1;32m     13\u001b[0m                 \u001b[0;32mtry\u001b[0m\u001b[0;34m:\u001b[0m\u001b[0;34m\u001b[0m\u001b[0;34m\u001b[0m\u001b[0m\n\u001b[1;32m     14\u001b[0m                     \u001b[0mdo_return\u001b[0m \u001b[0;34m=\u001b[0m \u001b[0;32mTrue\u001b[0m\u001b[0;34m\u001b[0m\u001b[0;34m\u001b[0m\u001b[0m\n\u001b[0;32m---> 15\u001b[0;31m                     \u001b[0mretval_\u001b[0m \u001b[0;34m=\u001b[0m \u001b[0mag__\u001b[0m\u001b[0;34m.\u001b[0m\u001b[0mconverted_call\u001b[0m\u001b[0;34m(\u001b[0m\u001b[0mag__\u001b[0m\u001b[0;34m.\u001b[0m\u001b[0mld\u001b[0m\u001b[0;34m(\u001b[0m\u001b[0mstep_function\u001b[0m\u001b[0;34m)\u001b[0m\u001b[0;34m,\u001b[0m \u001b[0;34m(\u001b[0m\u001b[0mag__\u001b[0m\u001b[0;34m.\u001b[0m\u001b[0mld\u001b[0m\u001b[0;34m(\u001b[0m\u001b[0mself\u001b[0m\u001b[0;34m)\u001b[0m\u001b[0;34m,\u001b[0m \u001b[0mag__\u001b[0m\u001b[0;34m.\u001b[0m\u001b[0mld\u001b[0m\u001b[0;34m(\u001b[0m\u001b[0miterator\u001b[0m\u001b[0;34m)\u001b[0m\u001b[0;34m)\u001b[0m\u001b[0;34m,\u001b[0m \u001b[0;32mNone\u001b[0m\u001b[0;34m,\u001b[0m \u001b[0mfscope\u001b[0m\u001b[0;34m)\u001b[0m\u001b[0;34m\u001b[0m\u001b[0;34m\u001b[0m\u001b[0m\n\u001b[0m\u001b[1;32m     16\u001b[0m                 \u001b[0;32mexcept\u001b[0m\u001b[0;34m:\u001b[0m\u001b[0;34m\u001b[0m\u001b[0;34m\u001b[0m\u001b[0m\n\u001b[1;32m     17\u001b[0m                     \u001b[0mdo_return\u001b[0m \u001b[0;34m=\u001b[0m \u001b[0;32mFalse\u001b[0m\u001b[0;34m\u001b[0m\u001b[0;34m\u001b[0m\u001b[0m\n",
      "\u001b[0;31mValueError\u001b[0m: in user code:\n\n    File \"/Users/ngounepeetprogress/opt/anaconda3/envs/deepL/lib/python3.7/site-packages/keras/engine/training.py\", line 1160, in train_function  *\n        return step_function(self, iterator)\n    File \"/Users/ngounepeetprogress/opt/anaconda3/envs/deepL/lib/python3.7/site-packages/keras/engine/training.py\", line 1146, in step_function  **\n        outputs = model.distribute_strategy.run(run_step, args=(data,))\n    File \"/Users/ngounepeetprogress/opt/anaconda3/envs/deepL/lib/python3.7/site-packages/keras/engine/training.py\", line 1135, in run_step  **\n        outputs = model.train_step(data)\n    File \"/Users/ngounepeetprogress/opt/anaconda3/envs/deepL/lib/python3.7/site-packages/keras/engine/training.py\", line 993, in train_step\n        y_pred = self(x, training=True)\n    File \"/Users/ngounepeetprogress/opt/anaconda3/envs/deepL/lib/python3.7/site-packages/keras/utils/traceback_utils.py\", line 70, in error_handler\n        raise e.with_traceback(filtered_tb) from None\n    File \"/Users/ngounepeetprogress/opt/anaconda3/envs/deepL/lib/python3.7/site-packages/keras/engine/input_spec.py\", line 296, in assert_input_compatibility\n        f'Input {input_index} of layer \"{layer_name}\" is '\n\n    ValueError: Exception encountered when calling layer \"encoder_bidirection\" \"                 f\"(type Bidirectional).\n    \n    Input 0 of layer \"forward_lstm_13\" is incompatible with the layer: expected shape=(None, None, 200), found shape=(100, 4, 1)\n    \n    Call arguments received by layer \"encoder_bidirection\" \"                 f\"(type Bidirectional):\n      • inputs=tf.Tensor(shape=(100, 4, 1), dtype=float32)\n      • training=True\n      • mask=None\n      • initial_state=None\n      • constants=None\n"
     ]
    }
   ],
   "source": [
    "\n",
    "R = model1.fit([np.expand_dims(encoder_input_data,axis=-1),np.expand_dims(decoder_input_data,axis=-1),initial_s_training,initial_c_training],decoder_target_one_hot,batch_size=100,epochs=100,validation_split=0.3)\n",
    "\n"
   ]
  },
  {
   "cell_type": "code",
   "execution_count": null,
   "id": "2c06ff76",
   "metadata": {},
   "outputs": [],
   "source": []
  },
  {
   "cell_type": "code",
   "execution_count": 424,
   "id": "98c45646",
   "metadata": {},
   "outputs": [
    {
     "data": {
      "text/plain": [
       "((10000, 256), (10000, 256))"
      ]
     },
     "execution_count": 424,
     "metadata": {},
     "output_type": "execute_result"
    }
   ],
   "source": [
    "initial_s_training.shape,initial_c_training.shape"
   ]
  },
  {
   "cell_type": "code",
   "execution_count": 256,
   "id": "852a5843",
   "metadata": {},
   "outputs": [
    {
     "data": {
      "text/plain": [
       "(10000, 11)"
      ]
     },
     "execution_count": 256,
     "metadata": {},
     "output_type": "execute_result"
    }
   ],
   "source": [
    "decoder_input_data.shape"
   ]
  },
  {
   "cell_type": "code",
   "execution_count": null,
   "id": "5623f8f8",
   "metadata": {},
   "outputs": [],
   "source": [
    "### test new ######"
   ]
  },
  {
   "cell_type": "code",
   "execution_count": 457,
   "id": "7231343b",
   "metadata": {},
   "outputs": [
    {
     "name": "stdout",
     "output_type": "stream",
     "text": [
      "Requirement already satisfied: wget in /Users/ngounepeetprogress/opt/anaconda3/envs/deepL/lib/python3.7/site-packages (3.2)\n",
      "\u001b[33mWARNING: There was an error checking the latest version of pip.\u001b[0m\u001b[33m\n",
      "\u001b[0m"
     ]
    },
    {
     "data": {
      "text/plain": [
       "217976"
      ]
     },
     "execution_count": 457,
     "metadata": {},
     "output_type": "execute_result"
    }
   ],
   "source": [
    "import tensorflow as tf\n",
    "from tensorflow.keras.models import Model\n",
    "from tensorflow.keras.layers import Input,Dense, LSTM, Embedding, Bidirectional,RepeatVector, Concatenate, Activation,Dot, Lambda\n",
    "from tensorflow.keras.preprocessing.text import Tokenizer\n",
    "from tensorflow.keras.preprocessing.sequence import pad_sequences\n",
    "from keras import preprocessing, utils\n",
    "import numpy as np\n",
    "import matplotlib.pyplot as plt\n",
    "!pip install wget\n",
    "import wget\n",
    "# reading data\n",
    "with open('fra.txt',encoding='utf-8',errors='ignore')as file:\n",
    "    text=file.read().split('\\n')\n",
    "len(text)"
   ]
  },
  {
   "cell_type": "code",
   "execution_count": 458,
   "id": "35b63e07",
   "metadata": {},
   "outputs": [
    {
     "name": "stdout",
     "output_type": "stream",
     "text": [
      "(10000, 4)\n"
     ]
    },
    {
     "data": {
      "text/plain": [
       "array([[   3,   18,    5,  174,    2,    0,    0,    0,    0,    0,    0],\n",
       "       [   3,   18,    5,  104,    2,    0,    0,    0,    0,    0,    0],\n",
       "       [  51,   42,  266,  202,    2,    0,    0,    0,    0,    0,    0],\n",
       "       [   3,    5,  339,  118,    2,    0,    0,    0,    0,    0,    0],\n",
       "       [   3,    5, 1546,  118,    2,    0,    0,    0,    0,    0,    0],\n",
       "       [   3,   15,  820,    2,    0,    0,    0,    0,    0,    0,    0],\n",
       "       [1547,    2,    0,    0,    0,    0,    0,    0,    0,    0,    0],\n",
       "       [  13, 2636,   11,  235,    2,    0,    0,    0,    0,    0,    0],\n",
       "       [   3,   43,  129,    2,    0,    0,    0,    0,    0,    0,    0],\n",
       "       [   3,   43,  821,    2,    0,    0,    0,    0,    0,    0,    0]],\n",
       "      dtype=int32)"
      ]
     },
     "execution_count": 458,
     "metadata": {},
     "output_type": "execute_result"
    }
   ],
   "source": [
    "#max length of the input\n",
    "maxlen_input = max( [ len(x)\n",
    "                    for x in tokenized_input ] )\n",
    "#padding sequence to the maximum length\n",
    "padded_input = pad_sequences( tokenized_input , maxlen=maxlen_input ,padding='post' )\n",
    "padded_input[2000:2010]\n",
    "encoder_input_data = np.array( padded_input )\n",
    "print( encoder_input_data.shape)\n",
    "#converting tokenized text into sequences\n",
    "tokenized_output = tokenizer_out.texts_to_sequences(target_texts)\n",
    "output_vocab_size=len(tokenizer_out.word_index) + 1\n",
    "output_vocab_size\n",
    "# teacher forcing\n",
    "for i in range(len(tokenized_output)) :\n",
    "    tokenized_output[i] = tokenized_output[i][1:]\n",
    "# padding\n",
    "maxlen_output = max( [ len(x) for x in tokenized_output ] )\n",
    "padded_output = pad_sequences( tokenized_output ,maxlen=maxlen_output ,padding='post' )\n",
    "# converting to numpy\n",
    "decoder_input_data = np.array( padded_output )\n",
    "decoder_input_data[2000:2010]"
   ]
  },
  {
   "cell_type": "code",
   "execution_count": 459,
   "id": "e99d7770",
   "metadata": {},
   "outputs": [
    {
     "name": "stdout",
     "output_type": "stream",
     "text": [
      "Indexing word vectors.\n"
     ]
    }
   ],
   "source": [
    "#decoder target output\n",
    "decoder_target_one_hot=np.zeros((len(input_texts),maxlen_output,output_vocab_size),dtype='float32')\n",
    "for i,d in enumerate(padded_output):\n",
    "    for t,word in enumerate(d):\n",
    "        decoder_target_one_hot[i,t,word]=1\n",
    "decoder_target_one_hot[0]\n",
    "#creating dictionary of words corresponding to vectors\n",
    "print('Indexing word vectors.')\n",
    "embeddings_index = {}\n",
    "# Use this open command in case of downloading using wget above\n",
    "#f = open('glove.6B.200d.txt', encoding='utf-8')\n",
    "# we can choose any dimensions 50 100 200 300\n",
    "f = open('glove.6B.200d.txt',\n",
    "                encoding='utf-8')\n",
    "for line in f:\n",
    "    values = line.split()\n",
    "    word = values[0]\n",
    "    coefs = np.asarray(values[1:], dtype='float32')\n",
    "    embeddings_index[word] = coefs\n",
    "f.close()"
   ]
  },
  {
   "cell_type": "code",
   "execution_count": 460,
   "id": "f00d8250",
   "metadata": {},
   "outputs": [
    {
     "name": "stdout",
     "output_type": "stream",
     "text": [
      "Found 400000 word vectors.\n"
     ]
    }
   ],
   "source": [
    "print('Found %s word vectors.' %\n",
    "            len(embeddings_index))\n",
    "embeddings_index[\"any\"]\n",
    "#embedding matrix\n",
    "num_words = len(tokenizer_in.word_index)+1\n",
    "word2idx_input = tokenizer_in.word_index\n",
    "embedding_matrix = np.zeros((num_words, 200))\n",
    "for word,i in word2idx_input.items():\n",
    "    if i<num_words:\n",
    "        embedding_vector = embeddings_index.get(word)\n",
    "    if embedding_vector is not None:\n",
    "        embedding_matrix[i] = embedding_vector\n",
    "embedding_matrix.shape\n",
    "#lstm hidden dimensions\n",
    "LATENT_DIM=256\n",
    "#embeding layer dimensions\n",
    "EMBEDDING_DIM=200\n",
    "embedding_layer=Embedding(input_vocab_size,EMBEDDING_DIM,weights=[embedding_matrix],input_length=maxlen_input)\n",
    "#encoder\n",
    "encoder_inputs = Input(shape=(maxlen_input,),name = 'encoderinput')\n",
    "encoder_input = embedding_layer(encoder_inputs)\n",
    "encoder = Bidirectional(LSTM(LATENT_DIM,return_sequences=True,dropout = 0.3),name = 'encoder_bidirection')"
   ]
  },
  {
   "cell_type": "code",
   "execution_count": 461,
   "id": "19bcdc37",
   "metadata": {},
   "outputs": [
    {
     "data": {
      "text/plain": [
       "TensorShape([None, 4])"
      ]
     },
     "execution_count": 461,
     "metadata": {},
     "output_type": "execute_result"
    }
   ],
   "source": [
    "encoder_inputs.shape"
   ]
  },
  {
   "cell_type": "code",
   "execution_count": 462,
   "id": "96d9c450",
   "metadata": {},
   "outputs": [],
   "source": [
    "encoder_outputs = encoder(encoder_input)\n",
    "encoder_outputs.shape\n",
    "decoder_inputs = Input(shape=(maxlen_output,),\n",
    "                      name='decoder_input')\n",
    "decoder_embedding = Embedding(output_vocab_size,\n",
    "                            EMBEDDING_DIM,\n",
    "                            name='decoder_embedding')\n",
    "decoder_input=decoder_embedding(decoder_inputs)\n",
    "decoder_input.shape\n",
    "#decoder lstm\n",
    "decoder_lstm = LSTM(LATENT_DIM,return_state = True,name = 'decoder_lstm')\n",
    "#decoder dense with softmax for predicting each word\n",
    "decoder_dense = Dense(output_vocab_size,activation='softmax',name='decoder_dense')\n",
    "# Computing alphas\n",
    "import tensorflow.keras.backend as k\n",
    "def softmax_attention(x):\n",
    "    assert(k.ndim(x)>2)\n",
    "    e=k.exp(x-k.max(x,axis=1,keepdims=True))\n",
    "    s=k.sum(e,axis=1,keepdims=True)\n",
    "    return e/s\n",
    "# nerual network layers for our repeated use\n",
    "attention_repeat =  RepeatVector(maxlen_input)\n",
    "attention_concat = Concatenate(axis=-1)\n",
    "dense1_layer = Dense(10,activation='tanh')"
   ]
  },
  {
   "cell_type": "code",
   "execution_count": 463,
   "id": "eeda3bdf",
   "metadata": {},
   "outputs": [],
   "source": [
    "dense2_layer = Dense(1,activation = softmax_attention)\n",
    "dot_layer = Dot(axes=1)\n",
    "# computing attention context\n",
    "def context_attention(h, st_1):\n",
    "    st_1=attention_repeat(st_1)\n",
    "    x=attention_concat([h,st_1])\n",
    "    x=dense1_layer(x)\n",
    "    alphas=dense2_layer(x)\n",
    "    context = dot_layer([alphas,h])\n",
    "    return context\n",
    "#initial states to be fed\n",
    "initial_s = Input(shape=(LATENT_DIM,), name='s0')\n",
    "initial_c = Input(shape=(LATENT_DIM,), name='c0')\n",
    "context_last_word_concat_layer = Concatenate(axis=2)\n",
    "s = initial_s\n",
    "c = initial_c\n",
    "outputs = []\n",
    "#collect output in a list at first\n",
    "for t in range(maxlen_output): #ty times\n",
    "    #get the context using attention mechanism\n",
    "    context=context_attention(encoder_outputs,s)\n",
    "    #we need a different layer for each time step\n",
    "    selector=Lambda(lambda x: x[:,t:t+1])\n",
    "    x_t=selector(decoder_input)\n",
    "    #combine\n",
    "    decoder_lstm_input=context_last_word_concat_layer([context,x_t])\n",
    "        #pass the combined [context,last word] into lstm\n",
    "    #along with [s,c]\n",
    "    #get the new[s,c] and output\n",
    "    out,s,c=decoder_lstm(decoder_lstm_input,\n",
    "                            initial_state=[s,c])\n",
    "    #final dense layer to get next word prediction\n",
    "    decoder_outputs = decoder_dense(out)\n",
    "    outputs.append(decoder_outputs)"
   ]
  },
  {
   "cell_type": "code",
   "execution_count": 374,
   "id": "3868992b",
   "metadata": {},
   "outputs": [
    {
     "name": "stdout",
     "output_type": "stream",
     "text": [
      "Model: \"model_8\"\n",
      "__________________________________________________________________________________________________\n",
      " Layer (type)                   Output Shape         Param #     Connected to                     \n",
      "==================================================================================================\n",
      " encoderinput (InputLayer)      [(None, 4)]          0           []                               \n",
      "                                                                                                  \n",
      " embedding_5 (Embedding)        (None, 4, 200)       401200      ['encoderinput[0][0]']           \n",
      "                                                                                                  \n",
      " s0 (InputLayer)                [(None, 256)]        0           []                               \n",
      "                                                                                                  \n",
      " encoder_bidirection (Bidirecti  (None, 4, 512)      935936      ['embedding_5[0][0]']            \n",
      " onal)                                                                                            \n",
      "                                                                                                  \n",
      " repeat_vector_13 (RepeatVector  (None, 4, 256)      0           ['s0[0][0]',                     \n",
      " )                                                                'decoder_lstm[0][1]',           \n",
      "                                                                  'decoder_lstm[1][1]',           \n",
      "                                                                  'decoder_lstm[2][1]',           \n",
      "                                                                  'decoder_lstm[3][1]',           \n",
      "                                                                  'decoder_lstm[4][1]',           \n",
      "                                                                  'decoder_lstm[5][1]',           \n",
      "                                                                  'decoder_lstm[6][1]',           \n",
      "                                                                  'decoder_lstm[7][1]',           \n",
      "                                                                  'decoder_lstm[8][1]',           \n",
      "                                                                  'decoder_lstm[9][1]']           \n",
      "                                                                                                  \n",
      " concatenate_22 (Concatenate)   (None, 4, 768)       0           ['encoder_bidirection[1][0]',    \n",
      "                                                                  'repeat_vector_13[11][0]',      \n",
      "                                                                  'encoder_bidirection[1][0]',    \n",
      "                                                                  'repeat_vector_13[12][0]',      \n",
      "                                                                  'encoder_bidirection[1][0]',    \n",
      "                                                                  'repeat_vector_13[13][0]',      \n",
      "                                                                  'encoder_bidirection[1][0]',    \n",
      "                                                                  'repeat_vector_13[14][0]',      \n",
      "                                                                  'encoder_bidirection[1][0]',    \n",
      "                                                                  'repeat_vector_13[15][0]',      \n",
      "                                                                  'encoder_bidirection[1][0]',    \n",
      "                                                                  'repeat_vector_13[16][0]',      \n",
      "                                                                  'encoder_bidirection[1][0]',    \n",
      "                                                                  'repeat_vector_13[17][0]',      \n",
      "                                                                  'encoder_bidirection[1][0]',    \n",
      "                                                                  'repeat_vector_13[18][0]',      \n",
      "                                                                  'encoder_bidirection[1][0]',    \n",
      "                                                                  'repeat_vector_13[19][0]',      \n",
      "                                                                  'encoder_bidirection[1][0]',    \n",
      "                                                                  'repeat_vector_13[20][0]',      \n",
      "                                                                  'encoder_bidirection[1][0]',    \n",
      "                                                                  'repeat_vector_13[21][0]']      \n",
      "                                                                                                  \n",
      " dense_23 (Dense)               (None, 4, 10)        7690        ['concatenate_22[11][0]',        \n",
      "                                                                  'concatenate_22[12][0]',        \n",
      "                                                                  'concatenate_22[13][0]',        \n",
      "                                                                  'concatenate_22[14][0]',        \n",
      "                                                                  'concatenate_22[15][0]',        \n",
      "                                                                  'concatenate_22[16][0]',        \n",
      "                                                                  'concatenate_22[17][0]',        \n",
      "                                                                  'concatenate_22[18][0]',        \n",
      "                                                                  'concatenate_22[19][0]',        \n",
      "                                                                  'concatenate_22[20][0]',        \n",
      "                                                                  'concatenate_22[21][0]']        \n",
      "                                                                                                  \n",
      " decoder_input (InputLayer)     [(None, 11)]         0           []                               \n",
      "                                                                                                  \n",
      " dense_25 (Dense)               (None, 4, 1)         11          ['dense_23[11][0]',              \n",
      "                                                                  'dense_23[12][0]',              \n",
      "                                                                  'dense_23[13][0]',              \n",
      "                                                                  'dense_23[14][0]',              \n",
      "                                                                  'dense_23[15][0]',              \n",
      "                                                                  'dense_23[16][0]',              \n",
      "                                                                  'dense_23[17][0]',              \n",
      "                                                                  'dense_23[18][0]',              \n",
      "                                                                  'dense_23[19][0]',              \n",
      "                                                                  'dense_23[20][0]',              \n",
      "                                                                  'dense_23[21][0]']              \n",
      "                                                                                                  \n",
      " decoder_embedding (Embedding)  (None, 11, 200)      942200      ['decoder_input[0][0]']          \n",
      "                                                                                                  \n",
      " dot_11 (Dot)                   (None, 1, 512)       0           ['dense_25[0][0]',               \n",
      "                                                                  'encoder_bidirection[1][0]',    \n",
      "                                                                  'dense_25[1][0]',               \n",
      "                                                                  'encoder_bidirection[1][0]',    \n",
      "                                                                  'dense_25[2][0]',               \n",
      "                                                                  'encoder_bidirection[1][0]',    \n",
      "                                                                  'dense_25[3][0]',               \n",
      "                                                                  'encoder_bidirection[1][0]',    \n"
     ]
    },
    {
     "name": "stdout",
     "output_type": "stream",
     "text": [
      "                                                                  'dense_25[4][0]',               \n",
      "                                                                  'encoder_bidirection[1][0]',    \n",
      "                                                                  'dense_25[5][0]',               \n",
      "                                                                  'encoder_bidirection[1][0]',    \n",
      "                                                                  'dense_25[6][0]',               \n",
      "                                                                  'encoder_bidirection[1][0]',    \n",
      "                                                                  'dense_25[7][0]',               \n",
      "                                                                  'encoder_bidirection[1][0]',    \n",
      "                                                                  'dense_25[8][0]',               \n",
      "                                                                  'encoder_bidirection[1][0]',    \n",
      "                                                                  'dense_25[9][0]',               \n",
      "                                                                  'encoder_bidirection[1][0]',    \n",
      "                                                                  'dense_25[10][0]',              \n",
      "                                                                  'encoder_bidirection[1][0]']    \n",
      "                                                                                                  \n",
      " lambda_75 (Lambda)             (None, 1, 200)       0           ['decoder_embedding[0][0]']      \n",
      "                                                                                                  \n",
      " concatenate_24 (Concatenate)   (None, 1, 712)       0           ['dot_11[0][0]',                 \n",
      "                                                                  'lambda_75[0][0]',              \n",
      "                                                                  'dot_11[1][0]',                 \n",
      "                                                                  'lambda_76[0][0]',              \n",
      "                                                                  'dot_11[2][0]',                 \n",
      "                                                                  'lambda_77[0][0]',              \n",
      "                                                                  'dot_11[3][0]',                 \n",
      "                                                                  'lambda_78[0][0]',              \n",
      "                                                                  'dot_11[4][0]',                 \n",
      "                                                                  'lambda_79[0][0]',              \n",
      "                                                                  'dot_11[5][0]',                 \n",
      "                                                                  'lambda_80[0][0]',              \n",
      "                                                                  'dot_11[6][0]',                 \n",
      "                                                                  'lambda_81[0][0]',              \n",
      "                                                                  'dot_11[7][0]',                 \n",
      "                                                                  'lambda_82[0][0]',              \n",
      "                                                                  'dot_11[8][0]',                 \n",
      "                                                                  'lambda_83[0][0]',              \n",
      "                                                                  'dot_11[9][0]',                 \n",
      "                                                                  'lambda_84[0][0]',              \n",
      "                                                                  'dot_11[10][0]',                \n",
      "                                                                  'lambda_85[0][0]']              \n",
      "                                                                                                  \n",
      " c0 (InputLayer)                [(None, 256)]        0           []                               \n",
      "                                                                                                  \n",
      " decoder_lstm (LSTM)            [(None, 256),        992256      ['concatenate_24[0][0]',         \n",
      "                                 (None, 256),                     's0[0][0]',                     \n",
      "                                 (None, 256)]                     'c0[0][0]',                     \n",
      "                                                                  'concatenate_24[1][0]',         \n",
      "                                                                  'decoder_lstm[0][1]',           \n",
      "                                                                  'decoder_lstm[0][2]',           \n",
      "                                                                  'concatenate_24[2][0]',         \n",
      "                                                                  'decoder_lstm[1][1]',           \n",
      "                                                                  'decoder_lstm[1][2]',           \n",
      "                                                                  'concatenate_24[3][0]',         \n",
      "                                                                  'decoder_lstm[2][1]',           \n",
      "                                                                  'decoder_lstm[2][2]',           \n",
      "                                                                  'concatenate_24[4][0]',         \n",
      "                                                                  'decoder_lstm[3][1]',           \n",
      "                                                                  'decoder_lstm[3][2]',           \n",
      "                                                                  'concatenate_24[5][0]',         \n",
      "                                                                  'decoder_lstm[4][1]',           \n",
      "                                                                  'decoder_lstm[4][2]',           \n",
      "                                                                  'concatenate_24[6][0]',         \n",
      "                                                                  'decoder_lstm[5][1]',           \n",
      "                                                                  'decoder_lstm[5][2]',           \n",
      "                                                                  'concatenate_24[7][0]',         \n",
      "                                                                  'decoder_lstm[6][1]',           \n",
      "                                                                  'decoder_lstm[6][2]',           \n",
      "                                                                  'concatenate_24[8][0]',         \n",
      "                                                                  'decoder_lstm[7][1]',           \n",
      "                                                                  'decoder_lstm[7][2]',           \n",
      "                                                                  'concatenate_24[9][0]',         \n",
      "                                                                  'decoder_lstm[8][1]',           \n",
      "                                                                  'decoder_lstm[8][2]',           \n",
      "                                                                  'concatenate_24[10][0]',        \n",
      "                                                                  'decoder_lstm[9][1]',           \n",
      "                                                                  'decoder_lstm[9][2]']           \n",
      "                                                                                                  \n",
      " lambda_76 (Lambda)             (None, 1, 200)       0           ['decoder_embedding[0][0]']      \n",
      "                                                                                                  \n",
      " lambda_77 (Lambda)             (None, 1, 200)       0           ['decoder_embedding[0][0]']      \n",
      "                                                                                                  \n",
      " lambda_78 (Lambda)             (None, 1, 200)       0           ['decoder_embedding[0][0]']      \n",
      "                                                                                                  \n",
      " lambda_79 (Lambda)             (None, 1, 200)       0           ['decoder_embedding[0][0]']      \n"
     ]
    },
    {
     "name": "stdout",
     "output_type": "stream",
     "text": [
      "                                                                                                  \n",
      " lambda_80 (Lambda)             (None, 1, 200)       0           ['decoder_embedding[0][0]']      \n",
      "                                                                                                  \n",
      " lambda_81 (Lambda)             (None, 1, 200)       0           ['decoder_embedding[0][0]']      \n",
      "                                                                                                  \n",
      " lambda_82 (Lambda)             (None, 1, 200)       0           ['decoder_embedding[0][0]']      \n",
      "                                                                                                  \n",
      " lambda_83 (Lambda)             (None, 1, 200)       0           ['decoder_embedding[0][0]']      \n",
      "                                                                                                  \n",
      " lambda_84 (Lambda)             (None, 1, 200)       0           ['decoder_embedding[0][0]']      \n",
      "                                                                                                  \n",
      " lambda_85 (Lambda)             (None, 1, 200)       0           ['decoder_embedding[0][0]']      \n",
      "                                                                                                  \n",
      " decoder_dense (Dense)          (None, 4711)         1210727     ['decoder_lstm[0][0]',           \n",
      "                                                                  'decoder_lstm[1][0]',           \n",
      "                                                                  'decoder_lstm[2][0]',           \n",
      "                                                                  'decoder_lstm[3][0]',           \n",
      "                                                                  'decoder_lstm[4][0]',           \n",
      "                                                                  'decoder_lstm[5][0]',           \n",
      "                                                                  'decoder_lstm[6][0]',           \n",
      "                                                                  'decoder_lstm[7][0]',           \n",
      "                                                                  'decoder_lstm[8][0]',           \n",
      "                                                                  'decoder_lstm[9][0]',           \n",
      "                                                                  'decoder_lstm[10][0]']          \n",
      "                                                                                                  \n",
      " lambda_86 (Lambda)             (None, 11, 4711)     0           ['decoder_dense[0][0]',          \n",
      "                                                                  'decoder_dense[1][0]',          \n",
      "                                                                  'decoder_dense[2][0]',          \n",
      "                                                                  'decoder_dense[3][0]',          \n",
      "                                                                  'decoder_dense[4][0]',          \n",
      "                                                                  'decoder_dense[5][0]',          \n",
      "                                                                  'decoder_dense[6][0]',          \n",
      "                                                                  'decoder_dense[7][0]',          \n",
      "                                                                  'decoder_dense[8][0]',          \n",
      "                                                                  'decoder_dense[9][0]',          \n",
      "                                                                  'decoder_dense[10][0]']         \n",
      "                                                                                                  \n",
      " lambda_87 (Lambda)             (11, None, 4711)     0           ['lambda_86[0][0]']              \n",
      "                                                                                                  \n",
      " lambda_88 (Lambda)             (None, 11, 4711)     0           ['lambda_87[0][0]']              \n",
      "                                                                                                  \n",
      "==================================================================================================\n",
      "Total params: 4,490,020\n",
      "Trainable params: 4,490,020\n",
      "Non-trainable params: 0\n",
      "__________________________________________________________________________________________________\n"
     ]
    }
   ],
   "source": [
    "def stack(x):\n",
    "    x=k.stack(x)\n",
    "    x=k.permute_dimensions(x,pattern=(1,0,2))\n",
    "    return x\n",
    "stacker=Lambda(stack)\n",
    "outputs=stacker(outputs)\n",
    "outputs\n",
    "model=Model(inputs=[encoder_inputs,decoder_inputs,initial_s,initial_c],outputs=outputs)\n",
    "model.summary()\n",
    "tf.keras.utils.plot_model (model)\n",
    "model.compile(optimizer='adam',loss='categorical_crossentropy',metrics=['accuracy'])\n",
    "initial_s_training=np.zeros((Num_samples,LATENT_DIM))\n",
    "#initial s c"
   ]
  },
  {
   "cell_type": "code",
   "execution_count": 376,
   "id": "1d991362",
   "metadata": {},
   "outputs": [
    {
     "name": "stdout",
     "output_type": "stream",
     "text": [
      "Epoch 1/100\n",
      "70/70 [==============================] - 68s 693ms/step - loss: 3.0677 - accuracy: 0.6425 - val_loss: 2.5495 - val_accuracy: 0.6001\n",
      "Epoch 2/100\n",
      "70/70 [==============================] - 24s 339ms/step - loss: 2.0117 - accuracy: 0.6856 - val_loss: 2.4157 - val_accuracy: 0.6468\n",
      "Epoch 3/100\n",
      "70/70 [==============================] - 28s 402ms/step - loss: 1.9098 - accuracy: 0.7071 - val_loss: 2.3656 - val_accuracy: 0.6567\n",
      "Epoch 4/100\n",
      "70/70 [==============================] - 33s 472ms/step - loss: 1.8430 - accuracy: 0.7156 - val_loss: 2.3442 - val_accuracy: 0.6518\n",
      "Epoch 5/100\n",
      "70/70 [==============================] - 41s 584ms/step - loss: 1.7916 - accuracy: 0.7219 - val_loss: 2.2961 - val_accuracy: 0.6612\n",
      "Epoch 6/100\n",
      "70/70 [==============================] - 49s 699ms/step - loss: 1.7380 - accuracy: 0.7251 - val_loss: 2.2645 - val_accuracy: 0.6639\n",
      "Epoch 7/100\n",
      "70/70 [==============================] - 47s 668ms/step - loss: 1.6924 - accuracy: 0.7300 - val_loss: 2.2412 - val_accuracy: 0.6716\n",
      "Epoch 8/100\n",
      "70/70 [==============================] - 68s 980ms/step - loss: 1.6480 - accuracy: 0.7342 - val_loss: 2.2201 - val_accuracy: 0.6725\n",
      "Epoch 9/100\n",
      "70/70 [==============================] - 49s 690ms/step - loss: 1.6065 - accuracy: 0.7381 - val_loss: 2.2018 - val_accuracy: 0.6802\n",
      "Epoch 10/100\n",
      "70/70 [==============================] - 42s 595ms/step - loss: 1.5690 - accuracy: 0.7438 - val_loss: 2.1784 - val_accuracy: 0.6893\n",
      "Epoch 11/100\n",
      "70/70 [==============================] - 43s 609ms/step - loss: 1.5263 - accuracy: 0.7517 - val_loss: 2.1521 - val_accuracy: 0.6958\n",
      "Epoch 12/100\n",
      "70/70 [==============================] - 42s 602ms/step - loss: 1.4844 - accuracy: 0.7558 - val_loss: 2.1300 - val_accuracy: 0.6962\n",
      "Epoch 13/100\n",
      "70/70 [==============================] - 43s 620ms/step - loss: 1.4502 - accuracy: 0.7582 - val_loss: 2.1132 - val_accuracy: 0.6995\n",
      "Epoch 14/100\n",
      "70/70 [==============================] - 43s 616ms/step - loss: 1.4133 - accuracy: 0.7635 - val_loss: 2.1027 - val_accuracy: 0.7045\n",
      "Epoch 15/100\n",
      "70/70 [==============================] - 43s 619ms/step - loss: 1.3805 - accuracy: 0.7660 - val_loss: 2.0861 - val_accuracy: 0.7038\n",
      "Epoch 16/100\n",
      "70/70 [==============================] - 45s 637ms/step - loss: 1.3500 - accuracy: 0.7678 - val_loss: 2.0662 - val_accuracy: 0.7042\n",
      "Epoch 17/100\n",
      "70/70 [==============================] - 42s 606ms/step - loss: 1.3172 - accuracy: 0.7702 - val_loss: 2.0572 - val_accuracy: 0.7084\n",
      "Epoch 18/100\n",
      "70/70 [==============================] - 43s 622ms/step - loss: 1.2857 - accuracy: 0.7733 - val_loss: 2.0430 - val_accuracy: 0.7114\n",
      "Epoch 19/100\n",
      "70/70 [==============================] - 43s 608ms/step - loss: 1.2553 - accuracy: 0.7763 - val_loss: 2.0212 - val_accuracy: 0.7141\n",
      "Epoch 20/100\n",
      "70/70 [==============================] - 42s 606ms/step - loss: 1.2256 - accuracy: 0.7788 - val_loss: 2.0114 - val_accuracy: 0.7166\n",
      "Epoch 21/100\n",
      "70/70 [==============================] - 43s 618ms/step - loss: 1.1953 - accuracy: 0.7818 - val_loss: 1.9970 - val_accuracy: 0.7178\n",
      "Epoch 22/100\n",
      "70/70 [==============================] - 43s 612ms/step - loss: 1.1677 - accuracy: 0.7838 - val_loss: 1.9884 - val_accuracy: 0.7185\n",
      "Epoch 23/100\n",
      "70/70 [==============================] - 41s 585ms/step - loss: 1.1372 - accuracy: 0.7869 - val_loss: 1.9728 - val_accuracy: 0.7235\n",
      "Epoch 24/100\n",
      "70/70 [==============================] - 39s 566ms/step - loss: 1.1082 - accuracy: 0.7899 - val_loss: 1.9620 - val_accuracy: 0.7261\n",
      "Epoch 25/100\n",
      "70/70 [==============================] - 42s 596ms/step - loss: 1.0795 - accuracy: 0.7928 - val_loss: 1.9637 - val_accuracy: 0.7263\n",
      "Epoch 26/100\n",
      "70/70 [==============================] - 42s 607ms/step - loss: 1.0521 - accuracy: 0.7942 - val_loss: 1.9479 - val_accuracy: 0.7285\n",
      "Epoch 27/100\n",
      "70/70 [==============================] - 43s 618ms/step - loss: 1.0275 - accuracy: 0.7959 - val_loss: 1.9396 - val_accuracy: 0.7301\n",
      "Epoch 28/100\n",
      "70/70 [==============================] - 44s 633ms/step - loss: 1.0002 - accuracy: 0.7987 - val_loss: 1.9376 - val_accuracy: 0.7305\n",
      "Epoch 29/100\n",
      "70/70 [==============================] - 45s 646ms/step - loss: 0.9728 - accuracy: 0.8005 - val_loss: 1.9243 - val_accuracy: 0.7314\n",
      "Epoch 30/100\n",
      "70/70 [==============================] - 46s 652ms/step - loss: 0.9459 - accuracy: 0.8037 - val_loss: 1.9292 - val_accuracy: 0.7315\n",
      "Epoch 31/100\n",
      "70/70 [==============================] - 47s 679ms/step - loss: 0.9196 - accuracy: 0.8058 - val_loss: 1.9147 - val_accuracy: 0.7324\n",
      "Epoch 32/100\n",
      "70/70 [==============================] - 45s 650ms/step - loss: 0.8938 - accuracy: 0.8075 - val_loss: 1.9164 - val_accuracy: 0.7327\n",
      "Epoch 33/100\n",
      "70/70 [==============================] - 46s 658ms/step - loss: 0.8709 - accuracy: 0.8095 - val_loss: 1.9113 - val_accuracy: 0.7343\n",
      "Epoch 34/100\n",
      "70/70 [==============================] - 45s 646ms/step - loss: 0.8454 - accuracy: 0.8107 - val_loss: 1.9101 - val_accuracy: 0.7355\n",
      "Epoch 35/100\n",
      "70/70 [==============================] - 46s 657ms/step - loss: 0.8199 - accuracy: 0.8141 - val_loss: 1.9039 - val_accuracy: 0.7338\n",
      "Epoch 36/100\n",
      "70/70 [==============================] - 47s 674ms/step - loss: 0.7971 - accuracy: 0.8162 - val_loss: 1.9018 - val_accuracy: 0.7369\n",
      "Epoch 37/100\n",
      "70/70 [==============================] - 47s 680ms/step - loss: 0.7710 - accuracy: 0.8195 - val_loss: 1.9060 - val_accuracy: 0.7385\n",
      "Epoch 38/100\n",
      "70/70 [==============================] - 42s 601ms/step - loss: 0.7514 - accuracy: 0.8218 - val_loss: 1.9001 - val_accuracy: 0.7393\n",
      "Epoch 39/100\n",
      "70/70 [==============================] - 38s 550ms/step - loss: 0.7244 - accuracy: 0.8261 - val_loss: 1.8995 - val_accuracy: 0.7390\n",
      "Epoch 40/100\n",
      "70/70 [==============================] - 37s 530ms/step - loss: 0.7030 - accuracy: 0.8275 - val_loss: 1.8988 - val_accuracy: 0.7379\n",
      "Epoch 41/100\n",
      "70/70 [==============================] - 37s 528ms/step - loss: 0.6809 - accuracy: 0.8308 - val_loss: 1.8922 - val_accuracy: 0.7405\n",
      "Epoch 42/100\n",
      "70/70 [==============================] - 37s 525ms/step - loss: 0.6600 - accuracy: 0.8336 - val_loss: 1.8934 - val_accuracy: 0.7412\n",
      "Epoch 43/100\n",
      "70/70 [==============================] - 37s 525ms/step - loss: 0.6394 - accuracy: 0.8365 - val_loss: 1.8907 - val_accuracy: 0.7413\n",
      "Epoch 44/100\n",
      "70/70 [==============================] - 47s 676ms/step - loss: 0.6205 - accuracy: 0.8390 - val_loss: 1.8980 - val_accuracy: 0.7434\n",
      "Epoch 45/100\n",
      "70/70 [==============================] - 44s 629ms/step - loss: 0.6010 - accuracy: 0.8416 - val_loss: 1.8952 - val_accuracy: 0.7418\n",
      "Epoch 46/100\n",
      "70/70 [==============================] - 46s 657ms/step - loss: 0.5830 - accuracy: 0.8445 - val_loss: 1.9007 - val_accuracy: 0.7441\n",
      "Epoch 47/100\n",
      "70/70 [==============================] - 51s 736ms/step - loss: 0.5651 - accuracy: 0.8474 - val_loss: 1.8993 - val_accuracy: 0.7432\n",
      "Epoch 48/100\n",
      "70/70 [==============================] - 51s 731ms/step - loss: 0.5485 - accuracy: 0.8497 - val_loss: 1.8917 - val_accuracy: 0.7433\n",
      "Epoch 49/100\n",
      "70/70 [==============================] - 50s 720ms/step - loss: 0.5361 - accuracy: 0.8525 - val_loss: 1.8878 - val_accuracy: 0.7441\n",
      "Epoch 50/100\n",
      "70/70 [==============================] - 51s 734ms/step - loss: 0.5185 - accuracy: 0.8545 - val_loss: 1.8901 - val_accuracy: 0.7451\n",
      "Epoch 51/100\n",
      "70/70 [==============================] - 50s 716ms/step - loss: 0.5043 - accuracy: 0.8570 - val_loss: 1.9039 - val_accuracy: 0.7437\n",
      "Epoch 52/100\n",
      "70/70 [==============================] - 48s 693ms/step - loss: 0.4889 - accuracy: 0.8598 - val_loss: 1.8858 - val_accuracy: 0.7435\n",
      "Epoch 53/100\n",
      "70/70 [==============================] - 46s 664ms/step - loss: 0.4745 - accuracy: 0.8616 - val_loss: 1.9040 - val_accuracy: 0.7455\n",
      "Epoch 54/100\n",
      "70/70 [==============================] - 47s 668ms/step - loss: 0.4658 - accuracy: 0.8630 - val_loss: 1.9015 - val_accuracy: 0.7436\n",
      "Epoch 55/100\n",
      "70/70 [==============================] - 47s 670ms/step - loss: 0.4514 - accuracy: 0.8650 - val_loss: 1.8998 - val_accuracy: 0.7463\n",
      "Epoch 56/100\n",
      "70/70 [==============================] - 46s 664ms/step - loss: 0.4400 - accuracy: 0.8666 - val_loss: 1.9127 - val_accuracy: 0.7449\n",
      "Epoch 57/100\n"
     ]
    },
    {
     "name": "stdout",
     "output_type": "stream",
     "text": [
      "70/70 [==============================] - 43s 618ms/step - loss: 0.4294 - accuracy: 0.8689 - val_loss: 1.9127 - val_accuracy: 0.7465\n",
      "Epoch 58/100\n",
      "70/70 [==============================] - 37s 527ms/step - loss: 0.4203 - accuracy: 0.8699 - val_loss: 1.9157 - val_accuracy: 0.7437\n",
      "Epoch 59/100\n",
      "70/70 [==============================] - 36s 518ms/step - loss: 0.4105 - accuracy: 0.8707 - val_loss: 1.9105 - val_accuracy: 0.7436\n",
      "Epoch 60/100\n",
      "70/70 [==============================] - 35s 498ms/step - loss: 0.4009 - accuracy: 0.8724 - val_loss: 1.9205 - val_accuracy: 0.7451\n",
      "Epoch 61/100\n",
      "70/70 [==============================] - 35s 499ms/step - loss: 0.3900 - accuracy: 0.8737 - val_loss: 1.9239 - val_accuracy: 0.7449\n",
      "Epoch 62/100\n",
      "70/70 [==============================] - 34s 491ms/step - loss: 0.3882 - accuracy: 0.8735 - val_loss: 1.9228 - val_accuracy: 0.7422\n",
      "Epoch 63/100\n",
      "70/70 [==============================] - 35s 495ms/step - loss: 0.3769 - accuracy: 0.8755 - val_loss: 1.9285 - val_accuracy: 0.7448\n",
      "Epoch 64/100\n",
      "70/70 [==============================] - 34s 484ms/step - loss: 0.3689 - accuracy: 0.8776 - val_loss: 1.9225 - val_accuracy: 0.7449\n",
      "Epoch 65/100\n",
      "70/70 [==============================] - 35s 496ms/step - loss: 0.3630 - accuracy: 0.8775 - val_loss: 1.9247 - val_accuracy: 0.7459\n",
      "Epoch 66/100\n",
      "70/70 [==============================] - 38s 541ms/step - loss: 0.3555 - accuracy: 0.8794 - val_loss: 1.9248 - val_accuracy: 0.7460\n",
      "Epoch 67/100\n",
      "70/70 [==============================] - 41s 580ms/step - loss: 0.3511 - accuracy: 0.8787 - val_loss: 1.9280 - val_accuracy: 0.7465\n",
      "Epoch 68/100\n",
      "70/70 [==============================] - 41s 587ms/step - loss: 0.3444 - accuracy: 0.8793 - val_loss: 1.9477 - val_accuracy: 0.7450\n",
      "Epoch 69/100\n",
      "70/70 [==============================] - 43s 614ms/step - loss: 0.3394 - accuracy: 0.8803 - val_loss: 1.9400 - val_accuracy: 0.7441\n",
      "Epoch 70/100\n",
      "70/70 [==============================] - 44s 625ms/step - loss: 0.3335 - accuracy: 0.8808 - val_loss: 1.9440 - val_accuracy: 0.7449\n",
      "Epoch 71/100\n",
      "70/70 [==============================] - 44s 636ms/step - loss: 0.3287 - accuracy: 0.8829 - val_loss: 1.9458 - val_accuracy: 0.7465\n",
      "Epoch 72/100\n",
      "70/70 [==============================] - 45s 643ms/step - loss: 0.3234 - accuracy: 0.8829 - val_loss: 1.9724 - val_accuracy: 0.7462\n",
      "Epoch 73/100\n",
      "70/70 [==============================] - 46s 660ms/step - loss: 0.3206 - accuracy: 0.8819 - val_loss: 1.9620 - val_accuracy: 0.7450\n",
      "Epoch 74/100\n",
      "70/70 [==============================] - 45s 641ms/step - loss: 0.3146 - accuracy: 0.8843 - val_loss: 1.9613 - val_accuracy: 0.7476\n",
      "Epoch 75/100\n",
      "70/70 [==============================] - 44s 636ms/step - loss: 0.3121 - accuracy: 0.8834 - val_loss: 1.9668 - val_accuracy: 0.7466\n",
      "Epoch 76/100\n",
      "70/70 [==============================] - 44s 636ms/step - loss: 0.3075 - accuracy: 0.8833 - val_loss: 1.9447 - val_accuracy: 0.7453\n",
      "Epoch 77/100\n",
      "70/70 [==============================] - 45s 646ms/step - loss: 0.3019 - accuracy: 0.8853 - val_loss: 1.9660 - val_accuracy: 0.7471\n",
      "Epoch 78/100\n",
      "70/70 [==============================] - 46s 655ms/step - loss: 0.2976 - accuracy: 0.8864 - val_loss: 1.9685 - val_accuracy: 0.7486\n",
      "Epoch 79/100\n",
      "70/70 [==============================] - 45s 640ms/step - loss: 0.2952 - accuracy: 0.8859 - val_loss: 1.9688 - val_accuracy: 0.7469\n",
      "Epoch 80/100\n",
      "70/70 [==============================] - 44s 626ms/step - loss: 0.2934 - accuracy: 0.8854 - val_loss: 1.9712 - val_accuracy: 0.7471\n",
      "Epoch 81/100\n",
      "70/70 [==============================] - 38s 543ms/step - loss: 0.2893 - accuracy: 0.8862 - val_loss: 1.9670 - val_accuracy: 0.7471\n",
      "Epoch 82/100\n",
      "70/70 [==============================] - 37s 535ms/step - loss: 0.2867 - accuracy: 0.8864 - val_loss: 1.9731 - val_accuracy: 0.7468\n",
      "Epoch 83/100\n",
      "70/70 [==============================] - 36s 517ms/step - loss: 0.2832 - accuracy: 0.8872 - val_loss: 1.9768 - val_accuracy: 0.7465\n",
      "Epoch 84/100\n",
      "70/70 [==============================] - 36s 520ms/step - loss: 0.2802 - accuracy: 0.8869 - val_loss: 1.9820 - val_accuracy: 0.7464\n",
      "Epoch 85/100\n",
      "70/70 [==============================] - 36s 509ms/step - loss: 0.2786 - accuracy: 0.8874 - val_loss: 1.9795 - val_accuracy: 0.7459\n",
      "Epoch 86/100\n",
      "70/70 [==============================] - 36s 512ms/step - loss: 0.2750 - accuracy: 0.8879 - val_loss: 1.9847 - val_accuracy: 0.7453\n",
      "Epoch 87/100\n",
      "70/70 [==============================] - 35s 495ms/step - loss: 0.2731 - accuracy: 0.8872 - val_loss: 1.9906 - val_accuracy: 0.7459\n",
      "Epoch 88/100\n",
      "70/70 [==============================] - 35s 500ms/step - loss: 0.2710 - accuracy: 0.8891 - val_loss: 1.9845 - val_accuracy: 0.7459\n",
      "Epoch 89/100\n",
      "70/70 [==============================] - 34s 492ms/step - loss: 0.2681 - accuracy: 0.8891 - val_loss: 1.9930 - val_accuracy: 0.7456\n",
      "Epoch 90/100\n",
      "70/70 [==============================] - 35s 494ms/step - loss: 0.2672 - accuracy: 0.8884 - val_loss: 1.9926 - val_accuracy: 0.7471\n",
      "Epoch 91/100\n",
      "70/70 [==============================] - 34s 484ms/step - loss: 0.2642 - accuracy: 0.8886 - val_loss: 1.9992 - val_accuracy: 0.7478\n",
      "Epoch 92/100\n",
      "70/70 [==============================] - 34s 488ms/step - loss: 0.2611 - accuracy: 0.8904 - val_loss: 1.9989 - val_accuracy: 0.7465\n",
      "Epoch 93/100\n",
      "70/70 [==============================] - 34s 480ms/step - loss: 0.2606 - accuracy: 0.8894 - val_loss: 2.0138 - val_accuracy: 0.7465\n",
      "Epoch 94/100\n",
      "70/70 [==============================] - 34s 483ms/step - loss: 0.2592 - accuracy: 0.8896 - val_loss: 1.9990 - val_accuracy: 0.7463\n",
      "Epoch 95/100\n",
      "70/70 [==============================] - 34s 481ms/step - loss: 0.2572 - accuracy: 0.8899 - val_loss: 2.0088 - val_accuracy: 0.7474\n",
      "Epoch 96/100\n",
      "70/70 [==============================] - 34s 481ms/step - loss: 0.2548 - accuracy: 0.8897 - val_loss: 2.0154 - val_accuracy: 0.7484\n",
      "Epoch 97/100\n",
      "70/70 [==============================] - 33s 472ms/step - loss: 0.2542 - accuracy: 0.8901 - val_loss: 2.0042 - val_accuracy: 0.7478\n",
      "Epoch 98/100\n",
      "70/70 [==============================] - 33s 474ms/step - loss: 0.2514 - accuracy: 0.8904 - val_loss: 2.0214 - val_accuracy: 0.7465\n",
      "Epoch 99/100\n",
      "70/70 [==============================] - 33s 476ms/step - loss: 0.2502 - accuracy: 0.8911 - val_loss: 2.0274 - val_accuracy: 0.7457\n",
      "Epoch 100/100\n",
      "70/70 [==============================] - 33s 470ms/step - loss: 0.2494 - accuracy: 0.8897 - val_loss: 2.0193 - val_accuracy: 0.7491\n"
     ]
    }
   ],
   "source": [
    "initial_c_training =np.zeros(shape=(Num_samples,LATENT_DIM))\n",
    "r = model.fit([encoder_input_data,\n",
    "               decoder_input_data,\n",
    "               initial_s_training,\n",
    "               initial_c_training],\n",
    "               decoder_target_one_hot,\n",
    "               batch_size=100,\n",
    "               epochs=100,\n",
    "               validation_split=0.3)\n"
   ]
  },
  {
   "cell_type": "code",
   "execution_count": 464,
   "id": "65a59f33",
   "metadata": {},
   "outputs": [],
   "source": [
    "encoder_model = Model(encoder_inputs, encoder_outputs)"
   ]
  },
  {
   "cell_type": "code",
   "execution_count": 465,
   "id": "868efc8b",
   "metadata": {},
   "outputs": [
    {
     "data": {
      "image/png": "[encoded data removed]",
      "text/plain": [
       "<IPython.core.display.Image object>"
      ]
     },
     "execution_count": 465,
     "metadata": {},
     "output_type": "execute_result"
    }
   ],
   "source": [
    "tf.keras.utils.plot_model (encoder_model)"
   ]
  },
  {
   "cell_type": "code",
   "execution_count": 466,
   "id": "9535da05",
   "metadata": {},
   "outputs": [],
   "source": [
    "\n",
    "encoder_outputs_as_input = Input(shape=(maxlen_input, LATENT_DIM* 2,))\n"
   ]
  },
  {
   "cell_type": "code",
   "execution_count": 467,
   "id": "d855b1d4",
   "metadata": {},
   "outputs": [],
   "source": [
    "decoder_input_embedding = Input(shape=(1,))"
   ]
  },
  {
   "cell_type": "code",
   "execution_count": 468,
   "id": "ce6cd099",
   "metadata": {},
   "outputs": [],
   "source": [
    "decoder_input_ = decoder_embedding(decoder_input_embedding)"
   ]
  },
  {
   "cell_type": "code",
   "execution_count": 469,
   "id": "a424f841",
   "metadata": {},
   "outputs": [],
   "source": [
    "context = context_attention(encoder_outputs_as_input, initial_s)\n"
   ]
  },
  {
   "cell_type": "code",
   "execution_count": 470,
   "id": "af834ad5",
   "metadata": {},
   "outputs": [],
   "source": [
    "decoder_lstm_input = context_last_word_concat_layer([context, decoder_input_])"
   ]
  },
  {
   "cell_type": "code",
   "execution_count": 471,
   "id": "8a744e8a",
   "metadata": {},
   "outputs": [],
   "source": [
    "out, s, c = decoder_lstm(decoder_lstm_input,initial_state=[initial_s, initial_c])"
   ]
  },
  {
   "cell_type": "code",
   "execution_count": 472,
   "id": "3f0eecbf",
   "metadata": {},
   "outputs": [],
   "source": [
    "decoder_outputs = decoder_dense(out)"
   ]
  },
  {
   "cell_type": "code",
   "execution_count": 473,
   "id": "bcb61ede",
   "metadata": {},
   "outputs": [
    {
     "name": "stdout",
     "output_type": "stream",
     "text": [
      "Model: \"model_21\"\n",
      "__________________________________________________________________________________________________\n",
      " Layer (type)                   Output Shape         Param #     Connected to                     \n",
      "==================================================================================================\n",
      " s0 (InputLayer)                [(None, 256)]        0           []                               \n",
      "                                                                                                  \n",
      " input_11 (InputLayer)          [(None, 4, 512)]     0           []                               \n",
      "                                                                                                  \n",
      " repeat_vector_15 (RepeatVector  (None, 4, 256)      0           ['s0[0][0]']                     \n",
      " )                                                                                                \n",
      "                                                                                                  \n",
      " concatenate_27 (Concatenate)   (None, 4, 768)       0           ['input_11[0][0]',               \n",
      "                                                                  'repeat_vector_15[11][0]']      \n",
      "                                                                                                  \n",
      " dense_28 (Dense)               (None, 4, 10)        7690        ['concatenate_27[11][0]']        \n",
      "                                                                                                  \n",
      " dense_29 (Dense)               (None, 4, 1)         11          ['dense_28[11][0]']              \n",
      "                                                                                                  \n",
      " input_12 (InputLayer)          [(None, 1)]          0           []                               \n",
      "                                                                                                  \n",
      " dot_13 (Dot)                   (None, 1, 512)       0           ['dense_29[11][0]',              \n",
      "                                                                  'input_11[0][0]']               \n",
      "                                                                                                  \n",
      " decoder_embedding (Embedding)  multiple             942200      ['input_12[0][0]']               \n",
      "                                                                                                  \n",
      " concatenate_28 (Concatenate)   (None, 1, 712)       0           ['dot_13[11][0]',                \n",
      "                                                                  'decoder_embedding[1][0]']      \n",
      "                                                                                                  \n",
      " c0 (InputLayer)                [(None, 256)]        0           []                               \n",
      "                                                                                                  \n",
      " decoder_lstm (LSTM)            [(None, 256),        992256      ['concatenate_28[11][0]',        \n",
      "                                 (None, 256),                     's0[0][0]',                     \n",
      "                                 (None, 256)]                     'c0[0][0]']                     \n",
      "                                                                                                  \n",
      " decoder_dense (Dense)          (None, 4711)         1210727     ['decoder_lstm[11][0]']          \n",
      "                                                                                                  \n",
      "==================================================================================================\n",
      "Total params: 3,152,884\n",
      "Trainable params: 3,152,884\n",
      "Non-trainable params: 0\n",
      "__________________________________________________________________________________________________\n"
     ]
    }
   ],
   "source": [
    "\n",
    "decoder_model = Model(inputs=[decoder_input_embedding,encoder_outputs_as_input,initial_s,initial_c],outputs=[decoder_outputs, s, c])\n",
    "decoder_model.summary()"
   ]
  },
  {
   "cell_type": "code",
   "execution_count": 474,
   "id": "4166645e",
   "metadata": {},
   "outputs": [
    {
     "data": {
      "image/png": "[encoded data removed]",
      "text/plain": [
       "<IPython.core.display.Image object>"
      ]
     },
     "execution_count": 474,
     "metadata": {},
     "output_type": "execute_result"
    }
   ],
   "source": [
    "tf.keras.utils.plot_model (decoder_model)"
   ]
  },
  {
   "cell_type": "markdown",
   "id": "910a9411",
   "metadata": {},
   "source": [
    "## Translating\n",
    "As the model processes the input text and predicts the output as integers, we need to create a reverse mapping from integers to index. We do this for both the languages using the following code:\n"
   ]
  },
  {
   "cell_type": "code",
   "execution_count": 475,
   "id": "9ca8f497",
   "metadata": {},
   "outputs": [],
   "source": [
    "word2index_input=tokenizer_in.word_index\n",
    "word2index_output=tokenizer_out.word_index\n",
    "#reverse mapping integer to words for english\n",
    "idx2word_eng = {v:k for k, v in word2index_input.items()}\n",
    "#reverse mapping integer to words for spanish\n",
    "idx2word_trans = {v:k for k, v in word2index_output.items()}"
   ]
  },
  {
   "cell_type": "code",
   "execution_count": 483,
   "id": "6d438c88",
   "metadata": {},
   "outputs": [],
   "source": [
    "def decode_sequence(input_seq):\n",
    "    # Encode the input as state vectors.\n",
    "    enc_out = encoder_model.predict(input_seq)\n",
    "    # Generate empty target sequence of length 1.\n",
    "    target_seq = np.zeros((1, 1))\n",
    "    # Populate the first character of target sequence with the start character.\n",
    "    # NOTE: tokenizer lower-cases all words\n",
    "    target_seq[0, 0] = word2index_output['<start>']\n",
    "    # if we get this we break\n",
    "    End_statement = word2index_output['<end>']\n",
    "    # [s, c] will be updated in each loop iteration\n",
    "    s = np.zeros((1,LATENT_DIM))\n",
    "    c = np.zeros((1,LATENT_DIM))\n",
    "    # Create the translation\n",
    "    output_sentence = []\n",
    "    for _ in range(maxlen_output):\n",
    "        out, s, c = decoder_model.predict([target_seq,enc_out, s, c],verbose=0)\n",
    "         # Get next word\n",
    "        index = np.argmax(out.flatten())\n",
    "        # End sentence\n",
    "        if End_statement == index:\n",
    "            break\n",
    "        word = ''\n",
    "        if index > 0:\n",
    "            word = idx2word_trans[index]\n",
    "            output_sentence.append(word)\n",
    "            target_seq[0, 0] = index\n",
    "    return ' '.join(output_sentence)\n",
    "    # Update the decoder input\n",
    "    # which is just the word just generated\n",
    "    \n",
    "  "
   ]
  },
  {
   "cell_type": "code",
   "execution_count": null,
   "id": "168d87c4",
   "metadata": {},
   "outputs": [
    {
     "name": "stdout",
     "output_type": "stream",
     "text": [
      "input the sentence : what is your name\n",
      "1/1 [==============================] - 0s 25ms/step\n",
      "Predicted translation: là  pois tirerons ménerves tirerons tirerons tirerons l’aide l’aide l’aide l’aide\n",
      "input the sentence : yyy\n",
      "1/1 [==============================] - 0s 25ms/step\n",
      "Predicted translation: jouets jeus jouets jeus passons passons dommage  distrait enterrele enterrele creusé\n"
     ]
    }
   ],
   "source": [
    "count=0\n",
    "while (count<5):\n",
    "    input_text=[str(input('input the sentence : '))]\n",
    "    seq=tokenizer_in.texts_to_sequences(input_text)\n",
    "    input_seq=pad_sequences(seq,maxlen=maxlen_input,padding='post')\n",
    "    translation=decode_sequence(input_seq)\n",
    "    print('Predicted translation:', translation)\n",
    "    count+=1"
   ]
  },
  {
   "cell_type": "code",
   "execution_count": null,
   "id": "c561c61a",
   "metadata": {},
   "outputs": [],
   "source": []
  }
 ],
 "metadata": {
  "kernelspec": {
   "display_name": "Python 3 (ipykernel)",
   "language": "python",
   "name": "python3"
  },
  "language_info": {
   "codemirror_mode": {
    "name": "ipython",
    "version": 3
   },
   "file_extension": ".py",
   "mimetype": "text/x-python",
   "name": "python",
   "nbconvert_exporter": "python",
   "pygments_lexer": "ipython3",
   "version": "3.7.16"
  }
 },
 "nbformat": 4,
 "nbformat_minor": 5
}
