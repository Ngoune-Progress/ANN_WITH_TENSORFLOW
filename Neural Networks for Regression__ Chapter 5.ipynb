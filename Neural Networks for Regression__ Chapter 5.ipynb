{
 "cells": [
  {
   "cell_type": "code",
   "execution_count": 10,
   "id": "21a7d36e",
   "metadata": {},
   "outputs": [],
   "source": [
    "import tensorflow as tf\n",
    "import pandas as pd\n",
    "import numpy as np"
   ]
  },
  {
   "cell_type": "code",
   "execution_count": 2,
   "id": "4abe95b5",
   "metadata": {},
   "outputs": [],
   "source": [
    "data = pd.read_csv('1.01. Simple linear regression.csv')"
   ]
  },
  {
   "cell_type": "code",
   "execution_count": 3,
   "id": "825a26d8",
   "metadata": {},
   "outputs": [
    {
     "data": {
      "text/html": [
       "<div>\n",
       "<style scoped>\n",
       "    .dataframe tbody tr th:only-of-type {\n",
       "        vertical-align: middle;\n",
       "    }\n",
       "\n",
       "    .dataframe tbody tr th {\n",
       "        vertical-align: top;\n",
       "    }\n",
       "\n",
       "    .dataframe thead th {\n",
       "        text-align: right;\n",
       "    }\n",
       "</style>\n",
       "<table border=\"1\" class=\"dataframe\">\n",
       "  <thead>\n",
       "    <tr style=\"text-align: right;\">\n",
       "      <th></th>\n",
       "      <th>SAT</th>\n",
       "      <th>GPA</th>\n",
       "    </tr>\n",
       "  </thead>\n",
       "  <tbody>\n",
       "    <tr>\n",
       "      <th>0</th>\n",
       "      <td>1714</td>\n",
       "      <td>2.40</td>\n",
       "    </tr>\n",
       "    <tr>\n",
       "      <th>1</th>\n",
       "      <td>1664</td>\n",
       "      <td>2.52</td>\n",
       "    </tr>\n",
       "    <tr>\n",
       "      <th>2</th>\n",
       "      <td>1760</td>\n",
       "      <td>2.54</td>\n",
       "    </tr>\n",
       "    <tr>\n",
       "      <th>3</th>\n",
       "      <td>1685</td>\n",
       "      <td>2.74</td>\n",
       "    </tr>\n",
       "    <tr>\n",
       "      <th>4</th>\n",
       "      <td>1693</td>\n",
       "      <td>2.83</td>\n",
       "    </tr>\n",
       "  </tbody>\n",
       "</table>\n",
       "</div>"
      ],
      "text/plain": [
       "    SAT   GPA\n",
       "0  1714  2.40\n",
       "1  1664  2.52\n",
       "2  1760  2.54\n",
       "3  1685  2.74\n",
       "4  1693  2.83"
      ]
     },
     "execution_count": 3,
     "metadata": {},
     "output_type": "execute_result"
    }
   ],
   "source": [
    "data.head()"
   ]
  },
  {
   "cell_type": "code",
   "execution_count": 4,
   "id": "504e9078",
   "metadata": {},
   "outputs": [],
   "source": [
    "X = data['GPA']\n",
    "y= data['SAT']"
   ]
  },
  {
   "cell_type": "code",
   "execution_count": 14,
   "id": "5e7ba2c7",
   "metadata": {},
   "outputs": [
    {
     "data": {
      "text/plain": [
       "(84,)"
      ]
     },
     "execution_count": 14,
     "metadata": {},
     "output_type": "execute_result"
    }
   ],
   "source": [
    "X=np.array(X)\n",
    "y=np.array(y)"
   ]
  },
  {
   "cell_type": "code",
   "execution_count": 20,
   "id": "6f6e1fac",
   "metadata": {},
   "outputs": [],
   "source": [
    "model = tf.keras.Sequential([\n",
    "    tf.keras.layers.Dense(units=1,input_shape=(1,))\n",
    "])\n",
    "model.compile(optimizer='sgd',loss='mean_squared_error')\n",
    "\n"
   ]
  },
  {
   "cell_type": "code",
   "execution_count": 21,
   "id": "320a6fea",
   "metadata": {},
   "outputs": [
    {
     "name": "stdout",
     "output_type": "stream",
     "text": [
      "Model: \"sequential_2\"\n",
      "_________________________________________________________________\n",
      " Layer (type)                Output Shape              Param #   \n",
      "=================================================================\n",
      " dense_2 (Dense)             (None, 1)                 2         \n",
      "                                                                 \n",
      "=================================================================\n",
      "Total params: 2\n",
      "Trainable params: 2\n",
      "Non-trainable params: 0\n",
      "_________________________________________________________________\n"
     ]
    }
   ],
   "source": [
    "model.summary()"
   ]
  },
  {
   "cell_type": "code",
   "execution_count": 22,
   "id": "2b0b4931",
   "metadata": {},
   "outputs": [
    {
     "name": "stdout",
     "output_type": "stream",
     "text": [
      "Epoch 1/15\n",
      "3/3 [==============================] - 0s 2ms/step - loss: 2324145.5000\n",
      "Epoch 2/15\n",
      "3/3 [==============================] - 0s 2ms/step - loss: 444674.2500\n",
      "Epoch 3/15\n",
      "3/3 [==============================] - 0s 3ms/step - loss: 92676.6562\n",
      "Epoch 4/15\n",
      "3/3 [==============================] - 0s 2ms/step - loss: 27314.4707\n",
      "Epoch 5/15\n",
      "3/3 [==============================] - 0s 3ms/step - loss: 14391.9834\n",
      "Epoch 6/15\n",
      "3/3 [==============================] - 0s 2ms/step - loss: 12136.2793\n",
      "Epoch 7/15\n",
      "3/3 [==============================] - 0s 2ms/step - loss: 11644.6328\n",
      "Epoch 8/15\n",
      "3/3 [==============================] - 0s 2ms/step - loss: 11433.3789\n",
      "Epoch 9/15\n",
      "3/3 [==============================] - 0s 4ms/step - loss: 11423.7383\n",
      "Epoch 10/15\n",
      "3/3 [==============================] - 0s 2ms/step - loss: 11426.6416\n",
      "Epoch 11/15\n",
      "3/3 [==============================] - 0s 2ms/step - loss: 11437.3701\n",
      "Epoch 12/15\n",
      "3/3 [==============================] - 0s 2ms/step - loss: 11677.1055\n",
      "Epoch 13/15\n",
      "3/3 [==============================] - 0s 2ms/step - loss: 11403.3115\n",
      "Epoch 14/15\n",
      "3/3 [==============================] - 0s 2ms/step - loss: 11404.9082\n",
      "Epoch 15/15\n",
      "3/3 [==============================] - 0s 4ms/step - loss: 11498.6035\n"
     ]
    },
    {
     "data": {
      "text/plain": [
       "<keras.callbacks.History at 0x7ff7b5fba990>"
      ]
     },
     "execution_count": 22,
     "metadata": {},
     "output_type": "execute_result"
    }
   ],
   "source": [
    "model.fit(X,y,epochs=15)"
   ]
  },
  {
   "cell_type": "code",
   "execution_count": 26,
   "id": "2eca3e71",
   "metadata": {},
   "outputs": [
    {
     "name": "stdout",
     "output_type": "stream",
     "text": [
      "1/1 [==============================] - 0s 44ms/step\n",
      "Expected SAT score for GPA 5.0: 2675\n"
     ]
    }
   ],
   "source": [
    "result=model.predict([5.0])\n",
    "print(\"Expected SAT score for GPA 5.0: {:.0f}\"\n",
    "                 .format(result[0][0]))"
   ]
  },
  {
   "cell_type": "code",
   "execution_count": 32,
   "id": "b1539876",
   "metadata": {},
   "outputs": [
    {
     "name": "stdout",
     "output_type": "stream",
     "text": [
      "1/1 [==============================] - 0s 41ms/step\n",
      "Expected SAT score for GPA 3.2: 1768\n"
     ]
    }
   ],
   "source": [
    "result=model.predict([3.2])\n",
    "print(\"Expected SAT score for GPA 3.2: {:.0f}\"\n",
    "                 .format(result[0][0]))"
   ]
  },
  {
   "cell_type": "code",
   "execution_count": null,
   "id": "dbc2637e",
   "metadata": {},
   "outputs": [],
   "source": []
  }
 ],
 "metadata": {
  "kernelspec": {
   "display_name": "Python 3 (ipykernel)",
   "language": "python",
   "name": "python3"
  },
  "language_info": {
   "codemirror_mode": {
    "name": "ipython",
    "version": 3
   },
   "file_extension": ".py",
   "mimetype": "text/x-python",
   "name": "python",
   "nbconvert_exporter": "python",
   "pygments_lexer": "ipython3",
   "version": "3.7.16"
  }
 },
 "nbformat": 4,
 "nbformat_minor": 5
}
