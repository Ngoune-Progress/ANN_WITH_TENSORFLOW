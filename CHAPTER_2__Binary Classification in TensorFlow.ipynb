{
 "cells": [
  {
   "cell_type": "code",
   "execution_count": 4,
   "id": "19279b5c",
   "metadata": {},
   "outputs": [],
   "source": [
    "import tensorflow as tf\n",
    "\n",
    "#loading data\n",
    "import pandas as pd\n",
    "#scaling feuture values\n",
    "from sklearn.preprocessing import StandardScaler\n",
    "#Encoding target values\n",
    "from sklearn.preprocessing import LabelEncoder\n",
    "#shuffle data\n",
    "from sklearn.utils import shuffle\n",
    "from sklearn.model_selection import train_test_split"
   ]
  },
  {
   "cell_type": "code",
   "execution_count": 5,
   "id": "c9feae9f",
   "metadata": {},
   "outputs": [
    {
     "data": {
      "text/html": [
       "<div>\n",
       "<style scoped>\n",
       "    .dataframe tbody tr th:only-of-type {\n",
       "        vertical-align: middle;\n",
       "    }\n",
       "\n",
       "    .dataframe tbody tr th {\n",
       "        vertical-align: top;\n",
       "    }\n",
       "\n",
       "    .dataframe thead th {\n",
       "        text-align: right;\n",
       "    }\n",
       "</style>\n",
       "<table border=\"1\" class=\"dataframe\">\n",
       "  <thead>\n",
       "    <tr style=\"text-align: right;\">\n",
       "      <th></th>\n",
       "      <th>RowNumber</th>\n",
       "      <th>CustomerId</th>\n",
       "      <th>Surname</th>\n",
       "      <th>CreditScore</th>\n",
       "      <th>Geography</th>\n",
       "      <th>Gender</th>\n",
       "      <th>Age</th>\n",
       "      <th>Tenure</th>\n",
       "      <th>Balance</th>\n",
       "      <th>NumOfProducts</th>\n",
       "      <th>HasCrCard</th>\n",
       "      <th>IsActiveMember</th>\n",
       "      <th>EstimatedSalary</th>\n",
       "      <th>Exited</th>\n",
       "    </tr>\n",
       "  </thead>\n",
       "  <tbody>\n",
       "    <tr>\n",
       "      <th>0</th>\n",
       "      <td>1</td>\n",
       "      <td>15634602</td>\n",
       "      <td>Hargrave</td>\n",
       "      <td>619</td>\n",
       "      <td>France</td>\n",
       "      <td>Female</td>\n",
       "      <td>42</td>\n",
       "      <td>2</td>\n",
       "      <td>0.00</td>\n",
       "      <td>1</td>\n",
       "      <td>1</td>\n",
       "      <td>1</td>\n",
       "      <td>101348.88</td>\n",
       "      <td>1</td>\n",
       "    </tr>\n",
       "    <tr>\n",
       "      <th>1</th>\n",
       "      <td>2</td>\n",
       "      <td>15647311</td>\n",
       "      <td>Hill</td>\n",
       "      <td>608</td>\n",
       "      <td>Spain</td>\n",
       "      <td>Female</td>\n",
       "      <td>41</td>\n",
       "      <td>1</td>\n",
       "      <td>83807.86</td>\n",
       "      <td>1</td>\n",
       "      <td>0</td>\n",
       "      <td>1</td>\n",
       "      <td>112542.58</td>\n",
       "      <td>0</td>\n",
       "    </tr>\n",
       "    <tr>\n",
       "      <th>2</th>\n",
       "      <td>3</td>\n",
       "      <td>15619304</td>\n",
       "      <td>Onio</td>\n",
       "      <td>502</td>\n",
       "      <td>France</td>\n",
       "      <td>Female</td>\n",
       "      <td>42</td>\n",
       "      <td>8</td>\n",
       "      <td>159660.80</td>\n",
       "      <td>3</td>\n",
       "      <td>1</td>\n",
       "      <td>0</td>\n",
       "      <td>113931.57</td>\n",
       "      <td>1</td>\n",
       "    </tr>\n",
       "    <tr>\n",
       "      <th>3</th>\n",
       "      <td>4</td>\n",
       "      <td>15701354</td>\n",
       "      <td>Boni</td>\n",
       "      <td>699</td>\n",
       "      <td>France</td>\n",
       "      <td>Female</td>\n",
       "      <td>39</td>\n",
       "      <td>1</td>\n",
       "      <td>0.00</td>\n",
       "      <td>2</td>\n",
       "      <td>0</td>\n",
       "      <td>0</td>\n",
       "      <td>93826.63</td>\n",
       "      <td>0</td>\n",
       "    </tr>\n",
       "    <tr>\n",
       "      <th>4</th>\n",
       "      <td>5</td>\n",
       "      <td>15737888</td>\n",
       "      <td>Mitchell</td>\n",
       "      <td>850</td>\n",
       "      <td>Spain</td>\n",
       "      <td>Female</td>\n",
       "      <td>43</td>\n",
       "      <td>2</td>\n",
       "      <td>125510.82</td>\n",
       "      <td>1</td>\n",
       "      <td>1</td>\n",
       "      <td>1</td>\n",
       "      <td>79084.10</td>\n",
       "      <td>0</td>\n",
       "    </tr>\n",
       "  </tbody>\n",
       "</table>\n",
       "</div>"
      ],
      "text/plain": [
       "   RowNumber  CustomerId   Surname  CreditScore Geography  Gender  Age  \\\n",
       "0          1    15634602  Hargrave          619    France  Female   42   \n",
       "1          2    15647311      Hill          608     Spain  Female   41   \n",
       "2          3    15619304      Onio          502    France  Female   42   \n",
       "3          4    15701354      Boni          699    France  Female   39   \n",
       "4          5    15737888  Mitchell          850     Spain  Female   43   \n",
       "\n",
       "   Tenure    Balance  NumOfProducts  HasCrCard  IsActiveMember  \\\n",
       "0       2       0.00              1          1               1   \n",
       "1       1   83807.86              1          0               1   \n",
       "2       8  159660.80              3          1               0   \n",
       "3       1       0.00              2          0               0   \n",
       "4       2  125510.82              1          1               1   \n",
       "\n",
       "   EstimatedSalary  Exited  \n",
       "0        101348.88       1  \n",
       "1        112542.58       0  \n",
       "2        113931.57       1  \n",
       "3         93826.63       0  \n",
       "4         79084.10       0  "
      ]
     },
     "execution_count": 5,
     "metadata": {},
     "output_type": "execute_result"
    }
   ],
   "source": [
    "data = pd.read_csv('datasets/Churn_Modelling.csv')\n",
    "data.head()"
   ]
  },
  {
   "cell_type": "code",
   "execution_count": 8,
   "id": "21e7a43f",
   "metadata": {},
   "outputs": [],
   "source": [
    "data = shuffle(data)"
   ]
  },
  {
   "cell_type": "code",
   "execution_count": 9,
   "id": "6e65406b",
   "metadata": {},
   "outputs": [
    {
     "data": {
      "text/html": [
       "<div>\n",
       "<style scoped>\n",
       "    .dataframe tbody tr th:only-of-type {\n",
       "        vertical-align: middle;\n",
       "    }\n",
       "\n",
       "    .dataframe tbody tr th {\n",
       "        vertical-align: top;\n",
       "    }\n",
       "\n",
       "    .dataframe thead th {\n",
       "        text-align: right;\n",
       "    }\n",
       "</style>\n",
       "<table border=\"1\" class=\"dataframe\">\n",
       "  <thead>\n",
       "    <tr style=\"text-align: right;\">\n",
       "      <th></th>\n",
       "      <th>RowNumber</th>\n",
       "      <th>CustomerId</th>\n",
       "      <th>Surname</th>\n",
       "      <th>CreditScore</th>\n",
       "      <th>Geography</th>\n",
       "      <th>Gender</th>\n",
       "      <th>Age</th>\n",
       "      <th>Tenure</th>\n",
       "      <th>Balance</th>\n",
       "      <th>NumOfProducts</th>\n",
       "      <th>HasCrCard</th>\n",
       "      <th>IsActiveMember</th>\n",
       "      <th>EstimatedSalary</th>\n",
       "      <th>Exited</th>\n",
       "    </tr>\n",
       "  </thead>\n",
       "  <tbody>\n",
       "    <tr>\n",
       "      <th>7350</th>\n",
       "      <td>7351</td>\n",
       "      <td>15713160</td>\n",
       "      <td>Lin</td>\n",
       "      <td>669</td>\n",
       "      <td>Spain</td>\n",
       "      <td>Male</td>\n",
       "      <td>25</td>\n",
       "      <td>7</td>\n",
       "      <td>157228.61</td>\n",
       "      <td>2</td>\n",
       "      <td>1</td>\n",
       "      <td>0</td>\n",
       "      <td>124382.90</td>\n",
       "      <td>0</td>\n",
       "    </tr>\n",
       "    <tr>\n",
       "      <th>3850</th>\n",
       "      <td>3851</td>\n",
       "      <td>15775293</td>\n",
       "      <td>Stephenson</td>\n",
       "      <td>680</td>\n",
       "      <td>France</td>\n",
       "      <td>Male</td>\n",
       "      <td>34</td>\n",
       "      <td>3</td>\n",
       "      <td>143292.95</td>\n",
       "      <td>1</td>\n",
       "      <td>1</td>\n",
       "      <td>0</td>\n",
       "      <td>66526.01</td>\n",
       "      <td>0</td>\n",
       "    </tr>\n",
       "    <tr>\n",
       "      <th>8924</th>\n",
       "      <td>8925</td>\n",
       "      <td>15808566</td>\n",
       "      <td>Hs?</td>\n",
       "      <td>516</td>\n",
       "      <td>France</td>\n",
       "      <td>Male</td>\n",
       "      <td>46</td>\n",
       "      <td>2</td>\n",
       "      <td>0.00</td>\n",
       "      <td>2</td>\n",
       "      <td>1</td>\n",
       "      <td>1</td>\n",
       "      <td>169122.54</td>\n",
       "      <td>0</td>\n",
       "    </tr>\n",
       "    <tr>\n",
       "      <th>6692</th>\n",
       "      <td>6693</td>\n",
       "      <td>15677087</td>\n",
       "      <td>Green</td>\n",
       "      <td>662</td>\n",
       "      <td>France</td>\n",
       "      <td>Female</td>\n",
       "      <td>39</td>\n",
       "      <td>5</td>\n",
       "      <td>138106.75</td>\n",
       "      <td>1</td>\n",
       "      <td>0</td>\n",
       "      <td>0</td>\n",
       "      <td>19596.73</td>\n",
       "      <td>0</td>\n",
       "    </tr>\n",
       "    <tr>\n",
       "      <th>9346</th>\n",
       "      <td>9347</td>\n",
       "      <td>15805681</td>\n",
       "      <td>Chamberlain</td>\n",
       "      <td>716</td>\n",
       "      <td>France</td>\n",
       "      <td>Male</td>\n",
       "      <td>41</td>\n",
       "      <td>9</td>\n",
       "      <td>0.00</td>\n",
       "      <td>1</td>\n",
       "      <td>1</td>\n",
       "      <td>1</td>\n",
       "      <td>113267.48</td>\n",
       "      <td>0</td>\n",
       "    </tr>\n",
       "  </tbody>\n",
       "</table>\n",
       "</div>"
      ],
      "text/plain": [
       "      RowNumber  CustomerId      Surname  CreditScore Geography  Gender  Age  \\\n",
       "7350       7351    15713160          Lin          669     Spain    Male   25   \n",
       "3850       3851    15775293   Stephenson          680    France    Male   34   \n",
       "8924       8925    15808566          Hs?          516    France    Male   46   \n",
       "6692       6693    15677087        Green          662    France  Female   39   \n",
       "9346       9347    15805681  Chamberlain          716    France    Male   41   \n",
       "\n",
       "      Tenure    Balance  NumOfProducts  HasCrCard  IsActiveMember  \\\n",
       "7350       7  157228.61              2          1               0   \n",
       "3850       3  143292.95              1          1               0   \n",
       "8924       2       0.00              2          1               1   \n",
       "6692       5  138106.75              1          0               0   \n",
       "9346       9       0.00              1          1               1   \n",
       "\n",
       "      EstimatedSalary  Exited  \n",
       "7350        124382.90       0  \n",
       "3850         66526.01       0  \n",
       "8924        169122.54       0  \n",
       "6692         19596.73       0  \n",
       "9346        113267.48       0  "
      ]
     },
     "execution_count": 9,
     "metadata": {},
     "output_type": "execute_result"
    }
   ],
   "source": [
    "data.head()"
   ]
  },
  {
   "cell_type": "markdown",
   "id": "9cc4f224",
   "metadata": {},
   "source": [
    "## Data Preprocessing"
   ]
  },
  {
   "cell_type": "markdown",
   "id": "dd15febc",
   "metadata": {},
   "source": [
    "## 1) Checking Nulls"
   ]
  },
  {
   "cell_type": "code",
   "execution_count": 13,
   "id": "3874aee7",
   "metadata": {},
   "outputs": [
    {
     "data": {
      "text/plain": [
       "RowNumber          0\n",
       "CustomerId         0\n",
       "Surname            0\n",
       "CreditScore        0\n",
       "Geography          0\n",
       "Gender             0\n",
       "Age                0\n",
       "Tenure             0\n",
       "Balance            0\n",
       "NumOfProducts      0\n",
       "HasCrCard          0\n",
       "IsActiveMember     0\n",
       "EstimatedSalary    0\n",
       "Exited             0\n",
       "dtype: int64"
      ]
     },
     "execution_count": 13,
     "metadata": {},
     "output_type": "execute_result"
    }
   ],
   "source": [
    "data.isnull().sum()"
   ]
  },
  {
   "cell_type": "markdown",
   "id": "3d16165e",
   "metadata": {},
   "source": [
    "## 2) Selecting Features and Labels"
   ]
  },
  {
   "cell_type": "code",
   "execution_count": 15,
   "id": "3a5724ed",
   "metadata": {},
   "outputs": [
    {
     "data": {
      "text/html": [
       "<div>\n",
       "<style scoped>\n",
       "    .dataframe tbody tr th:only-of-type {\n",
       "        vertical-align: middle;\n",
       "    }\n",
       "\n",
       "    .dataframe tbody tr th {\n",
       "        vertical-align: top;\n",
       "    }\n",
       "\n",
       "    .dataframe thead th {\n",
       "        text-align: right;\n",
       "    }\n",
       "</style>\n",
       "<table border=\"1\" class=\"dataframe\">\n",
       "  <thead>\n",
       "    <tr style=\"text-align: right;\">\n",
       "      <th></th>\n",
       "      <th>CreditScore</th>\n",
       "      <th>Geography</th>\n",
       "      <th>Gender</th>\n",
       "      <th>Age</th>\n",
       "      <th>Tenure</th>\n",
       "      <th>Balance</th>\n",
       "      <th>NumOfProducts</th>\n",
       "      <th>HasCrCard</th>\n",
       "      <th>IsActiveMember</th>\n",
       "      <th>EstimatedSalary</th>\n",
       "    </tr>\n",
       "  </thead>\n",
       "  <tbody>\n",
       "    <tr>\n",
       "      <th>7350</th>\n",
       "      <td>669</td>\n",
       "      <td>Spain</td>\n",
       "      <td>Male</td>\n",
       "      <td>25</td>\n",
       "      <td>7</td>\n",
       "      <td>157228.61</td>\n",
       "      <td>2</td>\n",
       "      <td>1</td>\n",
       "      <td>0</td>\n",
       "      <td>124382.90</td>\n",
       "    </tr>\n",
       "    <tr>\n",
       "      <th>3850</th>\n",
       "      <td>680</td>\n",
       "      <td>France</td>\n",
       "      <td>Male</td>\n",
       "      <td>34</td>\n",
       "      <td>3</td>\n",
       "      <td>143292.95</td>\n",
       "      <td>1</td>\n",
       "      <td>1</td>\n",
       "      <td>0</td>\n",
       "      <td>66526.01</td>\n",
       "    </tr>\n",
       "    <tr>\n",
       "      <th>8924</th>\n",
       "      <td>516</td>\n",
       "      <td>France</td>\n",
       "      <td>Male</td>\n",
       "      <td>46</td>\n",
       "      <td>2</td>\n",
       "      <td>0.00</td>\n",
       "      <td>2</td>\n",
       "      <td>1</td>\n",
       "      <td>1</td>\n",
       "      <td>169122.54</td>\n",
       "    </tr>\n",
       "    <tr>\n",
       "      <th>6692</th>\n",
       "      <td>662</td>\n",
       "      <td>France</td>\n",
       "      <td>Female</td>\n",
       "      <td>39</td>\n",
       "      <td>5</td>\n",
       "      <td>138106.75</td>\n",
       "      <td>1</td>\n",
       "      <td>0</td>\n",
       "      <td>0</td>\n",
       "      <td>19596.73</td>\n",
       "    </tr>\n",
       "    <tr>\n",
       "      <th>9346</th>\n",
       "      <td>716</td>\n",
       "      <td>France</td>\n",
       "      <td>Male</td>\n",
       "      <td>41</td>\n",
       "      <td>9</td>\n",
       "      <td>0.00</td>\n",
       "      <td>1</td>\n",
       "      <td>1</td>\n",
       "      <td>1</td>\n",
       "      <td>113267.48</td>\n",
       "    </tr>\n",
       "  </tbody>\n",
       "</table>\n",
       "</div>"
      ],
      "text/plain": [
       "      CreditScore Geography  Gender  Age  Tenure    Balance  NumOfProducts  \\\n",
       "7350          669     Spain    Male   25       7  157228.61              2   \n",
       "3850          680    France    Male   34       3  143292.95              1   \n",
       "8924          516    France    Male   46       2       0.00              2   \n",
       "6692          662    France  Female   39       5  138106.75              1   \n",
       "9346          716    France    Male   41       9       0.00              1   \n",
       "\n",
       "      HasCrCard  IsActiveMember  EstimatedSalary  \n",
       "7350          1               0        124382.90  \n",
       "3850          1               0         66526.01  \n",
       "8924          1               1        169122.54  \n",
       "6692          0               0         19596.73  \n",
       "9346          1               1        113267.48  "
      ]
     },
     "execution_count": 15,
     "metadata": {},
     "output_type": "execute_result"
    }
   ],
   "source": [
    "X = data.drop(labels=['CustomerId','RowNumber','Surname','Exited'],axis=1)\n",
    "X.head()"
   ]
  },
  {
   "cell_type": "code",
   "execution_count": 16,
   "id": "333995e3",
   "metadata": {},
   "outputs": [
    {
     "data": {
      "text/plain": [
       "7350    0\n",
       "3850    0\n",
       "8924    0\n",
       "6692    0\n",
       "9346    0\n",
       "Name: Exited, dtype: int64"
      ]
     },
     "execution_count": 16,
     "metadata": {},
     "output_type": "execute_result"
    }
   ],
   "source": [
    "y = data['Exited']\n",
    "y.head()"
   ]
  },
  {
   "cell_type": "markdown",
   "id": "e7544415",
   "metadata": {},
   "source": [
    "## 3) Encoding Categorical Columns"
   ]
  },
  {
   "cell_type": "code",
   "execution_count": 23,
   "id": "73c6660a",
   "metadata": {},
   "outputs": [],
   "source": [
    "label = LabelEncoder()\n",
    "X['Geography'] = label.fit_transform(X['Geography'])\n",
    "X['Gender'] = label.fit_transform(X['Gender'])"
   ]
  },
  {
   "cell_type": "code",
   "execution_count": 26,
   "id": "57a748d7",
   "metadata": {},
   "outputs": [
    {
     "data": {
      "text/plain": [
       "{0, 1, 2}"
      ]
     },
     "execution_count": 26,
     "metadata": {},
     "output_type": "execute_result"
    }
   ],
   "source": [
    "X =pd.get_dummies(X,drop_first=True,columns=['Geography'])"
   ]
  },
  {
   "cell_type": "markdown",
   "id": "bc46fd38",
   "metadata": {},
   "source": [
    "## 4) Scaling Numerical Values"
   ]
  },
  {
   "cell_type": "code",
   "execution_count": 28,
   "id": "c8e87a00",
   "metadata": {},
   "outputs": [
    {
     "data": {
      "text/plain": [
       "array([[ 0.19111736,  1.51506738,  0.91241915, ...,  0.64609167,\n",
       "        -1.03067011,  0.42242509],\n",
       "       [ 0.3049319 , -0.90188624,  0.91241915, ...,  0.64609167,\n",
       "        -1.03067011, -0.58364842],\n",
       "       [-1.39193932, -0.90188624,  0.91241915, ...,  0.64609167,\n",
       "         0.97024255,  1.20040272],\n",
       "       ...,\n",
       "       [ 1.06024652, -0.90188624,  0.91241915, ..., -1.54776799,\n",
       "         0.97024255,  1.66019311],\n",
       "       [ 0.44978676, -0.90188624, -1.09598752, ..., -1.54776799,\n",
       "        -1.03067011,  0.21262662],\n",
       "       [ 0.3049319 ,  0.30659057, -1.09598752, ...,  0.64609167,\n",
       "        -1.03067011,  0.68631534]])"
      ]
     },
     "execution_count": 28,
     "metadata": {},
     "output_type": "execute_result"
    }
   ],
   "source": [
    "scaler = StandardScaler()\n",
    "X = scaler.fit_transform(X)\n"
   ]
  },
  {
   "cell_type": "markdown",
   "id": "5cecf8e7",
   "metadata": {},
   "source": [
    "## Creating Training and Testing Datasets"
   ]
  },
  {
   "cell_type": "code",
   "execution_count": 49,
   "id": "e3726102",
   "metadata": {},
   "outputs": [],
   "source": [
    "X_train,X_test,y_train,y_test = train_test_split(X,y,test_size=0.3)"
   ]
  },
  {
   "cell_type": "markdown",
   "id": "44e6bd39",
   "metadata": {},
   "source": [
    "## Defining ANN"
   ]
  },
  {
   "cell_type": "code",
   "execution_count": 55,
   "id": "bd7c753e",
   "metadata": {},
   "outputs": [
    {
     "name": "stdout",
     "output_type": "stream",
     "text": [
      "Model: \"sequential_2\"\n",
      "_________________________________________________________________\n",
      " Layer (type)                Output Shape              Param #   \n",
      "=================================================================\n",
      " dense_8 (Dense)             (None, 128)               1408      \n",
      "                                                                 \n",
      " dense_9 (Dense)             (None, 64)                8256      \n",
      "                                                                 \n",
      " dense_10 (Dense)            (None, 32)                2080      \n",
      "                                                                 \n",
      " dense_11 (Dense)            (None, 1)                 33        \n",
      "                                                                 \n",
      "=================================================================\n",
      "Total params: 11,777\n",
      "Trainable params: 11,777\n",
      "Non-trainable params: 0\n",
      "_________________________________________________________________\n"
     ]
    }
   ],
   "source": [
    "model = tf.keras.Sequential([\n",
    "    tf.keras.layers.Dense(128,activation='relu',input_dim=X_train.shape[1]),\n",
    "    tf.keras.layers.Dense(64,activation='relu'),\n",
    "    tf.keras.layers.Dense(32,activation='relu'),\n",
    "    tf.keras.layers.Dense(1,activation='sigmoid')\n",
    "])\n",
    "\n",
    "model.summary()"
   ]
  },
  {
   "cell_type": "code",
   "execution_count": 56,
   "id": "29e8b171",
   "metadata": {},
   "outputs": [],
   "source": [
    "model.compile(loss='binary_crossentropy',optimizer='adam',metrics=['accuracy'])"
   ]
  },
  {
   "cell_type": "code",
   "execution_count": 57,
   "id": "31ba990a",
   "metadata": {},
   "outputs": [],
   "source": [
    "!rm -rf ./log/"
   ]
  },
  {
   "cell_type": "markdown",
   "id": "3dbb2c7d",
   "metadata": {},
   "source": [
    "## Tensorboard Visualization"
   ]
  },
  {
   "cell_type": "code",
   "execution_count": 58,
   "id": "60f524f4",
   "metadata": {},
   "outputs": [],
   "source": [
    "import datetime,os\n",
    "\n",
    "logdir = os.path.join(\"log\",datetime.datetime.now().strftime(\"%Y%m%d-%H%M%S\"))\n",
    "tensorboard_callback = tf.keras.callbacks.TensorBoard(logdir,histogram_freq=1)"
   ]
  },
  {
   "cell_type": "markdown",
   "id": "1dbd0baa",
   "metadata": {},
   "source": [
    "## Model Training"
   ]
  },
  {
   "cell_type": "code",
   "execution_count": 60,
   "id": "8580fe7a",
   "metadata": {},
   "outputs": [
    {
     "name": "stdout",
     "output_type": "stream",
     "text": [
      "Epoch 1/50\n",
      "219/219 [==============================] - 1s 3ms/step - loss: 0.3569 - accuracy: 0.8527 - val_loss: 0.3600 - val_accuracy: 0.8523\n",
      "Epoch 2/50\n",
      "219/219 [==============================] - 0s 2ms/step - loss: 0.3463 - accuracy: 0.8581 - val_loss: 0.3529 - val_accuracy: 0.8537\n",
      "Epoch 3/50\n",
      "219/219 [==============================] - 0s 2ms/step - loss: 0.3350 - accuracy: 0.8631 - val_loss: 0.3564 - val_accuracy: 0.8527\n",
      "Epoch 4/50\n",
      "219/219 [==============================] - 1s 2ms/step - loss: 0.3305 - accuracy: 0.8647 - val_loss: 0.3582 - val_accuracy: 0.8540\n",
      "Epoch 5/50\n",
      "219/219 [==============================] - 1s 2ms/step - loss: 0.3251 - accuracy: 0.8673 - val_loss: 0.3547 - val_accuracy: 0.8530\n",
      "Epoch 6/50\n",
      "219/219 [==============================] - 1s 2ms/step - loss: 0.3196 - accuracy: 0.8681 - val_loss: 0.3566 - val_accuracy: 0.8560\n",
      "Epoch 7/50\n",
      "219/219 [==============================] - 1s 2ms/step - loss: 0.3149 - accuracy: 0.8723 - val_loss: 0.3546 - val_accuracy: 0.8527\n",
      "Epoch 8/50\n",
      "219/219 [==============================] - 1s 2ms/step - loss: 0.3133 - accuracy: 0.8690 - val_loss: 0.3545 - val_accuracy: 0.8553\n",
      "Epoch 9/50\n",
      "219/219 [==============================] - 0s 2ms/step - loss: 0.3088 - accuracy: 0.8760 - val_loss: 0.3627 - val_accuracy: 0.8557\n",
      "Epoch 10/50\n",
      "219/219 [==============================] - 0s 2ms/step - loss: 0.3038 - accuracy: 0.8720 - val_loss: 0.3634 - val_accuracy: 0.8527\n",
      "Epoch 11/50\n",
      "219/219 [==============================] - 0s 2ms/step - loss: 0.2996 - accuracy: 0.8737 - val_loss: 0.3621 - val_accuracy: 0.8540\n",
      "Epoch 12/50\n",
      "219/219 [==============================] - 0s 2ms/step - loss: 0.2979 - accuracy: 0.8793 - val_loss: 0.3684 - val_accuracy: 0.8530\n",
      "Epoch 13/50\n",
      "219/219 [==============================] - 0s 2ms/step - loss: 0.2929 - accuracy: 0.8791 - val_loss: 0.3675 - val_accuracy: 0.8580\n",
      "Epoch 14/50\n",
      "219/219 [==============================] - 0s 2ms/step - loss: 0.2884 - accuracy: 0.8803 - val_loss: 0.3750 - val_accuracy: 0.8490\n",
      "Epoch 15/50\n",
      "219/219 [==============================] - 0s 2ms/step - loss: 0.2864 - accuracy: 0.8804 - val_loss: 0.3766 - val_accuracy: 0.8467\n",
      "Epoch 16/50\n",
      "219/219 [==============================] - 0s 2ms/step - loss: 0.2811 - accuracy: 0.8811 - val_loss: 0.3805 - val_accuracy: 0.8523\n",
      "Epoch 17/50\n",
      "219/219 [==============================] - 0s 2ms/step - loss: 0.2797 - accuracy: 0.8814 - val_loss: 0.3929 - val_accuracy: 0.8533\n",
      "Epoch 18/50\n",
      "219/219 [==============================] - 0s 2ms/step - loss: 0.2754 - accuracy: 0.8854 - val_loss: 0.3893 - val_accuracy: 0.8437\n",
      "Epoch 19/50\n",
      "219/219 [==============================] - 0s 2ms/step - loss: 0.2729 - accuracy: 0.8860 - val_loss: 0.3840 - val_accuracy: 0.8497\n",
      "Epoch 20/50\n",
      "219/219 [==============================] - 0s 2ms/step - loss: 0.2701 - accuracy: 0.8867 - val_loss: 0.3944 - val_accuracy: 0.8493\n",
      "Epoch 21/50\n",
      "219/219 [==============================] - 0s 2ms/step - loss: 0.2659 - accuracy: 0.8890 - val_loss: 0.3936 - val_accuracy: 0.8447\n",
      "Epoch 22/50\n",
      "219/219 [==============================] - 0s 2ms/step - loss: 0.2619 - accuracy: 0.8900 - val_loss: 0.4064 - val_accuracy: 0.8497\n",
      "Epoch 23/50\n",
      "219/219 [==============================] - 0s 2ms/step - loss: 0.2597 - accuracy: 0.8933 - val_loss: 0.3994 - val_accuracy: 0.8433\n",
      "Epoch 24/50\n",
      "219/219 [==============================] - 0s 2ms/step - loss: 0.2554 - accuracy: 0.8910 - val_loss: 0.4030 - val_accuracy: 0.8487\n",
      "Epoch 25/50\n",
      "219/219 [==============================] - 0s 2ms/step - loss: 0.2523 - accuracy: 0.8896 - val_loss: 0.4080 - val_accuracy: 0.8430\n",
      "Epoch 26/50\n",
      "219/219 [==============================] - 0s 2ms/step - loss: 0.2484 - accuracy: 0.8937 - val_loss: 0.4188 - val_accuracy: 0.8370\n",
      "Epoch 27/50\n",
      "219/219 [==============================] - 0s 2ms/step - loss: 0.2462 - accuracy: 0.8970 - val_loss: 0.4314 - val_accuracy: 0.8450\n",
      "Epoch 28/50\n",
      "219/219 [==============================] - 0s 2ms/step - loss: 0.2408 - accuracy: 0.8990 - val_loss: 0.4336 - val_accuracy: 0.8320\n",
      "Epoch 29/50\n",
      "219/219 [==============================] - 0s 2ms/step - loss: 0.2348 - accuracy: 0.9009 - val_loss: 0.4482 - val_accuracy: 0.8440\n",
      "Epoch 30/50\n",
      "219/219 [==============================] - 0s 2ms/step - loss: 0.2337 - accuracy: 0.9011 - val_loss: 0.4323 - val_accuracy: 0.8430\n",
      "Epoch 31/50\n",
      "219/219 [==============================] - 0s 2ms/step - loss: 0.2290 - accuracy: 0.9027 - val_loss: 0.4524 - val_accuracy: 0.8350\n",
      "Epoch 32/50\n",
      "219/219 [==============================] - 0s 2ms/step - loss: 0.2296 - accuracy: 0.8996 - val_loss: 0.4506 - val_accuracy: 0.8243\n",
      "Epoch 33/50\n",
      "219/219 [==============================] - 0s 2ms/step - loss: 0.2236 - accuracy: 0.9049 - val_loss: 0.4463 - val_accuracy: 0.8357\n",
      "Epoch 34/50\n",
      "219/219 [==============================] - 0s 2ms/step - loss: 0.2168 - accuracy: 0.9061 - val_loss: 0.4698 - val_accuracy: 0.8397\n",
      "Epoch 35/50\n",
      "219/219 [==============================] - 0s 2ms/step - loss: 0.2204 - accuracy: 0.9073 - val_loss: 0.4693 - val_accuracy: 0.8337\n",
      "Epoch 36/50\n",
      "219/219 [==============================] - 0s 2ms/step - loss: 0.2102 - accuracy: 0.9080 - val_loss: 0.4672 - val_accuracy: 0.8290\n",
      "Epoch 37/50\n",
      "219/219 [==============================] - 0s 2ms/step - loss: 0.2057 - accuracy: 0.9127 - val_loss: 0.4843 - val_accuracy: 0.8240\n",
      "Epoch 38/50\n",
      "219/219 [==============================] - 0s 2ms/step - loss: 0.2047 - accuracy: 0.9141 - val_loss: 0.4884 - val_accuracy: 0.8337\n",
      "Epoch 39/50\n",
      "219/219 [==============================] - 0s 2ms/step - loss: 0.2012 - accuracy: 0.9119 - val_loss: 0.5101 - val_accuracy: 0.8250\n",
      "Epoch 40/50\n",
      "219/219 [==============================] - 0s 2ms/step - loss: 0.1970 - accuracy: 0.9140 - val_loss: 0.5443 - val_accuracy: 0.8203\n",
      "Epoch 41/50\n",
      "219/219 [==============================] - 0s 2ms/step - loss: 0.1954 - accuracy: 0.9173 - val_loss: 0.5037 - val_accuracy: 0.8270\n",
      "Epoch 42/50\n",
      "219/219 [==============================] - 0s 2ms/step - loss: 0.1871 - accuracy: 0.9194 - val_loss: 0.5239 - val_accuracy: 0.8347\n",
      "Epoch 43/50\n",
      "219/219 [==============================] - 0s 2ms/step - loss: 0.1841 - accuracy: 0.9221 - val_loss: 0.5279 - val_accuracy: 0.8290\n",
      "Epoch 44/50\n",
      "219/219 [==============================] - 0s 2ms/step - loss: 0.1800 - accuracy: 0.9237 - val_loss: 0.5511 - val_accuracy: 0.8297\n",
      "Epoch 45/50\n",
      "219/219 [==============================] - 0s 2ms/step - loss: 0.1824 - accuracy: 0.9220 - val_loss: 0.5558 - val_accuracy: 0.8307\n",
      "Epoch 46/50\n",
      "219/219 [==============================] - 0s 2ms/step - loss: 0.1775 - accuracy: 0.9241 - val_loss: 0.5575 - val_accuracy: 0.8263\n",
      "Epoch 47/50\n",
      "219/219 [==============================] - 0s 2ms/step - loss: 0.1714 - accuracy: 0.9281 - val_loss: 0.5711 - val_accuracy: 0.8253\n",
      "Epoch 48/50\n",
      "219/219 [==============================] - 0s 2ms/step - loss: 0.1693 - accuracy: 0.9271 - val_loss: 0.5899 - val_accuracy: 0.8210\n",
      "Epoch 49/50\n",
      "219/219 [==============================] - 0s 2ms/step - loss: 0.1669 - accuracy: 0.9283 - val_loss: 0.5696 - val_accuracy: 0.8160\n",
      "Epoch 50/50\n",
      "219/219 [==============================] - 0s 2ms/step - loss: 0.1623 - accuracy: 0.9330 - val_loss: 0.6151 - val_accuracy: 0.8250\n"
     ]
    }
   ],
   "source": [
    "r = model.fit(X_train,y_train,batch_size=32,validation_data=[X_test,y_test],epochs=50,callbacks=[tensorboard_callback])"
   ]
  },
  {
   "cell_type": "code",
   "execution_count": 66,
   "id": "d4a3ee2a",
   "metadata": {},
   "outputs": [
    {
     "name": "stdout",
     "output_type": "stream",
     "text": [
      "The tensorboard extension is already loaded. To reload it, use:\n",
      "  %reload_ext tensorboard\n"
     ]
    },
    {
     "data": {
      "text/html": [
       "\n",
       "      <iframe id=\"tensorboard-frame-b6513baaf202db5b\" width=\"100%\" height=\"800\" frameborder=\"0\">\n",
       "      </iframe>\n",
       "      <script>\n",
       "        (function() {\n",
       "          const frame = document.getElementById(\"tensorboard-frame-b6513baaf202db5b\");\n",
       "          const url = new URL(\"/\", window.location);\n",
       "          const port = 6008;\n",
       "          if (port) {\n",
       "            url.port = port;\n",
       "          }\n",
       "          frame.src = url;\n",
       "        })();\n",
       "      </script>\n",
       "    "
      ],
      "text/plain": [
       "<IPython.core.display.HTML object>"
      ]
     },
     "metadata": {},
     "output_type": "display_data"
    }
   ],
   "source": [
    "%load_ext tensorboard\n",
    "%tensorboard --logdir ./log"
   ]
  },
  {
   "cell_type": "code",
   "execution_count": 67,
   "id": "ccf7383c",
   "metadata": {},
   "outputs": [
    {
     "name": "stdout",
     "output_type": "stream",
     "text": [
      "94/94 [==============================] - 0s 1ms/step - loss: 0.6151 - accuracy: 0.8250\n"
     ]
    },
    {
     "data": {
      "text/plain": [
       "[0.6151443719863892, 0.824999988079071]"
      ]
     },
     "execution_count": 67,
     "metadata": {},
     "output_type": "execute_result"
    }
   ],
   "source": [
    "model.evaluate(X_test,y_test)"
   ]
  },
  {
   "cell_type": "code",
   "execution_count": 88,
   "id": "d1d48749",
   "metadata": {},
   "outputs": [
    {
     "name": "stdout",
     "output_type": "stream",
     "text": [
      "94/94 [==============================] - 0s 1ms/step\n",
      "94/94 [==============================] - 0s 951us/step\n"
     ]
    },
    {
     "data": {
      "text/plain": [
       "array([[2195,  165],\n",
       "       [ 360,  280]])"
      ]
     },
     "execution_count": 88,
     "metadata": {},
     "output_type": "execute_result"
    }
   ],
   "source": [
    "from sklearn.metrics import confusion_matrix\n",
    "import numpy as np\n",
    "y_pred = model.predict(X_test)\n",
    "y_pred=(model.predict(X_test) > 0.5).astype(\"int32\")\n",
    "cf = confusion_matrix(y_test,y_pred)\n",
    "cf"
   ]
  },
  {
   "cell_type": "code",
   "execution_count": 84,
   "id": "68ec83e9",
   "metadata": {},
   "outputs": [
    {
     "data": {
      "text/plain": [
       "0"
      ]
     },
     "execution_count": 84,
     "metadata": {},
     "output_type": "execute_result"
    }
   ],
   "source": [
    "from mlxtend import pl"
   ]
  },
  {
   "cell_type": "code",
   "execution_count": null,
   "id": "f402cd03",
   "metadata": {},
   "outputs": [],
   "source": []
  }
 ],
 "metadata": {
  "kernelspec": {
   "display_name": "Python 3 (ipykernel)",
   "language": "python",
   "name": "python3"
  },
  "language_info": {
   "codemirror_mode": {
    "name": "ipython",
    "version": 3
   },
   "file_extension": ".py",
   "mimetype": "text/x-python",
   "name": "python",
   "nbconvert_exporter": "python",
   "pygments_lexer": "ipython3",
   "version": "3.7.16"
  }
 },
 "nbformat": 4,
 "nbformat_minor": 5
}
