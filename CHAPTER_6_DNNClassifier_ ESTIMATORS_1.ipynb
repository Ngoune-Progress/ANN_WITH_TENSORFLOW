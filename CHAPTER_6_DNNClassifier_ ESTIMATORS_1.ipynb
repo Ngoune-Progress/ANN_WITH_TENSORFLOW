{
 "cells": [
  {
   "cell_type": "code",
   "execution_count": 1,
   "id": "6d4145e7",
   "metadata": {},
   "outputs": [
    {
     "name": "stderr",
     "output_type": "stream",
     "text": [
      "2023-04-16 21:15:26.315545: I tensorflow/core/platform/cpu_feature_guard.cc:193] This TensorFlow binary is optimized with oneAPI Deep Neural Network Library (oneDNN) to use the following CPU instructions in performance-critical operations:  SSE4.1 SSE4.2 AVX AVX2 FMA\n",
      "To enable them in other operations, rebuild TensorFlow with the appropriate compiler flags.\n"
     ]
    }
   ],
   "source": [
    "import pandas as pd\n",
    "import numpy as np\n",
    "import matplotlib.pyplot as plt\n",
    "import tensorflow as tf"
   ]
  },
  {
   "cell_type": "code",
   "execution_count": 33,
   "id": "ff819c8f",
   "metadata": {},
   "outputs": [
    {
     "data": {
      "text/plain": [
       "<Figure size 100x100 with 0 Axes>"
      ]
     },
     "metadata": {},
     "output_type": "display_data"
    }
   ],
   "source": [
    "from sklearn import datasets\n",
    "plt.figure(figsize=(1,1))\n",
    "digits = datasets.load_digits()"
   ]
  },
  {
   "cell_type": "code",
   "execution_count": 61,
   "id": "14d03625",
   "metadata": {},
   "outputs": [
    {
     "data": {
      "image/png": "[encoded data removed]",
      "text/plain": [
       "<Figure size 640x480 with 4 Axes>"
      ]
     },
     "metadata": {},
     "output_type": "display_data"
    }
   ],
   "source": [
    "fig, ax = plt.subplots(1,4)\n",
    "ax[0].imshow(digits.images[0])\n",
    "ax[1].imshow(digits.images[1])\n",
    "ax[2].imshow(digits.images[2])\n",
    "ax[3].imshow(digits.images[3])\n",
    "\n",
    "plt.show()"
   ]
  },
  {
   "cell_type": "code",
   "execution_count": 52,
   "id": "526abab7",
   "metadata": {},
   "outputs": [],
   "source": [
    "n_samples = digits.images.shape[0]\n",
    "data = digits.images.reshape((n_samples,-1))"
   ]
  },
  {
   "cell_type": "code",
   "execution_count": 49,
   "id": "e3c03fae",
   "metadata": {},
   "outputs": [],
   "source": [
    "from sklearn.model_selection import train_test_split\n",
    "\n",
    "x_train,x_test,y_train,y_test = train_test_split(data,digits.target,test_size=0.05,shuffle=False)"
   ]
  },
  {
   "cell_type": "code",
   "execution_count": 53,
   "id": "26535fbc",
   "metadata": {},
   "outputs": [],
   "source": [
    "# create column names for our model input function\n",
    "columns = ['p_'+str(i) for i in range(1,65)]"
   ]
  },
  {
   "cell_type": "code",
   "execution_count": 55,
   "id": "75363972",
   "metadata": {},
   "outputs": [],
   "source": [
    "feature_columns =[]\n",
    "for col in columns:\n",
    "    feature_columns.append(tf.feature_column.numeric_column(key=col))"
   ]
  },
  {
   "cell_type": "code",
   "execution_count": 56,
   "id": "dc7d86cc",
   "metadata": {},
   "outputs": [
    {
     "data": {
      "text/plain": [
       "[NumericColumn(key='p_1', shape=(1,), default_value=None, dtype=tf.float32, normalizer_fn=None),\n",
       " NumericColumn(key='p_2', shape=(1,), default_value=None, dtype=tf.float32, normalizer_fn=None),\n",
       " NumericColumn(key='p_3', shape=(1,), default_value=None, dtype=tf.float32, normalizer_fn=None),\n",
       " NumericColumn(key='p_4', shape=(1,), default_value=None, dtype=tf.float32, normalizer_fn=None),\n",
       " NumericColumn(key='p_5', shape=(1,), default_value=None, dtype=tf.float32, normalizer_fn=None),\n",
       " NumericColumn(key='p_6', shape=(1,), default_value=None, dtype=tf.float32, normalizer_fn=None),\n",
       " NumericColumn(key='p_7', shape=(1,), default_value=None, dtype=tf.float32, normalizer_fn=None),\n",
       " NumericColumn(key='p_8', shape=(1,), default_value=None, dtype=tf.float32, normalizer_fn=None),\n",
       " NumericColumn(key='p_9', shape=(1,), default_value=None, dtype=tf.float32, normalizer_fn=None),\n",
       " NumericColumn(key='p_10', shape=(1,), default_value=None, dtype=tf.float32, normalizer_fn=None),\n",
       " NumericColumn(key='p_11', shape=(1,), default_value=None, dtype=tf.float32, normalizer_fn=None),\n",
       " NumericColumn(key='p_12', shape=(1,), default_value=None, dtype=tf.float32, normalizer_fn=None),\n",
       " NumericColumn(key='p_13', shape=(1,), default_value=None, dtype=tf.float32, normalizer_fn=None),\n",
       " NumericColumn(key='p_14', shape=(1,), default_value=None, dtype=tf.float32, normalizer_fn=None),\n",
       " NumericColumn(key='p_15', shape=(1,), default_value=None, dtype=tf.float32, normalizer_fn=None),\n",
       " NumericColumn(key='p_16', shape=(1,), default_value=None, dtype=tf.float32, normalizer_fn=None),\n",
       " NumericColumn(key='p_17', shape=(1,), default_value=None, dtype=tf.float32, normalizer_fn=None),\n",
       " NumericColumn(key='p_18', shape=(1,), default_value=None, dtype=tf.float32, normalizer_fn=None),\n",
       " NumericColumn(key='p_19', shape=(1,), default_value=None, dtype=tf.float32, normalizer_fn=None),\n",
       " NumericColumn(key='p_20', shape=(1,), default_value=None, dtype=tf.float32, normalizer_fn=None),\n",
       " NumericColumn(key='p_21', shape=(1,), default_value=None, dtype=tf.float32, normalizer_fn=None),\n",
       " NumericColumn(key='p_22', shape=(1,), default_value=None, dtype=tf.float32, normalizer_fn=None),\n",
       " NumericColumn(key='p_23', shape=(1,), default_value=None, dtype=tf.float32, normalizer_fn=None),\n",
       " NumericColumn(key='p_24', shape=(1,), default_value=None, dtype=tf.float32, normalizer_fn=None),\n",
       " NumericColumn(key='p_25', shape=(1,), default_value=None, dtype=tf.float32, normalizer_fn=None),\n",
       " NumericColumn(key='p_26', shape=(1,), default_value=None, dtype=tf.float32, normalizer_fn=None),\n",
       " NumericColumn(key='p_27', shape=(1,), default_value=None, dtype=tf.float32, normalizer_fn=None),\n",
       " NumericColumn(key='p_28', shape=(1,), default_value=None, dtype=tf.float32, normalizer_fn=None),\n",
       " NumericColumn(key='p_29', shape=(1,), default_value=None, dtype=tf.float32, normalizer_fn=None),\n",
       " NumericColumn(key='p_30', shape=(1,), default_value=None, dtype=tf.float32, normalizer_fn=None),\n",
       " NumericColumn(key='p_31', shape=(1,), default_value=None, dtype=tf.float32, normalizer_fn=None),\n",
       " NumericColumn(key='p_32', shape=(1,), default_value=None, dtype=tf.float32, normalizer_fn=None),\n",
       " NumericColumn(key='p_33', shape=(1,), default_value=None, dtype=tf.float32, normalizer_fn=None),\n",
       " NumericColumn(key='p_34', shape=(1,), default_value=None, dtype=tf.float32, normalizer_fn=None),\n",
       " NumericColumn(key='p_35', shape=(1,), default_value=None, dtype=tf.float32, normalizer_fn=None),\n",
       " NumericColumn(key='p_36', shape=(1,), default_value=None, dtype=tf.float32, normalizer_fn=None),\n",
       " NumericColumn(key='p_37', shape=(1,), default_value=None, dtype=tf.float32, normalizer_fn=None),\n",
       " NumericColumn(key='p_38', shape=(1,), default_value=None, dtype=tf.float32, normalizer_fn=None),\n",
       " NumericColumn(key='p_39', shape=(1,), default_value=None, dtype=tf.float32, normalizer_fn=None),\n",
       " NumericColumn(key='p_40', shape=(1,), default_value=None, dtype=tf.float32, normalizer_fn=None),\n",
       " NumericColumn(key='p_41', shape=(1,), default_value=None, dtype=tf.float32, normalizer_fn=None),\n",
       " NumericColumn(key='p_42', shape=(1,), default_value=None, dtype=tf.float32, normalizer_fn=None),\n",
       " NumericColumn(key='p_43', shape=(1,), default_value=None, dtype=tf.float32, normalizer_fn=None),\n",
       " NumericColumn(key='p_44', shape=(1,), default_value=None, dtype=tf.float32, normalizer_fn=None),\n",
       " NumericColumn(key='p_45', shape=(1,), default_value=None, dtype=tf.float32, normalizer_fn=None),\n",
       " NumericColumn(key='p_46', shape=(1,), default_value=None, dtype=tf.float32, normalizer_fn=None),\n",
       " NumericColumn(key='p_47', shape=(1,), default_value=None, dtype=tf.float32, normalizer_fn=None),\n",
       " NumericColumn(key='p_48', shape=(1,), default_value=None, dtype=tf.float32, normalizer_fn=None),\n",
       " NumericColumn(key='p_49', shape=(1,), default_value=None, dtype=tf.float32, normalizer_fn=None),\n",
       " NumericColumn(key='p_50', shape=(1,), default_value=None, dtype=tf.float32, normalizer_fn=None),\n",
       " NumericColumn(key='p_51', shape=(1,), default_value=None, dtype=tf.float32, normalizer_fn=None),\n",
       " NumericColumn(key='p_52', shape=(1,), default_value=None, dtype=tf.float32, normalizer_fn=None),\n",
       " NumericColumn(key='p_53', shape=(1,), default_value=None, dtype=tf.float32, normalizer_fn=None),\n",
       " NumericColumn(key='p_54', shape=(1,), default_value=None, dtype=tf.float32, normalizer_fn=None),\n",
       " NumericColumn(key='p_55', shape=(1,), default_value=None, dtype=tf.float32, normalizer_fn=None),\n",
       " NumericColumn(key='p_56', shape=(1,), default_value=None, dtype=tf.float32, normalizer_fn=None),\n",
       " NumericColumn(key='p_57', shape=(1,), default_value=None, dtype=tf.float32, normalizer_fn=None),\n",
       " NumericColumn(key='p_58', shape=(1,), default_value=None, dtype=tf.float32, normalizer_fn=None),\n",
       " NumericColumn(key='p_59', shape=(1,), default_value=None, dtype=tf.float32, normalizer_fn=None),\n",
       " NumericColumn(key='p_60', shape=(1,), default_value=None, dtype=tf.float32, normalizer_fn=None),\n",
       " NumericColumn(key='p_61', shape=(1,), default_value=None, dtype=tf.float32, normalizer_fn=None),\n",
       " NumericColumn(key='p_62', shape=(1,), default_value=None, dtype=tf.float32, normalizer_fn=None),\n",
       " NumericColumn(key='p_63', shape=(1,), default_value=None, dtype=tf.float32, normalizer_fn=None),\n",
       " NumericColumn(key='p_64', shape=(1,), default_value=None, dtype=tf.float32, normalizer_fn=None)]"
      ]
     },
     "execution_count": 56,
     "metadata": {},
     "output_type": "execute_result"
    }
   ],
   "source": [
    "feature_columns"
   ]
  },
  {
   "cell_type": "code",
   "execution_count": 93,
   "id": "c198bafc",
   "metadata": {},
   "outputs": [],
   "source": [
    "def input_fn(features,labels,training=True,batch_size=32):\n",
    "    #converts inputs to a dataset\n",
    "    dataset = tf.data.Dataset.from_tensor_slices((dict(features),labels))\n",
    "    if training:\n",
    "        dataset = dataset.shuffle(1000).repeat()\n",
    "    return dataset.batch(batch_size)"
   ]
  },
  {
   "cell_type": "code",
   "execution_count": 94,
   "id": "92fdc01a",
   "metadata": {},
   "outputs": [
    {
     "name": "stdout",
     "output_type": "stream",
     "text": [
      "INFO:tensorflow:Using default config.\n",
      "INFO:tensorflow:Using config: {'_model_dir': 'classifier', '_tf_random_seed': None, '_save_summary_steps': 100, '_save_checkpoints_steps': None, '_save_checkpoints_secs': 600, '_session_config': allow_soft_placement: true\n",
      "graph_options {\n",
      "  rewrite_options {\n",
      "    meta_optimizer_iterations: ONE\n",
      "  }\n",
      "}\n",
      ", '_keep_checkpoint_max': 5, '_keep_checkpoint_every_n_hours': 10000, '_log_step_count_steps': 100, '_train_distribute': None, '_device_fn': None, '_protocol': None, '_eval_distribute': None, '_experimental_distribute': None, '_experimental_max_worker_delay_secs': None, '_session_creation_timeout_secs': 7200, '_checkpoint_save_graph_def': True, '_service': None, '_cluster_spec': ClusterSpec({}), '_task_type': 'worker', '_task_id': 0, '_global_id_in_cluster': 0, '_master': '', '_evaluation_master': '', '_is_chief': True, '_num_ps_replicas': 0, '_num_worker_replicas': 1}\n"
     ]
    }
   ],
   "source": [
    "classifier = tf.estimator.DNNClassifier(hidden_units=[256,128,64],\n",
    "                                       feature_columns=feature_columns,optimizer='Adagrad',n_classes=10,model_dir='classifier')"
   ]
  },
  {
   "cell_type": "code",
   "execution_count": 95,
   "id": "d2646255",
   "metadata": {},
   "outputs": [],
   "source": [
    "dftrain = pd.DataFrame(x_train,columns=columns)"
   ]
  },
  {
   "cell_type": "code",
   "execution_count": 96,
   "id": "844faa3c",
   "metadata": {},
   "outputs": [
    {
     "data": {
      "text/html": [
       "<div>\n",
       "<style scoped>\n",
       "    .dataframe tbody tr th:only-of-type {\n",
       "        vertical-align: middle;\n",
       "    }\n",
       "\n",
       "    .dataframe tbody tr th {\n",
       "        vertical-align: top;\n",
       "    }\n",
       "\n",
       "    .dataframe thead th {\n",
       "        text-align: right;\n",
       "    }\n",
       "</style>\n",
       "<table border=\"1\" class=\"dataframe\">\n",
       "  <thead>\n",
       "    <tr style=\"text-align: right;\">\n",
       "      <th></th>\n",
       "      <th>p_1</th>\n",
       "      <th>p_2</th>\n",
       "      <th>p_3</th>\n",
       "      <th>p_4</th>\n",
       "      <th>p_5</th>\n",
       "      <th>p_6</th>\n",
       "      <th>p_7</th>\n",
       "      <th>p_8</th>\n",
       "      <th>p_9</th>\n",
       "      <th>p_10</th>\n",
       "      <th>...</th>\n",
       "      <th>p_55</th>\n",
       "      <th>p_56</th>\n",
       "      <th>p_57</th>\n",
       "      <th>p_58</th>\n",
       "      <th>p_59</th>\n",
       "      <th>p_60</th>\n",
       "      <th>p_61</th>\n",
       "      <th>p_62</th>\n",
       "      <th>p_63</th>\n",
       "      <th>p_64</th>\n",
       "    </tr>\n",
       "  </thead>\n",
       "  <tbody>\n",
       "    <tr>\n",
       "      <th>0</th>\n",
       "      <td>0.0</td>\n",
       "      <td>0.0</td>\n",
       "      <td>5.0</td>\n",
       "      <td>13.0</td>\n",
       "      <td>9.0</td>\n",
       "      <td>1.0</td>\n",
       "      <td>0.0</td>\n",
       "      <td>0.0</td>\n",
       "      <td>0.0</td>\n",
       "      <td>0.0</td>\n",
       "      <td>...</td>\n",
       "      <td>0.0</td>\n",
       "      <td>0.0</td>\n",
       "      <td>0.0</td>\n",
       "      <td>0.0</td>\n",
       "      <td>6.0</td>\n",
       "      <td>13.0</td>\n",
       "      <td>10.0</td>\n",
       "      <td>0.0</td>\n",
       "      <td>0.0</td>\n",
       "      <td>0.0</td>\n",
       "    </tr>\n",
       "    <tr>\n",
       "      <th>1</th>\n",
       "      <td>0.0</td>\n",
       "      <td>0.0</td>\n",
       "      <td>0.0</td>\n",
       "      <td>12.0</td>\n",
       "      <td>13.0</td>\n",
       "      <td>5.0</td>\n",
       "      <td>0.0</td>\n",
       "      <td>0.0</td>\n",
       "      <td>0.0</td>\n",
       "      <td>0.0</td>\n",
       "      <td>...</td>\n",
       "      <td>0.0</td>\n",
       "      <td>0.0</td>\n",
       "      <td>0.0</td>\n",
       "      <td>0.0</td>\n",
       "      <td>0.0</td>\n",
       "      <td>11.0</td>\n",
       "      <td>16.0</td>\n",
       "      <td>10.0</td>\n",
       "      <td>0.0</td>\n",
       "      <td>0.0</td>\n",
       "    </tr>\n",
       "    <tr>\n",
       "      <th>2</th>\n",
       "      <td>0.0</td>\n",
       "      <td>0.0</td>\n",
       "      <td>0.0</td>\n",
       "      <td>4.0</td>\n",
       "      <td>15.0</td>\n",
       "      <td>12.0</td>\n",
       "      <td>0.0</td>\n",
       "      <td>0.0</td>\n",
       "      <td>0.0</td>\n",
       "      <td>0.0</td>\n",
       "      <td>...</td>\n",
       "      <td>5.0</td>\n",
       "      <td>0.0</td>\n",
       "      <td>0.0</td>\n",
       "      <td>0.0</td>\n",
       "      <td>0.0</td>\n",
       "      <td>3.0</td>\n",
       "      <td>11.0</td>\n",
       "      <td>16.0</td>\n",
       "      <td>9.0</td>\n",
       "      <td>0.0</td>\n",
       "    </tr>\n",
       "    <tr>\n",
       "      <th>3</th>\n",
       "      <td>0.0</td>\n",
       "      <td>0.0</td>\n",
       "      <td>7.0</td>\n",
       "      <td>15.0</td>\n",
       "      <td>13.0</td>\n",
       "      <td>1.0</td>\n",
       "      <td>0.0</td>\n",
       "      <td>0.0</td>\n",
       "      <td>0.0</td>\n",
       "      <td>8.0</td>\n",
       "      <td>...</td>\n",
       "      <td>9.0</td>\n",
       "      <td>0.0</td>\n",
       "      <td>0.0</td>\n",
       "      <td>0.0</td>\n",
       "      <td>7.0</td>\n",
       "      <td>13.0</td>\n",
       "      <td>13.0</td>\n",
       "      <td>9.0</td>\n",
       "      <td>0.0</td>\n",
       "      <td>0.0</td>\n",
       "    </tr>\n",
       "    <tr>\n",
       "      <th>4</th>\n",
       "      <td>0.0</td>\n",
       "      <td>0.0</td>\n",
       "      <td>0.0</td>\n",
       "      <td>1.0</td>\n",
       "      <td>11.0</td>\n",
       "      <td>0.0</td>\n",
       "      <td>0.0</td>\n",
       "      <td>0.0</td>\n",
       "      <td>0.0</td>\n",
       "      <td>0.0</td>\n",
       "      <td>...</td>\n",
       "      <td>0.0</td>\n",
       "      <td>0.0</td>\n",
       "      <td>0.0</td>\n",
       "      <td>0.0</td>\n",
       "      <td>0.0</td>\n",
       "      <td>2.0</td>\n",
       "      <td>16.0</td>\n",
       "      <td>4.0</td>\n",
       "      <td>0.0</td>\n",
       "      <td>0.0</td>\n",
       "    </tr>\n",
       "  </tbody>\n",
       "</table>\n",
       "<p>5 rows × 64 columns</p>\n",
       "</div>"
      ],
      "text/plain": [
       "   p_1  p_2  p_3   p_4   p_5   p_6  p_7  p_8  p_9  p_10  ...  p_55  p_56  \\\n",
       "0  0.0  0.0  5.0  13.0   9.0   1.0  0.0  0.0  0.0   0.0  ...   0.0   0.0   \n",
       "1  0.0  0.0  0.0  12.0  13.0   5.0  0.0  0.0  0.0   0.0  ...   0.0   0.0   \n",
       "2  0.0  0.0  0.0   4.0  15.0  12.0  0.0  0.0  0.0   0.0  ...   5.0   0.0   \n",
       "3  0.0  0.0  7.0  15.0  13.0   1.0  0.0  0.0  0.0   8.0  ...   9.0   0.0   \n",
       "4  0.0  0.0  0.0   1.0  11.0   0.0  0.0  0.0  0.0   0.0  ...   0.0   0.0   \n",
       "\n",
       "   p_57  p_58  p_59  p_60  p_61  p_62  p_63  p_64  \n",
       "0   0.0   0.0   6.0  13.0  10.0   0.0   0.0   0.0  \n",
       "1   0.0   0.0   0.0  11.0  16.0  10.0   0.0   0.0  \n",
       "2   0.0   0.0   0.0   3.0  11.0  16.0   9.0   0.0  \n",
       "3   0.0   0.0   7.0  13.0  13.0   9.0   0.0   0.0  \n",
       "4   0.0   0.0   0.0   2.0  16.0   4.0   0.0   0.0  \n",
       "\n",
       "[5 rows x 64 columns]"
      ]
     },
     "execution_count": 96,
     "metadata": {},
     "output_type": "execute_result"
    }
   ],
   "source": [
    "dftrain.head()"
   ]
  },
  {
   "cell_type": "code",
   "execution_count": 97,
   "id": "e530e31c",
   "metadata": {},
   "outputs": [
    {
     "name": "stdout",
     "output_type": "stream",
     "text": [
      "INFO:tensorflow:Calling model_fn.\n",
      "INFO:tensorflow:Done calling model_fn.\n",
      "INFO:tensorflow:Create CheckpointSaverHook.\n",
      "INFO:tensorflow:Graph was finalized.\n",
      "INFO:tensorflow:Restoring parameters from classifier/model.ckpt-2000\n",
      "WARNING:tensorflow:From /Users/ngounepeetprogress/opt/anaconda3/envs/deepL/lib/python3.7/site-packages/tensorflow/python/training/saver.py:1173: get_checkpoint_mtimes (from tensorflow.python.checkpoint.checkpoint_management) is deprecated and will be removed in a future version.\n",
      "Instructions for updating:\n",
      "Use standard file utilities to get mtimes.\n",
      "INFO:tensorflow:Running local_init_op.\n",
      "INFO:tensorflow:Done running local_init_op.\n",
      "INFO:tensorflow:Calling checkpoint listeners before saving checkpoint 2000...\n",
      "INFO:tensorflow:Saving checkpoints for 2000 into classifier/model.ckpt.\n",
      "INFO:tensorflow:Calling checkpoint listeners after saving checkpoint 2000...\n",
      "INFO:tensorflow:loss = 0.0764341, step = 2000\n",
      "INFO:tensorflow:global_step/sec: 207.797\n",
      "INFO:tensorflow:loss = 0.04174891, step = 2100 (0.482 sec)\n",
      "INFO:tensorflow:global_step/sec: 336.787\n",
      "INFO:tensorflow:loss = 0.037335135, step = 2200 (0.297 sec)\n",
      "INFO:tensorflow:global_step/sec: 301.112\n",
      "INFO:tensorflow:loss = 0.031600498, step = 2300 (0.332 sec)\n",
      "INFO:tensorflow:global_step/sec: 324.501\n",
      "INFO:tensorflow:loss = 0.06982414, step = 2400 (0.308 sec)\n",
      "INFO:tensorflow:global_step/sec: 332.456\n",
      "INFO:tensorflow:loss = 0.02211067, step = 2500 (0.301 sec)\n",
      "INFO:tensorflow:global_step/sec: 331.253\n",
      "INFO:tensorflow:loss = 0.014149714, step = 2600 (0.302 sec)\n",
      "INFO:tensorflow:global_step/sec: 330.461\n",
      "INFO:tensorflow:loss = 0.039193626, step = 2700 (0.303 sec)\n",
      "INFO:tensorflow:global_step/sec: 305.785\n",
      "INFO:tensorflow:loss = 0.034950793, step = 2800 (0.327 sec)\n",
      "INFO:tensorflow:global_step/sec: 321.719\n",
      "INFO:tensorflow:loss = 0.05705575, step = 2900 (0.311 sec)\n",
      "INFO:tensorflow:global_step/sec: 329.845\n",
      "INFO:tensorflow:loss = 0.02071198, step = 3000 (0.303 sec)\n",
      "INFO:tensorflow:global_step/sec: 325.249\n",
      "INFO:tensorflow:loss = 0.042930454, step = 3100 (0.307 sec)\n",
      "INFO:tensorflow:global_step/sec: 326.63\n",
      "INFO:tensorflow:loss = 0.082889244, step = 3200 (0.306 sec)\n",
      "INFO:tensorflow:global_step/sec: 322.679\n",
      "INFO:tensorflow:loss = 0.045058385, step = 3300 (0.310 sec)\n",
      "INFO:tensorflow:global_step/sec: 323.873\n",
      "INFO:tensorflow:loss = 0.02320569, step = 3400 (0.309 sec)\n",
      "INFO:tensorflow:global_step/sec: 309.287\n",
      "INFO:tensorflow:loss = 0.021048067, step = 3500 (0.324 sec)\n",
      "INFO:tensorflow:global_step/sec: 299.091\n",
      "INFO:tensorflow:loss = 0.058107395, step = 3600 (0.334 sec)\n",
      "INFO:tensorflow:global_step/sec: 321.282\n",
      "INFO:tensorflow:loss = 0.01802777, step = 3700 (0.311 sec)\n",
      "INFO:tensorflow:global_step/sec: 325.933\n",
      "INFO:tensorflow:loss = 0.031112421, step = 3800 (0.307 sec)\n",
      "INFO:tensorflow:global_step/sec: 327.046\n",
      "INFO:tensorflow:loss = 0.018942617, step = 3900 (0.306 sec)\n",
      "INFO:tensorflow:Calling checkpoint listeners before saving checkpoint 4000...\n",
      "INFO:tensorflow:Saving checkpoints for 4000 into classifier/model.ckpt.\n",
      "INFO:tensorflow:Calling checkpoint listeners after saving checkpoint 4000...\n",
      "INFO:tensorflow:Loss for final step: 0.042044662.\n"
     ]
    },
    {
     "data": {
      "text/plain": [
       "<tensorflow_estimator.python.estimator.canned.dnn.DNNClassifierV2 at 0x7fc951e82ad0>"
      ]
     },
     "execution_count": 97,
     "metadata": {},
     "output_type": "execute_result"
    }
   ],
   "source": [
    "classifier.train(input_fn=lambda:input_fn(dftrain,y_train,training=True),steps=2000)"
   ]
  },
  {
   "cell_type": "code",
   "execution_count": 71,
   "id": "530a2684",
   "metadata": {},
   "outputs": [],
   "source": [
    "Number_of_epochs = (32 * 2000) / (n_samples)"
   ]
  },
  {
   "cell_type": "code",
   "execution_count": 72,
   "id": "b022f957",
   "metadata": {},
   "outputs": [
    {
     "data": {
      "text/plain": [
       "35.61491374513077"
      ]
     },
     "execution_count": 72,
     "metadata": {},
     "output_type": "execute_result"
    }
   ],
   "source": [
    "Number_of_epochs"
   ]
  },
  {
   "cell_type": "code",
   "execution_count": 73,
   "id": "924da34a",
   "metadata": {},
   "outputs": [
    {
     "name": "stdout",
     "output_type": "stream",
     "text": [
      "INFO:tensorflow:Calling model_fn.\n",
      "INFO:tensorflow:Done calling model_fn.\n",
      "INFO:tensorflow:Starting evaluation at 2023-04-17T12:03:02\n",
      "INFO:tensorflow:Graph was finalized.\n",
      "INFO:tensorflow:Restoring parameters from classifier/model.ckpt-2000\n",
      "INFO:tensorflow:Running local_init_op.\n",
      "INFO:tensorflow:Done running local_init_op.\n",
      "INFO:tensorflow:Inference Time : 0.59633s\n",
      "INFO:tensorflow:Finished evaluation at 2023-04-17-12:03:02\n",
      "INFO:tensorflow:Saving dict for global step 2000: accuracy = 0.93333334, average_loss = 0.16683899, global_step = 2000, loss = 0.1617678\n",
      "INFO:tensorflow:Saving 'checkpoint_path' summary for global step 2000: classifier/model.ckpt-2000\n"
     ]
    },
    {
     "data": {
      "text/plain": [
       "{'accuracy': 0.93333334,\n",
       " 'average_loss': 0.16683899,\n",
       " 'loss': 0.1617678,\n",
       " 'global_step': 2000}"
      ]
     },
     "execution_count": 73,
     "metadata": {},
     "output_type": "execute_result"
    }
   ],
   "source": [
    "dftest = pd.DataFrame(x_test,columns=columns)\n",
    "classifier.evaluate(input_fn=lambda:input_fn(dftest,y_test,training=False))"
   ]
  },
  {
   "cell_type": "code",
   "execution_count": 74,
   "id": "7d9d6f12",
   "metadata": {},
   "outputs": [],
   "source": [
    "%load_ext tensorboard"
   ]
  },
  {
   "cell_type": "code",
   "execution_count": 75,
   "id": "f9fcc750",
   "metadata": {},
   "outputs": [
    {
     "data": {
      "text/html": [
       "\n",
       "      <iframe id=\"tensorboard-frame-8002ba0a084366fe\" width=\"100%\" height=\"800\" frameborder=\"0\">\n",
       "      </iframe>\n",
       "      <script>\n",
       "        (function() {\n",
       "          const frame = document.getElementById(\"tensorboard-frame-8002ba0a084366fe\");\n",
       "          const url = new URL(\"/\", window.location);\n",
       "          const port = 6006;\n",
       "          if (port) {\n",
       "            url.port = port;\n",
       "          }\n",
       "          frame.src = url;\n",
       "        })();\n",
       "      </script>\n",
       "    "
      ],
      "text/plain": [
       "<IPython.core.display.HTML object>"
      ]
     },
     "metadata": {},
     "output_type": "display_data"
    }
   ],
   "source": [
    "%tensorboard --logdir ./classifier"
   ]
  },
  {
   "cell_type": "code",
   "execution_count": 79,
   "id": "9e257ee2",
   "metadata": {},
   "outputs": [],
   "source": [
    "def predict_input_fn(features,batch_size=32):\n",
    "    return tf.data.Dataset.from_tensor_slices(dict(features)).batch(batch_size)"
   ]
  },
  {
   "cell_type": "code",
   "execution_count": 80,
   "id": "9bd2b152",
   "metadata": {},
   "outputs": [],
   "source": [
    "test = dftest.iloc[:2,:]\n",
    "expected = y_test[:2].tolist()\n"
   ]
  },
  {
   "cell_type": "code",
   "execution_count": 84,
   "id": "a413832a",
   "metadata": {},
   "outputs": [],
   "source": [
    "pred = classifier.predict(input_fn=lambda:predict_input_fn(test))"
   ]
  },
  {
   "cell_type": "code",
   "execution_count": 85,
   "id": "4effaaa2",
   "metadata": {},
   "outputs": [
    {
     "data": {
      "text/plain": [
       "<generator object Estimator.predict at 0x7fc96f588850>"
      ]
     },
     "execution_count": 85,
     "metadata": {},
     "output_type": "execute_result"
    }
   ],
   "source": [
    "pred"
   ]
  },
  {
   "cell_type": "code",
   "execution_count": 86,
   "id": "070b01f5",
   "metadata": {},
   "outputs": [
    {
     "name": "stdout",
     "output_type": "stream",
     "text": [
      "INFO:tensorflow:Calling model_fn.\n",
      "INFO:tensorflow:Done calling model_fn.\n",
      "INFO:tensorflow:Graph was finalized.\n",
      "INFO:tensorflow:Restoring parameters from classifier/model.ckpt-2000\n",
      "INFO:tensorflow:Running local_init_op.\n",
      "INFO:tensorflow:Done running local_init_op.\n",
      "predicted class 8 ,probability of prediction 0.9812490940093994 ,expected label 8\n",
      "predicted class 4 ,probability of prediction 0.9976891279220581 ,expected label 4\n"
     ]
    }
   ],
   "source": [
    "for pred_dict, expec in zip(pred, expected):\n",
    "    class_id = pred_dict['class_ids'][0]\n",
    "    probability = pred_dict['probabilities'][class_id]\n",
    "    print('predicted class {} ,probability of prediction {} ,expected label {}'.format(class_id,probability,expec))\n"
   ]
  },
  {
   "cell_type": "code",
   "execution_count": 87,
   "id": "63cd1ce9",
   "metadata": {},
   "outputs": [
    {
     "data": {
      "text/plain": [
       "(      p_1  p_2   p_3   p_4   p_5   p_6  p_7  p_8  p_9  p_10  ...  p_55  p_56  \\\n",
       " 0     0.0  0.0   5.0  13.0   9.0   1.0  0.0  0.0  0.0   0.0  ...   0.0   0.0   \n",
       " 1     0.0  0.0   0.0  12.0  13.0   5.0  0.0  0.0  0.0   0.0  ...   0.0   0.0   \n",
       " 2     0.0  0.0   0.0   4.0  15.0  12.0  0.0  0.0  0.0   0.0  ...   5.0   0.0   \n",
       " 3     0.0  0.0   7.0  15.0  13.0   1.0  0.0  0.0  0.0   8.0  ...   9.0   0.0   \n",
       " 4     0.0  0.0   0.0   1.0  11.0   0.0  0.0  0.0  0.0   0.0  ...   0.0   0.0   \n",
       " ...   ...  ...   ...   ...   ...   ...  ...  ...  ...   ...  ...   ...   ...   \n",
       " 1702  0.0  0.0   7.0  11.0  13.0   8.0  1.0  0.0  0.0   1.0  ...   0.0   0.0   \n",
       " 1703  0.0  0.0   4.0  14.0  11.0   3.0  0.0  0.0  0.0   0.0  ...   2.0   0.0   \n",
       " 1704  0.0  0.0  12.0  16.0  14.0   8.0  0.0  0.0  0.0   7.0  ...   1.0   0.0   \n",
       " 1705  0.0  0.0   7.0  14.0  11.0   0.0  0.0  0.0  0.0   1.0  ...   4.0   0.0   \n",
       " 1706  0.0  0.0   9.0  16.0  14.0   6.0  0.0  0.0  0.0   6.0  ...   1.0   0.0   \n",
       " \n",
       "       p_57  p_58  p_59  p_60  p_61  p_62  p_63  p_64  \n",
       " 0      0.0   0.0   6.0  13.0  10.0   0.0   0.0   0.0  \n",
       " 1      0.0   0.0   0.0  11.0  16.0  10.0   0.0   0.0  \n",
       " 2      0.0   0.0   0.0   3.0  11.0  16.0   9.0   0.0  \n",
       " 3      0.0   0.0   7.0  13.0  13.0   9.0   0.0   0.0  \n",
       " 4      0.0   0.0   0.0   2.0  16.0   4.0   0.0   0.0  \n",
       " ...    ...   ...   ...   ...   ...   ...   ...   ...  \n",
       " 1702   0.0   1.0  10.0  14.0   2.0   0.0   0.0   0.0  \n",
       " 1703   0.0   0.0   4.0  15.0  12.0   2.0   0.0   0.0  \n",
       " 1704   0.0   1.0   9.0  16.0  14.0   3.0   0.0   0.0  \n",
       " 1705   0.0   0.0   7.0  15.0  16.0  16.0   3.0   0.0  \n",
       " 1706   0.0   0.0  10.0  16.0  13.0   4.0   0.0   0.0  \n",
       " \n",
       " [1707 rows x 64 columns],\n",
       " array([0, 1, 2, ..., 9, 8, 9]))"
      ]
     },
     "execution_count": 87,
     "metadata": {},
     "output_type": "execute_result"
    }
   ],
   "source": [
    "dftrain,y_train"
   ]
  },
  {
   "cell_type": "code",
   "execution_count": null,
   "id": "6fb40b11",
   "metadata": {},
   "outputs": [],
   "source": []
  }
 ],
 "metadata": {
  "kernelspec": {
   "display_name": "Python 3 (ipykernel)",
   "language": "python",
   "name": "python3"
  },
  "language_info": {
   "codemirror_mode": {
    "name": "ipython",
    "version": 3
   },
   "file_extension": ".py",
   "mimetype": "text/x-python",
   "name": "python",
   "nbconvert_exporter": "python",
   "pygments_lexer": "ipython3",
   "version": "3.7.16"
  }
 },
 "nbformat": 4,
 "nbformat_minor": 5
}
